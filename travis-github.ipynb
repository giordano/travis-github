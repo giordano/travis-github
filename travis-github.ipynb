{
 "cells": [
  {
   "cell_type": "code",
   "execution_count": 1,
   "metadata": {},
   "outputs": [],
   "source": [
    "function travis(concurrent_jobs, macos)\n",
    "    if concurrent_jobs ∉ (1, 2, 5)\n",
    "        error(\"Number of concurrent Travis jobs must be in 1, 2, or 5\")\n",
    "    end\n",
    "\n",
    "    total = 0.0\n",
    "    total += if concurrent_jobs == 1\n",
    "        69\n",
    "    elseif concurrent_jobs == 2\n",
    "        129\n",
    "    elseif concurrent_jobs == 5\n",
    "        249\n",
    "    end\n",
    "\n",
    "    # 15$ buys 25k credits, 1 macOS minute = 50 credits\n",
    "    total += 15 * cld(macos, 500)\n",
    "    return total\n",
    "end\n",
    "\n",
    "function github(plan, linux, macos, windows)\n",
    "    if plan ∉ (:free, :pro, :team, :enterprise)\n",
    "        error(\"GitHub Actions plan must be :free, :pro, :team or :enterprise\")\n",
    "    end\n",
    "    \n",
    "    if plan === :free\n",
    "        free_minutes = 2000\n",
    "        total = 0.0\n",
    "    elseif plan in (:pro, :team)\n",
    "        free_minutes = 3000\n",
    "        # We can have a Team plan for free\n",
    "        total = 0.0\n",
    "    elseif plan === :enterprise\n",
    "        free_minutes = 50_000\n",
    "        # They offer a University license: https://enterprise.github.com/faq#faq-23,\n",
    "        # but I have no idea what would be the price, let's guess\n",
    "        total = 100.0\n",
    "    end\n",
    "\n",
    "    total_minutes = linux + macos + windows\n",
    "    if iszero(total_minutes)\n",
    "        # Fast-track: no extra minute actually used,\n",
    "        # return the current total\n",
    "        return round(total; digits=2)\n",
    "    end\n",
    "\n",
    "    # Some guesswork: remove from the total minutes for each OS\n",
    "    # a time proportional to the free/total time ratio\n",
    "    linux, macos, windows = (linux, macos, windows) .* max(0, total_minutes - free_minutes) ./ total_minutes\n",
    "\n",
    "    total += linux * 0.008\n",
    "    total += macos * 0.08\n",
    "    total += windows * 0.016\n",
    "    return round(total; digits=2)\n",
    "end\n",
    "\n",
    "struct Summary\n",
    "    linux::Float64\n",
    "    macos::Float64\n",
    "    windows::Float64\n",
    "    travis_jobs::Int\n",
    "    github_plan::Symbol\n",
    "end\n",
    "\n",
    "function Base.show(io::IO, s::Summary)\n",
    "    println(io, \"Travis: \", travis(s.travis_jobs, s.macos), \"\\$/month\")\n",
    "    println(io, \"GitHub: \", github(s.github_plan, s.linux, s.macos, s.windows), \"\\$/month\")\n",
    "end"
   ]
  },
  {
   "cell_type": "code",
   "execution_count": 2,
   "metadata": {
    "scrolled": true
   },
   "outputs": [
    {
     "data": {
      "text/html": [
       "<script>\n",
       "// Immediately-invoked-function-expression to avoid global variables.\n",
       "(function() {\n",
       "    var warning_div = document.getElementById(\"webio-warning-2959689523694677764\");\n",
       "    var hide = function () {\n",
       "        var script = document.getElementById(\"webio-setup-14715963753565641140\");\n",
       "        var parent = script && script.parentElement;\n",
       "        var grandparent = parent && parent.parentElement;\n",
       "        if (grandparent) {\n",
       "            grandparent.style.display = \"none\";\n",
       "        }\n",
       "        warning_div.style.display = \"none\";\n",
       "    };\n",
       "    if (typeof Jupyter !== \"undefined\") {\n",
       "        console.log(\"WebIO detected Jupyter notebook environment.\");\n",
       "        // Jupyter notebook.\n",
       "        var extensions = (\n",
       "            Jupyter\n",
       "            && Jupyter.notebook.config.data\n",
       "            && Jupyter.notebook.config.data.load_extensions\n",
       "        );\n",
       "        if (extensions && extensions[\"webio-jupyter-notebook\"]) {\n",
       "            // Extension already loaded.\n",
       "            console.log(\"Jupyter WebIO nbextension detected; not loading ad-hoc.\");\n",
       "            hide();\n",
       "            return;\n",
       "        }\n",
       "    } else if (window.location.pathname.includes(\"/lab\")) {\n",
       "        // Guessing JupyterLa\n",
       "        console.log(\"Jupyter Lab detected; make sure the @webio/jupyter-lab-provider labextension is installed.\");\n",
       "        hide();\n",
       "        return;\n",
       "    }\n",
       "})();\n",
       "\n",
       "</script>\n",
       "<p\n",
       "    id=\"webio-warning-2959689523694677764\"\n",
       "    class=\"output_text output_stderr\"\n",
       "    style=\"padding: 1em; font-weight: bold;\"\n",
       ">\n",
       "    Unable to load WebIO. Please make sure WebIO works for your Jupyter client.\n",
       "    For troubleshooting, please see <a href=\"https://juliagizmos.github.io/WebIO.jl/latest/providers/ijulia/\">\n",
       "    the WebIO/IJulia documentation</a>.\n",
       "    <!-- TODO: link to installation docs. -->\n",
       "</p>\n"
      ],
      "text/plain": [
       "HTML{String}(\"<script>\\n// Immediately-invoked-function-expression to avoid global variables.\\n(function() {\\n    var warning_div = document.getElementById(\\\"webio-warning-2959689523694677764\\\");\\n    var hide = function () {\\n        var script = document.getElementById(\\\"webio-setup-14715963753565641140\\\");\\n        var parent = script && script.parentElement;\\n        var grandparent = parent && parent.parentElement;\\n        if (grandparent) {\\n            grandparent.style.display = \\\"none\\\";\\n        }\\n        warning_div.style.display = \\\"none\\\";\\n    };\\n    if (typeof Jupyter !== \\\"undefined\\\") {\\n        console.log(\\\"WebIO detected Jupyter notebook environment.\\\");\\n        // Jupyter notebook.\\n        var extensions = (\\n            Jupyter\\n            && Jupyter.notebook.config.data\\n            && Jupyter.notebook.config.data.load_extensions\\n        );\\n        if (extensions && extensions[\\\"webio-jupyter-notebook\\\"]) {\\n            // Extension already loaded.\\n            console.log(\\\"Jupyter WebIO nbextension detected; not loading ad-hoc.\\\");\\n            hide();\\n            return;\\n        }\\n    } else if (window.location.pathname.includes(\\\"/lab\\\")) {\\n        // Guessing JupyterLa\\n        console.log(\\\"Jupyter Lab detected; make sure the @webio/jupyter-lab-provider labextension is installed.\\\");\\n        hide();\\n        return;\\n    }\\n})();\\n\\n</script>\\n<p\\n    id=\\\"webio-warning-2959689523694677764\\\"\\n    class=\\\"output_text output_stderr\\\"\\n    style=\\\"padding: 1em; font-weight: bold;\\\"\\n>\\n    Unable to load WebIO. Please make sure WebIO works for your Jupyter client.\\n    For troubleshooting, please see <a href=\\\"https://juliagizmos.github.io/WebIO.jl/latest/providers/ijulia/\\\">\\n    the WebIO/IJulia documentation</a>.\\n    <!-- TODO: link to installation docs. -->\\n</p>\\n\")"
      ]
     },
     "metadata": {},
     "output_type": "display_data"
    },
    {
     "data": {
      "application/vnd.webio.node+json": {
       "children": [
        {
         "children": [
          {
           "children": [
            {
             "children": [
              {
               "children": [
                {
                 "children": [
                  "linux_minutes"
                 ],
                 "instanceArgs": {
                  "namespace": "html",
                  "tag": "label"
                 },
                 "nodeType": "DOM",
                 "props": {
                  "className": "interact ",
                  "style": {
                   "padding": "5px 10px 0px 10px"
                  }
                 },
                 "type": "node"
                }
               ],
               "instanceArgs": {
                "namespace": "html",
                "tag": "div"
               },
               "nodeType": "DOM",
               "props": {
                "className": "interact-flex-row-left"
               },
               "type": "node"
              },
              {
               "children": [
                {
                 "children": [],
                 "instanceArgs": {
                  "namespace": "html",
                  "tag": "input"
                 },
                 "nodeType": "DOM",
                 "props": {
                  "attributes": {
                   "data-bind": "numericValue: index, valueUpdate: 'input', event: {change: function (){this.changes(this.changes()+1)}}",
                   "orient": "horizontal",
                   "type": "range"
                  },
                  "className": "slider slider is-fullwidth",
                  "max": 501,
                  "min": 1,
                  "step": 1,
                  "style": {}
                 },
                 "type": "node"
                }
               ],
               "instanceArgs": {
                "namespace": "html",
                "tag": "div"
               },
               "nodeType": "DOM",
               "props": {
                "className": "interact-flex-row-center"
               },
               "type": "node"
              },
              {
               "children": [
                {
                 "children": [],
                 "instanceArgs": {
                  "namespace": "html",
                  "tag": "p"
                 },
                 "nodeType": "DOM",
                 "props": {
                  "attributes": {
                   "data-bind": "text: formatted_val"
                  }
                 },
                 "type": "node"
                }
               ],
               "instanceArgs": {
                "namespace": "html",
                "tag": "div"
               },
               "nodeType": "DOM",
               "props": {
                "className": "interact-flex-row-right"
               },
               "type": "node"
              }
             ],
             "instanceArgs": {
              "namespace": "html",
              "tag": "div"
             },
             "nodeType": "DOM",
             "props": {
              "className": "interact-flex-row interact-widget"
             },
             "type": "node"
            }
           ],
           "instanceArgs": {
            "handlers": {
             "changes": [
              "(function (val){return (val!=this.model[\"changes\"]()) ? (this.valueFromJulia[\"changes\"]=true, this.model[\"changes\"](val)) : undefined})"
             ],
             "index": [
              "(function (val){return (val!=this.model[\"index\"]()) ? (this.valueFromJulia[\"index\"]=true, this.model[\"index\"](val)) : undefined})"
             ]
            },
            "id": "11060369278863744538",
            "imports": {
             "data": [
              {
               "name": "knockout",
               "type": "js",
               "url": "/assetserver/10d708ba80251634938ce239226941fe03559024-knockout.js"
              },
              {
               "name": "knockout_punches",
               "type": "js",
               "url": "/assetserver/dfe40853171940bd9da9c6b86f9757768070aa9d-knockout_punches.js"
              },
              {
               "name": null,
               "type": "js",
               "url": "/assetserver/fb3865ccce2e96c5166aa727e18d0923f668c890-all.js"
              },
              {
               "name": null,
               "type": "css",
               "url": "/assetserver/313b950d52846c718c545b2c92fe9725552b86f1-style.css"
              },
              {
               "name": null,
               "type": "css",
               "url": "/assetserver/70b42bc181e94ec1d79c1b4b343ce35203684157-bulma_confined.min.css"
              }
             ],
             "type": "async_block"
            },
            "mount_callbacks": [
             "function () {\n    var handler = (function (ko, koPunches) {\n    ko.punches.enableAll();\n    ko.bindingHandlers.numericValue = {\n        init: function(element, valueAccessor, allBindings, data, context) {\n            var stringified = ko.observable(ko.unwrap(valueAccessor()));\n            stringified.subscribe(function(value) {\n                var val = parseFloat(value);\n                if (!isNaN(val)) {\n                    valueAccessor()(val);\n                }\n            });\n            valueAccessor().subscribe(function(value) {\n                var str = JSON.stringify(value);\n                if ((str == \"0\") && ([\"-0\", \"-0.\"].indexOf(stringified()) >= 0))\n                     return;\n                 if ([\"null\", \"\"].indexOf(str) >= 0)\n                     return;\n                stringified(str);\n            });\n            ko.applyBindingsToNode(\n                element,\n                {\n                    value: stringified,\n                    valueUpdate: allBindings.get('valueUpdate'),\n                },\n                context,\n            );\n        }\n    };\n    var json_data = {\"formatted_vals\":[\"0.0\",\"100.0\",\"200.0\",\"300.0\",\"400.0\",\"500.0\",\"600.0\",\"700.0\",\"800.0\",\"900.0\",\"1000.0\",\"1100.0\",\"1200.0\",\"1300.0\",\"1400.0\",\"1500.0\",\"1600.0\",\"1700.0\",\"1800.0\",\"1900.0\",\"2000.0\",\"2100.0\",\"2200.0\",\"2300.0\",\"2400.0\",\"2500.0\",\"2600.0\",\"2700.0\",\"2800.0\",\"2900.0\",\"3000.0\",\"3100.0\",\"3200.0\",\"3300.0\",\"3400.0\",\"3500.0\",\"3600.0\",\"3700.0\",\"3800.0\",\"3900.0\",\"4000.0\",\"4100.0\",\"4200.0\",\"4300.0\",\"4400.0\",\"4500.0\",\"4600.0\",\"4700.0\",\"4800.0\",\"4900.0\",\"5000.0\",\"5100.0\",\"5200.0\",\"5300.0\",\"5400.0\",\"5500.0\",\"5600.0\",\"5700.0\",\"5800.0\",\"5900.0\",\"6000.0\",\"6100.0\",\"6200.0\",\"6300.0\",\"6400.0\",\"6500.0\",\"6600.0\",\"6700.0\",\"6800.0\",\"6900.0\",\"7000.0\",\"7100.0\",\"7200.0\",\"7300.0\",\"7400.0\",\"7500.0\",\"7600.0\",\"7700.0\",\"7800.0\",\"7900.0\",\"8000.0\",\"8100.0\",\"8200.0\",\"8300.0\",\"8400.0\",\"8500.0\",\"8600.0\",\"8700.0\",\"8800.0\",\"8900.0\",\"9000.0\",\"9100.0\",\"9200.0\",\"9300.0\",\"9400.0\",\"9500.0\",\"9600.0\",\"9700.0\",\"9800.0\",\"9900.0\",\"10000.0\",\"10100.0\",\"10200.0\",\"10300.0\",\"10400.0\",\"10500.0\",\"10600.0\",\"10700.0\",\"10800.0\",\"10900.0\",\"11000.0\",\"11100.0\",\"11200.0\",\"11300.0\",\"11400.0\",\"11500.0\",\"11600.0\",\"11700.0\",\"11800.0\",\"11900.0\",\"12000.0\",\"12100.0\",\"12200.0\",\"12300.0\",\"12400.0\",\"12500.0\",\"12600.0\",\"12700.0\",\"12800.0\",\"12900.0\",\"13000.0\",\"13100.0\",\"13200.0\",\"13300.0\",\"13400.0\",\"13500.0\",\"13600.0\",\"13700.0\",\"13800.0\",\"13900.0\",\"14000.0\",\"14100.0\",\"14200.0\",\"14300.0\",\"14400.0\",\"14500.0\",\"14600.0\",\"14700.0\",\"14800.0\",\"14900.0\",\"15000.0\",\"15100.0\",\"15200.0\",\"15300.0\",\"15400.0\",\"15500.0\",\"15600.0\",\"15700.0\",\"15800.0\",\"15900.0\",\"16000.0\",\"16100.0\",\"16200.0\",\"16300.0\",\"16400.0\",\"16500.0\",\"16600.0\",\"16700.0\",\"16800.0\",\"16900.0\",\"17000.0\",\"17100.0\",\"17200.0\",\"17300.0\",\"17400.0\",\"17500.0\",\"17600.0\",\"17700.0\",\"17800.0\",\"17900.0\",\"18000.0\",\"18100.0\",\"18200.0\",\"18300.0\",\"18400.0\",\"18500.0\",\"18600.0\",\"18700.0\",\"18800.0\",\"18900.0\",\"19000.0\",\"19100.0\",\"19200.0\",\"19300.0\",\"19400.0\",\"19500.0\",\"19600.0\",\"19700.0\",\"19800.0\",\"19900.0\",\"20000.0\",\"20100.0\",\"20200.0\",\"20300.0\",\"20400.0\",\"20500.0\",\"20600.0\",\"20700.0\",\"20800.0\",\"20900.0\",\"21000.0\",\"21100.0\",\"21200.0\",\"21300.0\",\"21400.0\",\"21500.0\",\"21600.0\",\"21700.0\",\"21800.0\",\"21900.0\",\"22000.0\",\"22100.0\",\"22200.0\",\"22300.0\",\"22400.0\",\"22500.0\",\"22600.0\",\"22700.0\",\"22800.0\",\"22900.0\",\"23000.0\",\"23100.0\",\"23200.0\",\"23300.0\",\"23400.0\",\"23500.0\",\"23600.0\",\"23700.0\",\"23800.0\",\"23900.0\",\"24000.0\",\"24100.0\",\"24200.0\",\"24300.0\",\"24400.0\",\"24500.0\",\"24600.0\",\"24700.0\",\"24800.0\",\"24900.0\",\"25000.0\",\"25100.0\",\"25200.0\",\"25300.0\",\"25400.0\",\"25500.0\",\"25600.0\",\"25700.0\",\"25800.0\",\"25900.0\",\"26000.0\",\"26100.0\",\"26200.0\",\"26300.0\",\"26400.0\",\"26500.0\",\"26600.0\",\"26700.0\",\"26800.0\",\"26900.0\",\"27000.0\",\"27100.0\",\"27200.0\",\"27300.0\",\"27400.0\",\"27500.0\",\"27600.0\",\"27700.0\",\"27800.0\",\"27900.0\",\"28000.0\",\"28100.0\",\"28200.0\",\"28300.0\",\"28400.0\",\"28500.0\",\"28600.0\",\"28700.0\",\"28800.0\",\"28900.0\",\"29000.0\",\"29100.0\",\"29200.0\",\"29300.0\",\"29400.0\",\"29500.0\",\"29600.0\",\"29700.0\",\"29800.0\",\"29900.0\",\"30000.0\",\"30100.0\",\"30200.0\",\"30300.0\",\"30400.0\",\"30500.0\",\"30600.0\",\"30700.0\",\"30800.0\",\"30900.0\",\"31000.0\",\"31100.0\",\"31200.0\",\"31300.0\",\"31400.0\",\"31500.0\",\"31600.0\",\"31700.0\",\"31800.0\",\"31900.0\",\"32000.0\",\"32100.0\",\"32200.0\",\"32300.0\",\"32400.0\",\"32500.0\",\"32600.0\",\"32700.0\",\"32800.0\",\"32900.0\",\"33000.0\",\"33100.0\",\"33200.0\",\"33300.0\",\"33400.0\",\"33500.0\",\"33600.0\",\"33700.0\",\"33800.0\",\"33900.0\",\"34000.0\",\"34100.0\",\"34200.0\",\"34300.0\",\"34400.0\",\"34500.0\",\"34600.0\",\"34700.0\",\"34800.0\",\"34900.0\",\"35000.0\",\"35100.0\",\"35200.0\",\"35300.0\",\"35400.0\",\"35500.0\",\"35600.0\",\"35700.0\",\"35800.0\",\"35900.0\",\"36000.0\",\"36100.0\",\"36200.0\",\"36300.0\",\"36400.0\",\"36500.0\",\"36600.0\",\"36700.0\",\"36800.0\",\"36900.0\",\"37000.0\",\"37100.0\",\"37200.0\",\"37300.0\",\"37400.0\",\"37500.0\",\"37600.0\",\"37700.0\",\"37800.0\",\"37900.0\",\"38000.0\",\"38100.0\",\"38200.0\",\"38300.0\",\"38400.0\",\"38500.0\",\"38600.0\",\"38700.0\",\"38800.0\",\"38900.0\",\"39000.0\",\"39100.0\",\"39200.0\",\"39300.0\",\"39400.0\",\"39500.0\",\"39600.0\",\"39700.0\",\"39800.0\",\"39900.0\",\"40000.0\",\"40100.0\",\"40200.0\",\"40300.0\",\"40400.0\",\"40500.0\",\"40600.0\",\"40700.0\",\"40800.0\",\"40900.0\",\"41000.0\",\"41100.0\",\"41200.0\",\"41300.0\",\"41400.0\",\"41500.0\",\"41600.0\",\"41700.0\",\"41800.0\",\"41900.0\",\"42000.0\",\"42100.0\",\"42200.0\",\"42300.0\",\"42400.0\",\"42500.0\",\"42600.0\",\"42700.0\",\"42800.0\",\"42900.0\",\"43000.0\",\"43100.0\",\"43200.0\",\"43300.0\",\"43400.0\",\"43500.0\",\"43600.0\",\"43700.0\",\"43800.0\",\"43900.0\",\"44000.0\",\"44100.0\",\"44200.0\",\"44300.0\",\"44400.0\",\"44500.0\",\"44600.0\",\"44700.0\",\"44800.0\",\"44900.0\",\"45000.0\",\"45100.0\",\"45200.0\",\"45300.0\",\"45400.0\",\"45500.0\",\"45600.0\",\"45700.0\",\"45800.0\",\"45900.0\",\"46000.0\",\"46100.0\",\"46200.0\",\"46300.0\",\"46400.0\",\"46500.0\",\"46600.0\",\"46700.0\",\"46800.0\",\"46900.0\",\"47000.0\",\"47100.0\",\"47200.0\",\"47300.0\",\"47400.0\",\"47500.0\",\"47600.0\",\"47700.0\",\"47800.0\",\"47900.0\",\"48000.0\",\"48100.0\",\"48200.0\",\"48300.0\",\"48400.0\",\"48500.0\",\"48600.0\",\"48700.0\",\"48800.0\",\"48900.0\",\"49000.0\",\"49100.0\",\"49200.0\",\"49300.0\",\"49400.0\",\"49500.0\",\"49600.0\",\"49700.0\",\"49800.0\",\"49900.0\",\"50000.0\"],\"changes\":WebIO.getval({\"name\":\"changes\",\"scope\":\"11060369278863744538\",\"id\":\"6341356691940169987\",\"type\":\"observable\"}),\"index\":WebIO.getval({\"name\":\"index\",\"scope\":\"11060369278863744538\",\"id\":\"10928300254059225478\",\"type\":\"observable\"})};\n    var self = this;\n    function AppViewModel() {\n        for (var key in json_data) {\n            var el = json_data[key];\n            this[key] = Array.isArray(el) ? ko.observableArray(el) : ko.observable(el);\n        }\n        \n        [this[\"formatted_val\"]=ko.computed(    function(){\n        return this.formatted_vals()[parseInt(this.index())-(1)];\n    }\n,this)]\n        [this[\"changes\"].subscribe((function (val){!(this.valueFromJulia[\"changes\"]) ? (WebIO.setval({\"name\":\"changes\",\"scope\":\"11060369278863744538\",\"id\":\"6341356691940169987\",\"type\":\"observable\"},val)) : undefined; return this.valueFromJulia[\"changes\"]=false}),self),this[\"index\"].subscribe((function (val){!(this.valueFromJulia[\"index\"]) ? (WebIO.setval({\"name\":\"index\",\"scope\":\"11060369278863744538\",\"id\":\"10928300254059225478\",\"type\":\"observable\"},val)) : undefined; return this.valueFromJulia[\"index\"]=false}),self)]\n        \n    }\n    self.model = new AppViewModel();\n    self.valueFromJulia = {};\n    for (var key in json_data) {\n        self.valueFromJulia[key] = false;\n    }\n    ko.applyBindings(self.model, self.dom);\n}\n);\n    (WebIO.importBlock({\"data\":[{\"name\":\"knockout\",\"type\":\"js\",\"url\":\"/assetserver/10d708ba80251634938ce239226941fe03559024-knockout.js\"},{\"name\":\"knockout_punches\",\"type\":\"js\",\"url\":\"/assetserver/dfe40853171940bd9da9c6b86f9757768070aa9d-knockout_punches.js\"}],\"type\":\"async_block\"})).then((imports) => handler.apply(this, imports));\n}\n"
            ],
            "observables": {
             "changes": {
              "id": "6341356691940169987",
              "sync": false,
              "value": 0
             },
             "index": {
              "id": "10928300254059225478",
              "sync": true,
              "value": 251
             }
            },
            "systemjs_options": null
           },
           "nodeType": "Scope",
           "props": {},
           "type": "node"
          }
         ],
         "instanceArgs": {
          "namespace": "html",
          "tag": "div"
         },
         "nodeType": "DOM",
         "props": {
          "className": "field interact-widget"
         },
         "type": "node"
        },
        {
         "children": [
          {
           "children": [
            {
             "children": [
              {
               "children": [
                {
                 "children": [
                  "macos_minutes"
                 ],
                 "instanceArgs": {
                  "namespace": "html",
                  "tag": "label"
                 },
                 "nodeType": "DOM",
                 "props": {
                  "className": "interact ",
                  "style": {
                   "padding": "5px 10px 0px 10px"
                  }
                 },
                 "type": "node"
                }
               ],
               "instanceArgs": {
                "namespace": "html",
                "tag": "div"
               },
               "nodeType": "DOM",
               "props": {
                "className": "interact-flex-row-left"
               },
               "type": "node"
              },
              {
               "children": [
                {
                 "children": [],
                 "instanceArgs": {
                  "namespace": "html",
                  "tag": "input"
                 },
                 "nodeType": "DOM",
                 "props": {
                  "attributes": {
                   "data-bind": "numericValue: index, valueUpdate: 'input', event: {change: function (){this.changes(this.changes()+1)}}",
                   "orient": "horizontal",
                   "type": "range"
                  },
                  "className": "slider slider is-fullwidth",
                  "max": 501,
                  "min": 1,
                  "step": 1,
                  "style": {}
                 },
                 "type": "node"
                }
               ],
               "instanceArgs": {
                "namespace": "html",
                "tag": "div"
               },
               "nodeType": "DOM",
               "props": {
                "className": "interact-flex-row-center"
               },
               "type": "node"
              },
              {
               "children": [
                {
                 "children": [],
                 "instanceArgs": {
                  "namespace": "html",
                  "tag": "p"
                 },
                 "nodeType": "DOM",
                 "props": {
                  "attributes": {
                   "data-bind": "text: formatted_val"
                  }
                 },
                 "type": "node"
                }
               ],
               "instanceArgs": {
                "namespace": "html",
                "tag": "div"
               },
               "nodeType": "DOM",
               "props": {
                "className": "interact-flex-row-right"
               },
               "type": "node"
              }
             ],
             "instanceArgs": {
              "namespace": "html",
              "tag": "div"
             },
             "nodeType": "DOM",
             "props": {
              "className": "interact-flex-row interact-widget"
             },
             "type": "node"
            }
           ],
           "instanceArgs": {
            "handlers": {
             "changes": [
              "(function (val){return (val!=this.model[\"changes\"]()) ? (this.valueFromJulia[\"changes\"]=true, this.model[\"changes\"](val)) : undefined})"
             ],
             "index": [
              "(function (val){return (val!=this.model[\"index\"]()) ? (this.valueFromJulia[\"index\"]=true, this.model[\"index\"](val)) : undefined})"
             ]
            },
            "id": "390152884006693710",
            "imports": {
             "data": [
              {
               "name": "knockout",
               "type": "js",
               "url": "/assetserver/10d708ba80251634938ce239226941fe03559024-knockout.js"
              },
              {
               "name": "knockout_punches",
               "type": "js",
               "url": "/assetserver/dfe40853171940bd9da9c6b86f9757768070aa9d-knockout_punches.js"
              },
              {
               "name": null,
               "type": "js",
               "url": "/assetserver/fb3865ccce2e96c5166aa727e18d0923f668c890-all.js"
              },
              {
               "name": null,
               "type": "css",
               "url": "/assetserver/313b950d52846c718c545b2c92fe9725552b86f1-style.css"
              },
              {
               "name": null,
               "type": "css",
               "url": "/assetserver/70b42bc181e94ec1d79c1b4b343ce35203684157-bulma_confined.min.css"
              }
             ],
             "type": "async_block"
            },
            "mount_callbacks": [
             "function () {\n    var handler = (function (ko, koPunches) {\n    ko.punches.enableAll();\n    ko.bindingHandlers.numericValue = {\n        init: function(element, valueAccessor, allBindings, data, context) {\n            var stringified = ko.observable(ko.unwrap(valueAccessor()));\n            stringified.subscribe(function(value) {\n                var val = parseFloat(value);\n                if (!isNaN(val)) {\n                    valueAccessor()(val);\n                }\n            });\n            valueAccessor().subscribe(function(value) {\n                var str = JSON.stringify(value);\n                if ((str == \"0\") && ([\"-0\", \"-0.\"].indexOf(stringified()) >= 0))\n                     return;\n                 if ([\"null\", \"\"].indexOf(str) >= 0)\n                     return;\n                stringified(str);\n            });\n            ko.applyBindingsToNode(\n                element,\n                {\n                    value: stringified,\n                    valueUpdate: allBindings.get('valueUpdate'),\n                },\n                context,\n            );\n        }\n    };\n    var json_data = {\"formatted_vals\":[\"0.0\",\"100.0\",\"200.0\",\"300.0\",\"400.0\",\"500.0\",\"600.0\",\"700.0\",\"800.0\",\"900.0\",\"1000.0\",\"1100.0\",\"1200.0\",\"1300.0\",\"1400.0\",\"1500.0\",\"1600.0\",\"1700.0\",\"1800.0\",\"1900.0\",\"2000.0\",\"2100.0\",\"2200.0\",\"2300.0\",\"2400.0\",\"2500.0\",\"2600.0\",\"2700.0\",\"2800.0\",\"2900.0\",\"3000.0\",\"3100.0\",\"3200.0\",\"3300.0\",\"3400.0\",\"3500.0\",\"3600.0\",\"3700.0\",\"3800.0\",\"3900.0\",\"4000.0\",\"4100.0\",\"4200.0\",\"4300.0\",\"4400.0\",\"4500.0\",\"4600.0\",\"4700.0\",\"4800.0\",\"4900.0\",\"5000.0\",\"5100.0\",\"5200.0\",\"5300.0\",\"5400.0\",\"5500.0\",\"5600.0\",\"5700.0\",\"5800.0\",\"5900.0\",\"6000.0\",\"6100.0\",\"6200.0\",\"6300.0\",\"6400.0\",\"6500.0\",\"6600.0\",\"6700.0\",\"6800.0\",\"6900.0\",\"7000.0\",\"7100.0\",\"7200.0\",\"7300.0\",\"7400.0\",\"7500.0\",\"7600.0\",\"7700.0\",\"7800.0\",\"7900.0\",\"8000.0\",\"8100.0\",\"8200.0\",\"8300.0\",\"8400.0\",\"8500.0\",\"8600.0\",\"8700.0\",\"8800.0\",\"8900.0\",\"9000.0\",\"9100.0\",\"9200.0\",\"9300.0\",\"9400.0\",\"9500.0\",\"9600.0\",\"9700.0\",\"9800.0\",\"9900.0\",\"10000.0\",\"10100.0\",\"10200.0\",\"10300.0\",\"10400.0\",\"10500.0\",\"10600.0\",\"10700.0\",\"10800.0\",\"10900.0\",\"11000.0\",\"11100.0\",\"11200.0\",\"11300.0\",\"11400.0\",\"11500.0\",\"11600.0\",\"11700.0\",\"11800.0\",\"11900.0\",\"12000.0\",\"12100.0\",\"12200.0\",\"12300.0\",\"12400.0\",\"12500.0\",\"12600.0\",\"12700.0\",\"12800.0\",\"12900.0\",\"13000.0\",\"13100.0\",\"13200.0\",\"13300.0\",\"13400.0\",\"13500.0\",\"13600.0\",\"13700.0\",\"13800.0\",\"13900.0\",\"14000.0\",\"14100.0\",\"14200.0\",\"14300.0\",\"14400.0\",\"14500.0\",\"14600.0\",\"14700.0\",\"14800.0\",\"14900.0\",\"15000.0\",\"15100.0\",\"15200.0\",\"15300.0\",\"15400.0\",\"15500.0\",\"15600.0\",\"15700.0\",\"15800.0\",\"15900.0\",\"16000.0\",\"16100.0\",\"16200.0\",\"16300.0\",\"16400.0\",\"16500.0\",\"16600.0\",\"16700.0\",\"16800.0\",\"16900.0\",\"17000.0\",\"17100.0\",\"17200.0\",\"17300.0\",\"17400.0\",\"17500.0\",\"17600.0\",\"17700.0\",\"17800.0\",\"17900.0\",\"18000.0\",\"18100.0\",\"18200.0\",\"18300.0\",\"18400.0\",\"18500.0\",\"18600.0\",\"18700.0\",\"18800.0\",\"18900.0\",\"19000.0\",\"19100.0\",\"19200.0\",\"19300.0\",\"19400.0\",\"19500.0\",\"19600.0\",\"19700.0\",\"19800.0\",\"19900.0\",\"20000.0\",\"20100.0\",\"20200.0\",\"20300.0\",\"20400.0\",\"20500.0\",\"20600.0\",\"20700.0\",\"20800.0\",\"20900.0\",\"21000.0\",\"21100.0\",\"21200.0\",\"21300.0\",\"21400.0\",\"21500.0\",\"21600.0\",\"21700.0\",\"21800.0\",\"21900.0\",\"22000.0\",\"22100.0\",\"22200.0\",\"22300.0\",\"22400.0\",\"22500.0\",\"22600.0\",\"22700.0\",\"22800.0\",\"22900.0\",\"23000.0\",\"23100.0\",\"23200.0\",\"23300.0\",\"23400.0\",\"23500.0\",\"23600.0\",\"23700.0\",\"23800.0\",\"23900.0\",\"24000.0\",\"24100.0\",\"24200.0\",\"24300.0\",\"24400.0\",\"24500.0\",\"24600.0\",\"24700.0\",\"24800.0\",\"24900.0\",\"25000.0\",\"25100.0\",\"25200.0\",\"25300.0\",\"25400.0\",\"25500.0\",\"25600.0\",\"25700.0\",\"25800.0\",\"25900.0\",\"26000.0\",\"26100.0\",\"26200.0\",\"26300.0\",\"26400.0\",\"26500.0\",\"26600.0\",\"26700.0\",\"26800.0\",\"26900.0\",\"27000.0\",\"27100.0\",\"27200.0\",\"27300.0\",\"27400.0\",\"27500.0\",\"27600.0\",\"27700.0\",\"27800.0\",\"27900.0\",\"28000.0\",\"28100.0\",\"28200.0\",\"28300.0\",\"28400.0\",\"28500.0\",\"28600.0\",\"28700.0\",\"28800.0\",\"28900.0\",\"29000.0\",\"29100.0\",\"29200.0\",\"29300.0\",\"29400.0\",\"29500.0\",\"29600.0\",\"29700.0\",\"29800.0\",\"29900.0\",\"30000.0\",\"30100.0\",\"30200.0\",\"30300.0\",\"30400.0\",\"30500.0\",\"30600.0\",\"30700.0\",\"30800.0\",\"30900.0\",\"31000.0\",\"31100.0\",\"31200.0\",\"31300.0\",\"31400.0\",\"31500.0\",\"31600.0\",\"31700.0\",\"31800.0\",\"31900.0\",\"32000.0\",\"32100.0\",\"32200.0\",\"32300.0\",\"32400.0\",\"32500.0\",\"32600.0\",\"32700.0\",\"32800.0\",\"32900.0\",\"33000.0\",\"33100.0\",\"33200.0\",\"33300.0\",\"33400.0\",\"33500.0\",\"33600.0\",\"33700.0\",\"33800.0\",\"33900.0\",\"34000.0\",\"34100.0\",\"34200.0\",\"34300.0\",\"34400.0\",\"34500.0\",\"34600.0\",\"34700.0\",\"34800.0\",\"34900.0\",\"35000.0\",\"35100.0\",\"35200.0\",\"35300.0\",\"35400.0\",\"35500.0\",\"35600.0\",\"35700.0\",\"35800.0\",\"35900.0\",\"36000.0\",\"36100.0\",\"36200.0\",\"36300.0\",\"36400.0\",\"36500.0\",\"36600.0\",\"36700.0\",\"36800.0\",\"36900.0\",\"37000.0\",\"37100.0\",\"37200.0\",\"37300.0\",\"37400.0\",\"37500.0\",\"37600.0\",\"37700.0\",\"37800.0\",\"37900.0\",\"38000.0\",\"38100.0\",\"38200.0\",\"38300.0\",\"38400.0\",\"38500.0\",\"38600.0\",\"38700.0\",\"38800.0\",\"38900.0\",\"39000.0\",\"39100.0\",\"39200.0\",\"39300.0\",\"39400.0\",\"39500.0\",\"39600.0\",\"39700.0\",\"39800.0\",\"39900.0\",\"40000.0\",\"40100.0\",\"40200.0\",\"40300.0\",\"40400.0\",\"40500.0\",\"40600.0\",\"40700.0\",\"40800.0\",\"40900.0\",\"41000.0\",\"41100.0\",\"41200.0\",\"41300.0\",\"41400.0\",\"41500.0\",\"41600.0\",\"41700.0\",\"41800.0\",\"41900.0\",\"42000.0\",\"42100.0\",\"42200.0\",\"42300.0\",\"42400.0\",\"42500.0\",\"42600.0\",\"42700.0\",\"42800.0\",\"42900.0\",\"43000.0\",\"43100.0\",\"43200.0\",\"43300.0\",\"43400.0\",\"43500.0\",\"43600.0\",\"43700.0\",\"43800.0\",\"43900.0\",\"44000.0\",\"44100.0\",\"44200.0\",\"44300.0\",\"44400.0\",\"44500.0\",\"44600.0\",\"44700.0\",\"44800.0\",\"44900.0\",\"45000.0\",\"45100.0\",\"45200.0\",\"45300.0\",\"45400.0\",\"45500.0\",\"45600.0\",\"45700.0\",\"45800.0\",\"45900.0\",\"46000.0\",\"46100.0\",\"46200.0\",\"46300.0\",\"46400.0\",\"46500.0\",\"46600.0\",\"46700.0\",\"46800.0\",\"46900.0\",\"47000.0\",\"47100.0\",\"47200.0\",\"47300.0\",\"47400.0\",\"47500.0\",\"47600.0\",\"47700.0\",\"47800.0\",\"47900.0\",\"48000.0\",\"48100.0\",\"48200.0\",\"48300.0\",\"48400.0\",\"48500.0\",\"48600.0\",\"48700.0\",\"48800.0\",\"48900.0\",\"49000.0\",\"49100.0\",\"49200.0\",\"49300.0\",\"49400.0\",\"49500.0\",\"49600.0\",\"49700.0\",\"49800.0\",\"49900.0\",\"50000.0\"],\"changes\":WebIO.getval({\"name\":\"changes\",\"scope\":\"390152884006693710\",\"id\":\"10537923239805161659\",\"type\":\"observable\"}),\"index\":WebIO.getval({\"name\":\"index\",\"scope\":\"390152884006693710\",\"id\":\"369996787126156768\",\"type\":\"observable\"})};\n    var self = this;\n    function AppViewModel() {\n        for (var key in json_data) {\n            var el = json_data[key];\n            this[key] = Array.isArray(el) ? ko.observableArray(el) : ko.observable(el);\n        }\n        \n        [this[\"formatted_val\"]=ko.computed(    function(){\n        return this.formatted_vals()[parseInt(this.index())-(1)];\n    }\n,this)]\n        [this[\"changes\"].subscribe((function (val){!(this.valueFromJulia[\"changes\"]) ? (WebIO.setval({\"name\":\"changes\",\"scope\":\"390152884006693710\",\"id\":\"10537923239805161659\",\"type\":\"observable\"},val)) : undefined; return this.valueFromJulia[\"changes\"]=false}),self),this[\"index\"].subscribe((function (val){!(this.valueFromJulia[\"index\"]) ? (WebIO.setval({\"name\":\"index\",\"scope\":\"390152884006693710\",\"id\":\"369996787126156768\",\"type\":\"observable\"},val)) : undefined; return this.valueFromJulia[\"index\"]=false}),self)]\n        \n    }\n    self.model = new AppViewModel();\n    self.valueFromJulia = {};\n    for (var key in json_data) {\n        self.valueFromJulia[key] = false;\n    }\n    ko.applyBindings(self.model, self.dom);\n}\n);\n    (WebIO.importBlock({\"data\":[{\"name\":\"knockout\",\"type\":\"js\",\"url\":\"/assetserver/10d708ba80251634938ce239226941fe03559024-knockout.js\"},{\"name\":\"knockout_punches\",\"type\":\"js\",\"url\":\"/assetserver/dfe40853171940bd9da9c6b86f9757768070aa9d-knockout_punches.js\"}],\"type\":\"async_block\"})).then((imports) => handler.apply(this, imports));\n}\n"
            ],
            "observables": {
             "changes": {
              "id": "10537923239805161659",
              "sync": false,
              "value": 0
             },
             "index": {
              "id": "369996787126156768",
              "sync": true,
              "value": 251
             }
            },
            "systemjs_options": null
           },
           "nodeType": "Scope",
           "props": {},
           "type": "node"
          }
         ],
         "instanceArgs": {
          "namespace": "html",
          "tag": "div"
         },
         "nodeType": "DOM",
         "props": {
          "className": "field interact-widget"
         },
         "type": "node"
        },
        {
         "children": [
          {
           "children": [
            {
             "children": [
              {
               "children": [
                {
                 "children": [
                  "windows_minutes"
                 ],
                 "instanceArgs": {
                  "namespace": "html",
                  "tag": "label"
                 },
                 "nodeType": "DOM",
                 "props": {
                  "className": "interact ",
                  "style": {
                   "padding": "5px 10px 0px 10px"
                  }
                 },
                 "type": "node"
                }
               ],
               "instanceArgs": {
                "namespace": "html",
                "tag": "div"
               },
               "nodeType": "DOM",
               "props": {
                "className": "interact-flex-row-left"
               },
               "type": "node"
              },
              {
               "children": [
                {
                 "children": [],
                 "instanceArgs": {
                  "namespace": "html",
                  "tag": "input"
                 },
                 "nodeType": "DOM",
                 "props": {
                  "attributes": {
                   "data-bind": "numericValue: index, valueUpdate: 'input', event: {change: function (){this.changes(this.changes()+1)}}",
                   "orient": "horizontal",
                   "type": "range"
                  },
                  "className": "slider slider is-fullwidth",
                  "max": 501,
                  "min": 1,
                  "step": 1,
                  "style": {}
                 },
                 "type": "node"
                }
               ],
               "instanceArgs": {
                "namespace": "html",
                "tag": "div"
               },
               "nodeType": "DOM",
               "props": {
                "className": "interact-flex-row-center"
               },
               "type": "node"
              },
              {
               "children": [
                {
                 "children": [],
                 "instanceArgs": {
                  "namespace": "html",
                  "tag": "p"
                 },
                 "nodeType": "DOM",
                 "props": {
                  "attributes": {
                   "data-bind": "text: formatted_val"
                  }
                 },
                 "type": "node"
                }
               ],
               "instanceArgs": {
                "namespace": "html",
                "tag": "div"
               },
               "nodeType": "DOM",
               "props": {
                "className": "interact-flex-row-right"
               },
               "type": "node"
              }
             ],
             "instanceArgs": {
              "namespace": "html",
              "tag": "div"
             },
             "nodeType": "DOM",
             "props": {
              "className": "interact-flex-row interact-widget"
             },
             "type": "node"
            }
           ],
           "instanceArgs": {
            "handlers": {
             "changes": [
              "(function (val){return (val!=this.model[\"changes\"]()) ? (this.valueFromJulia[\"changes\"]=true, this.model[\"changes\"](val)) : undefined})"
             ],
             "index": [
              "(function (val){return (val!=this.model[\"index\"]()) ? (this.valueFromJulia[\"index\"]=true, this.model[\"index\"](val)) : undefined})"
             ]
            },
            "id": "7868247203926303252",
            "imports": {
             "data": [
              {
               "name": "knockout",
               "type": "js",
               "url": "/assetserver/10d708ba80251634938ce239226941fe03559024-knockout.js"
              },
              {
               "name": "knockout_punches",
               "type": "js",
               "url": "/assetserver/dfe40853171940bd9da9c6b86f9757768070aa9d-knockout_punches.js"
              },
              {
               "name": null,
               "type": "js",
               "url": "/assetserver/fb3865ccce2e96c5166aa727e18d0923f668c890-all.js"
              },
              {
               "name": null,
               "type": "css",
               "url": "/assetserver/313b950d52846c718c545b2c92fe9725552b86f1-style.css"
              },
              {
               "name": null,
               "type": "css",
               "url": "/assetserver/70b42bc181e94ec1d79c1b4b343ce35203684157-bulma_confined.min.css"
              }
             ],
             "type": "async_block"
            },
            "mount_callbacks": [
             "function () {\n    var handler = (function (ko, koPunches) {\n    ko.punches.enableAll();\n    ko.bindingHandlers.numericValue = {\n        init: function(element, valueAccessor, allBindings, data, context) {\n            var stringified = ko.observable(ko.unwrap(valueAccessor()));\n            stringified.subscribe(function(value) {\n                var val = parseFloat(value);\n                if (!isNaN(val)) {\n                    valueAccessor()(val);\n                }\n            });\n            valueAccessor().subscribe(function(value) {\n                var str = JSON.stringify(value);\n                if ((str == \"0\") && ([\"-0\", \"-0.\"].indexOf(stringified()) >= 0))\n                     return;\n                 if ([\"null\", \"\"].indexOf(str) >= 0)\n                     return;\n                stringified(str);\n            });\n            ko.applyBindingsToNode(\n                element,\n                {\n                    value: stringified,\n                    valueUpdate: allBindings.get('valueUpdate'),\n                },\n                context,\n            );\n        }\n    };\n    var json_data = {\"formatted_vals\":[\"0.0\",\"100.0\",\"200.0\",\"300.0\",\"400.0\",\"500.0\",\"600.0\",\"700.0\",\"800.0\",\"900.0\",\"1000.0\",\"1100.0\",\"1200.0\",\"1300.0\",\"1400.0\",\"1500.0\",\"1600.0\",\"1700.0\",\"1800.0\",\"1900.0\",\"2000.0\",\"2100.0\",\"2200.0\",\"2300.0\",\"2400.0\",\"2500.0\",\"2600.0\",\"2700.0\",\"2800.0\",\"2900.0\",\"3000.0\",\"3100.0\",\"3200.0\",\"3300.0\",\"3400.0\",\"3500.0\",\"3600.0\",\"3700.0\",\"3800.0\",\"3900.0\",\"4000.0\",\"4100.0\",\"4200.0\",\"4300.0\",\"4400.0\",\"4500.0\",\"4600.0\",\"4700.0\",\"4800.0\",\"4900.0\",\"5000.0\",\"5100.0\",\"5200.0\",\"5300.0\",\"5400.0\",\"5500.0\",\"5600.0\",\"5700.0\",\"5800.0\",\"5900.0\",\"6000.0\",\"6100.0\",\"6200.0\",\"6300.0\",\"6400.0\",\"6500.0\",\"6600.0\",\"6700.0\",\"6800.0\",\"6900.0\",\"7000.0\",\"7100.0\",\"7200.0\",\"7300.0\",\"7400.0\",\"7500.0\",\"7600.0\",\"7700.0\",\"7800.0\",\"7900.0\",\"8000.0\",\"8100.0\",\"8200.0\",\"8300.0\",\"8400.0\",\"8500.0\",\"8600.0\",\"8700.0\",\"8800.0\",\"8900.0\",\"9000.0\",\"9100.0\",\"9200.0\",\"9300.0\",\"9400.0\",\"9500.0\",\"9600.0\",\"9700.0\",\"9800.0\",\"9900.0\",\"10000.0\",\"10100.0\",\"10200.0\",\"10300.0\",\"10400.0\",\"10500.0\",\"10600.0\",\"10700.0\",\"10800.0\",\"10900.0\",\"11000.0\",\"11100.0\",\"11200.0\",\"11300.0\",\"11400.0\",\"11500.0\",\"11600.0\",\"11700.0\",\"11800.0\",\"11900.0\",\"12000.0\",\"12100.0\",\"12200.0\",\"12300.0\",\"12400.0\",\"12500.0\",\"12600.0\",\"12700.0\",\"12800.0\",\"12900.0\",\"13000.0\",\"13100.0\",\"13200.0\",\"13300.0\",\"13400.0\",\"13500.0\",\"13600.0\",\"13700.0\",\"13800.0\",\"13900.0\",\"14000.0\",\"14100.0\",\"14200.0\",\"14300.0\",\"14400.0\",\"14500.0\",\"14600.0\",\"14700.0\",\"14800.0\",\"14900.0\",\"15000.0\",\"15100.0\",\"15200.0\",\"15300.0\",\"15400.0\",\"15500.0\",\"15600.0\",\"15700.0\",\"15800.0\",\"15900.0\",\"16000.0\",\"16100.0\",\"16200.0\",\"16300.0\",\"16400.0\",\"16500.0\",\"16600.0\",\"16700.0\",\"16800.0\",\"16900.0\",\"17000.0\",\"17100.0\",\"17200.0\",\"17300.0\",\"17400.0\",\"17500.0\",\"17600.0\",\"17700.0\",\"17800.0\",\"17900.0\",\"18000.0\",\"18100.0\",\"18200.0\",\"18300.0\",\"18400.0\",\"18500.0\",\"18600.0\",\"18700.0\",\"18800.0\",\"18900.0\",\"19000.0\",\"19100.0\",\"19200.0\",\"19300.0\",\"19400.0\",\"19500.0\",\"19600.0\",\"19700.0\",\"19800.0\",\"19900.0\",\"20000.0\",\"20100.0\",\"20200.0\",\"20300.0\",\"20400.0\",\"20500.0\",\"20600.0\",\"20700.0\",\"20800.0\",\"20900.0\",\"21000.0\",\"21100.0\",\"21200.0\",\"21300.0\",\"21400.0\",\"21500.0\",\"21600.0\",\"21700.0\",\"21800.0\",\"21900.0\",\"22000.0\",\"22100.0\",\"22200.0\",\"22300.0\",\"22400.0\",\"22500.0\",\"22600.0\",\"22700.0\",\"22800.0\",\"22900.0\",\"23000.0\",\"23100.0\",\"23200.0\",\"23300.0\",\"23400.0\",\"23500.0\",\"23600.0\",\"23700.0\",\"23800.0\",\"23900.0\",\"24000.0\",\"24100.0\",\"24200.0\",\"24300.0\",\"24400.0\",\"24500.0\",\"24600.0\",\"24700.0\",\"24800.0\",\"24900.0\",\"25000.0\",\"25100.0\",\"25200.0\",\"25300.0\",\"25400.0\",\"25500.0\",\"25600.0\",\"25700.0\",\"25800.0\",\"25900.0\",\"26000.0\",\"26100.0\",\"26200.0\",\"26300.0\",\"26400.0\",\"26500.0\",\"26600.0\",\"26700.0\",\"26800.0\",\"26900.0\",\"27000.0\",\"27100.0\",\"27200.0\",\"27300.0\",\"27400.0\",\"27500.0\",\"27600.0\",\"27700.0\",\"27800.0\",\"27900.0\",\"28000.0\",\"28100.0\",\"28200.0\",\"28300.0\",\"28400.0\",\"28500.0\",\"28600.0\",\"28700.0\",\"28800.0\",\"28900.0\",\"29000.0\",\"29100.0\",\"29200.0\",\"29300.0\",\"29400.0\",\"29500.0\",\"29600.0\",\"29700.0\",\"29800.0\",\"29900.0\",\"30000.0\",\"30100.0\",\"30200.0\",\"30300.0\",\"30400.0\",\"30500.0\",\"30600.0\",\"30700.0\",\"30800.0\",\"30900.0\",\"31000.0\",\"31100.0\",\"31200.0\",\"31300.0\",\"31400.0\",\"31500.0\",\"31600.0\",\"31700.0\",\"31800.0\",\"31900.0\",\"32000.0\",\"32100.0\",\"32200.0\",\"32300.0\",\"32400.0\",\"32500.0\",\"32600.0\",\"32700.0\",\"32800.0\",\"32900.0\",\"33000.0\",\"33100.0\",\"33200.0\",\"33300.0\",\"33400.0\",\"33500.0\",\"33600.0\",\"33700.0\",\"33800.0\",\"33900.0\",\"34000.0\",\"34100.0\",\"34200.0\",\"34300.0\",\"34400.0\",\"34500.0\",\"34600.0\",\"34700.0\",\"34800.0\",\"34900.0\",\"35000.0\",\"35100.0\",\"35200.0\",\"35300.0\",\"35400.0\",\"35500.0\",\"35600.0\",\"35700.0\",\"35800.0\",\"35900.0\",\"36000.0\",\"36100.0\",\"36200.0\",\"36300.0\",\"36400.0\",\"36500.0\",\"36600.0\",\"36700.0\",\"36800.0\",\"36900.0\",\"37000.0\",\"37100.0\",\"37200.0\",\"37300.0\",\"37400.0\",\"37500.0\",\"37600.0\",\"37700.0\",\"37800.0\",\"37900.0\",\"38000.0\",\"38100.0\",\"38200.0\",\"38300.0\",\"38400.0\",\"38500.0\",\"38600.0\",\"38700.0\",\"38800.0\",\"38900.0\",\"39000.0\",\"39100.0\",\"39200.0\",\"39300.0\",\"39400.0\",\"39500.0\",\"39600.0\",\"39700.0\",\"39800.0\",\"39900.0\",\"40000.0\",\"40100.0\",\"40200.0\",\"40300.0\",\"40400.0\",\"40500.0\",\"40600.0\",\"40700.0\",\"40800.0\",\"40900.0\",\"41000.0\",\"41100.0\",\"41200.0\",\"41300.0\",\"41400.0\",\"41500.0\",\"41600.0\",\"41700.0\",\"41800.0\",\"41900.0\",\"42000.0\",\"42100.0\",\"42200.0\",\"42300.0\",\"42400.0\",\"42500.0\",\"42600.0\",\"42700.0\",\"42800.0\",\"42900.0\",\"43000.0\",\"43100.0\",\"43200.0\",\"43300.0\",\"43400.0\",\"43500.0\",\"43600.0\",\"43700.0\",\"43800.0\",\"43900.0\",\"44000.0\",\"44100.0\",\"44200.0\",\"44300.0\",\"44400.0\",\"44500.0\",\"44600.0\",\"44700.0\",\"44800.0\",\"44900.0\",\"45000.0\",\"45100.0\",\"45200.0\",\"45300.0\",\"45400.0\",\"45500.0\",\"45600.0\",\"45700.0\",\"45800.0\",\"45900.0\",\"46000.0\",\"46100.0\",\"46200.0\",\"46300.0\",\"46400.0\",\"46500.0\",\"46600.0\",\"46700.0\",\"46800.0\",\"46900.0\",\"47000.0\",\"47100.0\",\"47200.0\",\"47300.0\",\"47400.0\",\"47500.0\",\"47600.0\",\"47700.0\",\"47800.0\",\"47900.0\",\"48000.0\",\"48100.0\",\"48200.0\",\"48300.0\",\"48400.0\",\"48500.0\",\"48600.0\",\"48700.0\",\"48800.0\",\"48900.0\",\"49000.0\",\"49100.0\",\"49200.0\",\"49300.0\",\"49400.0\",\"49500.0\",\"49600.0\",\"49700.0\",\"49800.0\",\"49900.0\",\"50000.0\"],\"changes\":WebIO.getval({\"name\":\"changes\",\"scope\":\"7868247203926303252\",\"id\":\"16451476737452117324\",\"type\":\"observable\"}),\"index\":WebIO.getval({\"name\":\"index\",\"scope\":\"7868247203926303252\",\"id\":\"11377647478939667161\",\"type\":\"observable\"})};\n    var self = this;\n    function AppViewModel() {\n        for (var key in json_data) {\n            var el = json_data[key];\n            this[key] = Array.isArray(el) ? ko.observableArray(el) : ko.observable(el);\n        }\n        \n        [this[\"formatted_val\"]=ko.computed(    function(){\n        return this.formatted_vals()[parseInt(this.index())-(1)];\n    }\n,this)]\n        [this[\"changes\"].subscribe((function (val){!(this.valueFromJulia[\"changes\"]) ? (WebIO.setval({\"name\":\"changes\",\"scope\":\"7868247203926303252\",\"id\":\"16451476737452117324\",\"type\":\"observable\"},val)) : undefined; return this.valueFromJulia[\"changes\"]=false}),self),this[\"index\"].subscribe((function (val){!(this.valueFromJulia[\"index\"]) ? (WebIO.setval({\"name\":\"index\",\"scope\":\"7868247203926303252\",\"id\":\"11377647478939667161\",\"type\":\"observable\"},val)) : undefined; return this.valueFromJulia[\"index\"]=false}),self)]\n        \n    }\n    self.model = new AppViewModel();\n    self.valueFromJulia = {};\n    for (var key in json_data) {\n        self.valueFromJulia[key] = false;\n    }\n    ko.applyBindings(self.model, self.dom);\n}\n);\n    (WebIO.importBlock({\"data\":[{\"name\":\"knockout\",\"type\":\"js\",\"url\":\"/assetserver/10d708ba80251634938ce239226941fe03559024-knockout.js\"},{\"name\":\"knockout_punches\",\"type\":\"js\",\"url\":\"/assetserver/dfe40853171940bd9da9c6b86f9757768070aa9d-knockout_punches.js\"}],\"type\":\"async_block\"})).then((imports) => handler.apply(this, imports));\n}\n"
            ],
            "observables": {
             "changes": {
              "id": "16451476737452117324",
              "sync": false,
              "value": 0
             },
             "index": {
              "id": "11377647478939667161",
              "sync": true,
              "value": 251
             }
            },
            "systemjs_options": null
           },
           "nodeType": "Scope",
           "props": {},
           "type": "node"
          }
         ],
         "instanceArgs": {
          "namespace": "html",
          "tag": "div"
         },
         "nodeType": "DOM",
         "props": {
          "className": "field interact-widget"
         },
         "type": "node"
        },
        {
         "children": [
          {
           "children": [
            {
             "children": [
              {
               "children": [
                {
                 "children": [],
                 "instanceArgs": {
                  "namespace": "html",
                  "tag": "input"
                 },
                 "nodeType": "DOM",
                 "props": {
                  "attributes": {
                   "data-bind": "checked : $root.index, checkedValue: val, attr : {id : id}",
                   "name": "##253",
                   "type": "radio"
                  },
                  "className": "is-checkradio "
                 },
                 "type": "node"
                },
                {
                 "children": [],
                 "instanceArgs": {
                  "namespace": "html",
                  "tag": "label"
                 },
                 "nodeType": "DOM",
                 "props": {
                  "attributes": {
                   "data-bind": "text : key, attr : {for : id}"
                  }
                 },
                 "type": "node"
                }
               ],
               "instanceArgs": {
                "namespace": "html",
                "tag": "div"
               },
               "nodeType": "DOM",
               "props": {
                "className": "field"
               },
               "type": "node"
              }
             ],
             "instanceArgs": {
              "namespace": "html",
              "tag": "div"
             },
             "nodeType": "DOM",
             "props": {
              "attributes": {
               "data-bind": "foreach : options_js"
              },
              "className": "field"
             },
             "type": "node"
            }
           ],
           "instanceArgs": {
            "handlers": {
             "index": [
              "(function (val){return (val!=this.model[\"index\"]()) ? (this.valueFromJulia[\"index\"]=true, this.model[\"index\"](val)) : undefined})"
             ],
             "options_js": [
              "(function (val){return (val!=this.model[\"options_js\"]()) ? (this.valueFromJulia[\"options_js\"]=true, this.model[\"options_js\"](val)) : undefined})"
             ]
            },
            "id": "16344523878052437837",
            "imports": {
             "data": [
              {
               "name": "knockout",
               "type": "js",
               "url": "/assetserver/10d708ba80251634938ce239226941fe03559024-knockout.js"
              },
              {
               "name": "knockout_punches",
               "type": "js",
               "url": "/assetserver/dfe40853171940bd9da9c6b86f9757768070aa9d-knockout_punches.js"
              },
              {
               "name": null,
               "type": "js",
               "url": "/assetserver/fb3865ccce2e96c5166aa727e18d0923f668c890-all.js"
              },
              {
               "name": null,
               "type": "css",
               "url": "/assetserver/313b950d52846c718c545b2c92fe9725552b86f1-style.css"
              },
              {
               "name": null,
               "type": "css",
               "url": "/assetserver/70b42bc181e94ec1d79c1b4b343ce35203684157-bulma_confined.min.css"
              }
             ],
             "type": "async_block"
            },
            "mount_callbacks": [
             "function () {\n    var handler = (function (ko, koPunches) {\n    ko.punches.enableAll();\n    ko.bindingHandlers.numericValue = {\n        init: function(element, valueAccessor, allBindings, data, context) {\n            var stringified = ko.observable(ko.unwrap(valueAccessor()));\n            stringified.subscribe(function(value) {\n                var val = parseFloat(value);\n                if (!isNaN(val)) {\n                    valueAccessor()(val);\n                }\n            });\n            valueAccessor().subscribe(function(value) {\n                var str = JSON.stringify(value);\n                if ((str == \"0\") && ([\"-0\", \"-0.\"].indexOf(stringified()) >= 0))\n                     return;\n                 if ([\"null\", \"\"].indexOf(str) >= 0)\n                     return;\n                stringified(str);\n            });\n            ko.applyBindingsToNode(\n                element,\n                {\n                    value: stringified,\n                    valueUpdate: allBindings.get('valueUpdate'),\n                },\n                context,\n            );\n        }\n    };\n    var json_data = {\"options_js\":WebIO.getval({\"name\":\"options_js\",\"scope\":\"16344523878052437837\",\"id\":\"11078067683368956221\",\"type\":\"observable\"}),\"index\":WebIO.getval({\"name\":\"index\",\"scope\":\"16344523878052437837\",\"id\":\"2770775303165687227\",\"type\":\"observable\"})};\n    var self = this;\n    function AppViewModel() {\n        for (var key in json_data) {\n            var el = json_data[key];\n            this[key] = Array.isArray(el) ? ko.observableArray(el) : ko.observable(el);\n        }\n        \n        \n        [this[\"options_js\"].subscribe((function (val){!(this.valueFromJulia[\"options_js\"]) ? (WebIO.setval({\"name\":\"options_js\",\"scope\":\"16344523878052437837\",\"id\":\"11078067683368956221\",\"type\":\"observable\"},val)) : undefined; return this.valueFromJulia[\"options_js\"]=false}),self),this[\"index\"].subscribe((function (val){!(this.valueFromJulia[\"index\"]) ? (WebIO.setval({\"name\":\"index\",\"scope\":\"16344523878052437837\",\"id\":\"2770775303165687227\",\"type\":\"observable\"},val)) : undefined; return this.valueFromJulia[\"index\"]=false}),self)]\n        \n    }\n    self.model = new AppViewModel();\n    self.valueFromJulia = {};\n    for (var key in json_data) {\n        self.valueFromJulia[key] = false;\n    }\n    ko.applyBindings(self.model, self.dom);\n}\n);\n    (WebIO.importBlock({\"data\":[{\"name\":\"knockout\",\"type\":\"js\",\"url\":\"/assetserver/10d708ba80251634938ce239226941fe03559024-knockout.js\"},{\"name\":\"knockout_punches\",\"type\":\"js\",\"url\":\"/assetserver/dfe40853171940bd9da9c6b86f9757768070aa9d-knockout_punches.js\"}],\"type\":\"async_block\"})).then((imports) => handler.apply(this, imports));\n}\n"
            ],
            "observables": {
             "index": {
              "id": "2770775303165687227",
              "sync": true,
              "value": 3
             },
             "options_js": {
              "id": "11078067683368956221",
              "sync": false,
              "value": [
               {
                "id": "idxVPz61lb",
                "key": "1 Travis job",
                "val": 1
               },
               {
                "id": "idTN9hmOfe",
                "key": "2 Travis jobs",
                "val": 2
               },
               {
                "id": "idtyNtNYxi",
                "key": "5 Travis jobs",
                "val": 3
               }
              ]
             }
            },
            "systemjs_options": null
           },
           "nodeType": "Scope",
           "props": {},
           "type": "node"
          }
         ],
         "instanceArgs": {
          "namespace": "html",
          "tag": "div"
         },
         "nodeType": "DOM",
         "props": {
          "className": "field interact-widget"
         },
         "type": "node"
        },
        {
         "children": [
          {
           "children": [
            {
             "children": [
              {
               "children": [
                {
                 "children": [],
                 "instanceArgs": {
                  "namespace": "html",
                  "tag": "input"
                 },
                 "nodeType": "DOM",
                 "props": {
                  "attributes": {
                   "data-bind": "checked : $root.index, checkedValue: val, attr : {id : id}",
                   "name": "##254",
                   "type": "radio"
                  },
                  "className": "is-checkradio "
                 },
                 "type": "node"
                },
                {
                 "children": [],
                 "instanceArgs": {
                  "namespace": "html",
                  "tag": "label"
                 },
                 "nodeType": "DOM",
                 "props": {
                  "attributes": {
                   "data-bind": "text : key, attr : {for : id}"
                  }
                 },
                 "type": "node"
                }
               ],
               "instanceArgs": {
                "namespace": "html",
                "tag": "div"
               },
               "nodeType": "DOM",
               "props": {
                "className": "field"
               },
               "type": "node"
              }
             ],
             "instanceArgs": {
              "namespace": "html",
              "tag": "div"
             },
             "nodeType": "DOM",
             "props": {
              "attributes": {
               "data-bind": "foreach : options_js"
              },
              "className": "field"
             },
             "type": "node"
            }
           ],
           "instanceArgs": {
            "handlers": {
             "index": [
              "(function (val){return (val!=this.model[\"index\"]()) ? (this.valueFromJulia[\"index\"]=true, this.model[\"index\"](val)) : undefined})"
             ],
             "options_js": [
              "(function (val){return (val!=this.model[\"options_js\"]()) ? (this.valueFromJulia[\"options_js\"]=true, this.model[\"options_js\"](val)) : undefined})"
             ]
            },
            "id": "13345270099135890168",
            "imports": {
             "data": [
              {
               "name": "knockout",
               "type": "js",
               "url": "/assetserver/10d708ba80251634938ce239226941fe03559024-knockout.js"
              },
              {
               "name": "knockout_punches",
               "type": "js",
               "url": "/assetserver/dfe40853171940bd9da9c6b86f9757768070aa9d-knockout_punches.js"
              },
              {
               "name": null,
               "type": "js",
               "url": "/assetserver/fb3865ccce2e96c5166aa727e18d0923f668c890-all.js"
              },
              {
               "name": null,
               "type": "css",
               "url": "/assetserver/313b950d52846c718c545b2c92fe9725552b86f1-style.css"
              },
              {
               "name": null,
               "type": "css",
               "url": "/assetserver/70b42bc181e94ec1d79c1b4b343ce35203684157-bulma_confined.min.css"
              }
             ],
             "type": "async_block"
            },
            "mount_callbacks": [
             "function () {\n    var handler = (function (ko, koPunches) {\n    ko.punches.enableAll();\n    ko.bindingHandlers.numericValue = {\n        init: function(element, valueAccessor, allBindings, data, context) {\n            var stringified = ko.observable(ko.unwrap(valueAccessor()));\n            stringified.subscribe(function(value) {\n                var val = parseFloat(value);\n                if (!isNaN(val)) {\n                    valueAccessor()(val);\n                }\n            });\n            valueAccessor().subscribe(function(value) {\n                var str = JSON.stringify(value);\n                if ((str == \"0\") && ([\"-0\", \"-0.\"].indexOf(stringified()) >= 0))\n                     return;\n                 if ([\"null\", \"\"].indexOf(str) >= 0)\n                     return;\n                stringified(str);\n            });\n            ko.applyBindingsToNode(\n                element,\n                {\n                    value: stringified,\n                    valueUpdate: allBindings.get('valueUpdate'),\n                },\n                context,\n            );\n        }\n    };\n    var json_data = {\"options_js\":WebIO.getval({\"name\":\"options_js\",\"scope\":\"13345270099135890168\",\"id\":\"9334762623407892471\",\"type\":\"observable\"}),\"index\":WebIO.getval({\"name\":\"index\",\"scope\":\"13345270099135890168\",\"id\":\"10395346905800107457\",\"type\":\"observable\"})};\n    var self = this;\n    function AppViewModel() {\n        for (var key in json_data) {\n            var el = json_data[key];\n            this[key] = Array.isArray(el) ? ko.observableArray(el) : ko.observable(el);\n        }\n        \n        \n        [this[\"options_js\"].subscribe((function (val){!(this.valueFromJulia[\"options_js\"]) ? (WebIO.setval({\"name\":\"options_js\",\"scope\":\"13345270099135890168\",\"id\":\"9334762623407892471\",\"type\":\"observable\"},val)) : undefined; return this.valueFromJulia[\"options_js\"]=false}),self),this[\"index\"].subscribe((function (val){!(this.valueFromJulia[\"index\"]) ? (WebIO.setval({\"name\":\"index\",\"scope\":\"13345270099135890168\",\"id\":\"10395346905800107457\",\"type\":\"observable\"},val)) : undefined; return this.valueFromJulia[\"index\"]=false}),self)]\n        \n    }\n    self.model = new AppViewModel();\n    self.valueFromJulia = {};\n    for (var key in json_data) {\n        self.valueFromJulia[key] = false;\n    }\n    ko.applyBindings(self.model, self.dom);\n}\n);\n    (WebIO.importBlock({\"data\":[{\"name\":\"knockout\",\"type\":\"js\",\"url\":\"/assetserver/10d708ba80251634938ce239226941fe03559024-knockout.js\"},{\"name\":\"knockout_punches\",\"type\":\"js\",\"url\":\"/assetserver/dfe40853171940bd9da9c6b86f9757768070aa9d-knockout_punches.js\"}],\"type\":\"async_block\"})).then((imports) => handler.apply(this, imports));\n}\n"
            ],
            "observables": {
             "index": {
              "id": "10395346905800107457",
              "sync": true,
              "value": 1
             },
             "options_js": {
              "id": "9334762623407892471",
              "sync": false,
              "value": [
               {
                "id": "idwgLlpBBi",
                "key": "GitHub Actions Team",
                "val": 1
               },
               {
                "id": "idYdJKyv9s",
                "key": "GitHub Actions Enterprise",
                "val": 2
               },
               {
                "id": "idHYHX66rG",
                "key": "GitHub Actions Free",
                "val": 3
               },
               {
                "id": "id5F0CT9Lj",
                "key": "GitHub Actions Pro",
                "val": 4
               }
              ]
             }
            },
            "systemjs_options": null
           },
           "nodeType": "Scope",
           "props": {},
           "type": "node"
          }
         ],
         "instanceArgs": {
          "namespace": "html",
          "tag": "div"
         },
         "nodeType": "DOM",
         "props": {
          "className": "field interact-widget"
         },
         "type": "node"
        },
        {
         "children": [
          {
           "children": [],
           "instanceArgs": {
            "id": "507367751093503444",
            "name": "obs-node"
           },
           "nodeType": "ObservableNode",
           "props": {},
           "type": "node"
          }
         ],
         "instanceArgs": {
          "handlers": {},
          "id": "307013372299642242",
          "imports": {
           "data": [],
           "type": "async_block"
          },
          "mount_callbacks": [],
          "observables": {
           "obs-node": {
            "id": "507367751093503444",
            "sync": false,
            "value": {
             "children": [
              {
               "children": [],
               "instanceArgs": {
                "namespace": "html",
                "tag": "div"
               },
               "nodeType": "DOM",
               "props": {
                "setInnerHtml": "<pre>Travis: 999.0$/month\nGitHub: 2496.0$/month\n</pre>"
               },
               "type": "node"
              }
             ],
             "instanceArgs": {
              "namespace": "html",
              "tag": "div"
             },
             "nodeType": "DOM",
             "props": {
              "className": "interact-flex-row interact-widget"
             },
             "type": "node"
            }
           }
          },
          "systemjs_options": null
         },
         "nodeType": "Scope",
         "props": {},
         "type": "node"
        }
       ],
       "instanceArgs": {
        "namespace": "html",
        "tag": "div"
       },
       "nodeType": "DOM",
       "props": {},
       "type": "node"
      },
      "text/html": [
       "<div\n",
       "    class=\"webio-mountpoint\"\n",
       "    data-webio-mountpoint=\"6343152790589851380\"\n",
       ">\n",
       "    <script>\n",
       "    if (window.require && require.defined && require.defined(\"nbextensions/webio-jupyter-notebook\")) {\n",
       "        console.log(\"Jupyter WebIO extension detected, not mounting.\");\n",
       "    } else if (window.WebIO) {\n",
       "        WebIO.mount(\n",
       "            document.querySelector('[data-webio-mountpoint=\"6343152790589851380\"]'),\n",
       "            {\"props\":{},\"nodeType\":\"DOM\",\"type\":\"node\",\"instanceArgs\":{\"namespace\":\"html\",\"tag\":\"div\"},\"children\":[{\"props\":{\"className\":\"field interact-widget\"},\"nodeType\":\"DOM\",\"type\":\"node\",\"instanceArgs\":{\"namespace\":\"html\",\"tag\":\"div\"},\"children\":[{\"props\":{},\"nodeType\":\"Scope\",\"type\":\"node\",\"instanceArgs\":{\"imports\":{\"data\":[{\"name\":\"knockout\",\"type\":\"js\",\"url\":\"\\/assetserver\\/10d708ba80251634938ce239226941fe03559024-knockout.js\"},{\"name\":\"knockout_punches\",\"type\":\"js\",\"url\":\"\\/assetserver\\/dfe40853171940bd9da9c6b86f9757768070aa9d-knockout_punches.js\"},{\"name\":null,\"type\":\"js\",\"url\":\"\\/assetserver\\/fb3865ccce2e96c5166aa727e18d0923f668c890-all.js\"},{\"name\":null,\"type\":\"css\",\"url\":\"\\/assetserver\\/313b950d52846c718c545b2c92fe9725552b86f1-style.css\"},{\"name\":null,\"type\":\"css\",\"url\":\"\\/assetserver\\/70b42bc181e94ec1d79c1b4b343ce35203684157-bulma_confined.min.css\"}],\"type\":\"async_block\"},\"id\":\"11060369278863744538\",\"handlers\":{\"changes\":[\"(function (val){return (val!=this.model[\\\"changes\\\"]()) ? (this.valueFromJulia[\\\"changes\\\"]=true, this.model[\\\"changes\\\"](val)) : undefined})\"],\"index\":[\"(function (val){return (val!=this.model[\\\"index\\\"]()) ? (this.valueFromJulia[\\\"index\\\"]=true, this.model[\\\"index\\\"](val)) : undefined})\"]},\"systemjs_options\":null,\"mount_callbacks\":[\"function () {\\n    var handler = (function (ko, koPunches) {\\n    ko.punches.enableAll();\\n    ko.bindingHandlers.numericValue = {\\n        init: function(element, valueAccessor, allBindings, data, context) {\\n            var stringified = ko.observable(ko.unwrap(valueAccessor()));\\n            stringified.subscribe(function(value) {\\n                var val = parseFloat(value);\\n                if (!isNaN(val)) {\\n                    valueAccessor()(val);\\n                }\\n            });\\n            valueAccessor().subscribe(function(value) {\\n                var str = JSON.stringify(value);\\n                if ((str == \\\"0\\\") && ([\\\"-0\\\", \\\"-0.\\\"].indexOf(stringified()) >= 0))\\n                     return;\\n                 if ([\\\"null\\\", \\\"\\\"].indexOf(str) >= 0)\\n                     return;\\n                stringified(str);\\n            });\\n            ko.applyBindingsToNode(\\n                element,\\n                {\\n                    value: stringified,\\n                    valueUpdate: allBindings.get('valueUpdate'),\\n                },\\n                context,\\n            );\\n        }\\n    };\\n    var json_data = {\\\"formatted_vals\\\":[\\\"0.0\\\",\\\"100.0\\\",\\\"200.0\\\",\\\"300.0\\\",\\\"400.0\\\",\\\"500.0\\\",\\\"600.0\\\",\\\"700.0\\\",\\\"800.0\\\",\\\"900.0\\\",\\\"1000.0\\\",\\\"1100.0\\\",\\\"1200.0\\\",\\\"1300.0\\\",\\\"1400.0\\\",\\\"1500.0\\\",\\\"1600.0\\\",\\\"1700.0\\\",\\\"1800.0\\\",\\\"1900.0\\\",\\\"2000.0\\\",\\\"2100.0\\\",\\\"2200.0\\\",\\\"2300.0\\\",\\\"2400.0\\\",\\\"2500.0\\\",\\\"2600.0\\\",\\\"2700.0\\\",\\\"2800.0\\\",\\\"2900.0\\\",\\\"3000.0\\\",\\\"3100.0\\\",\\\"3200.0\\\",\\\"3300.0\\\",\\\"3400.0\\\",\\\"3500.0\\\",\\\"3600.0\\\",\\\"3700.0\\\",\\\"3800.0\\\",\\\"3900.0\\\",\\\"4000.0\\\",\\\"4100.0\\\",\\\"4200.0\\\",\\\"4300.0\\\",\\\"4400.0\\\",\\\"4500.0\\\",\\\"4600.0\\\",\\\"4700.0\\\",\\\"4800.0\\\",\\\"4900.0\\\",\\\"5000.0\\\",\\\"5100.0\\\",\\\"5200.0\\\",\\\"5300.0\\\",\\\"5400.0\\\",\\\"5500.0\\\",\\\"5600.0\\\",\\\"5700.0\\\",\\\"5800.0\\\",\\\"5900.0\\\",\\\"6000.0\\\",\\\"6100.0\\\",\\\"6200.0\\\",\\\"6300.0\\\",\\\"6400.0\\\",\\\"6500.0\\\",\\\"6600.0\\\",\\\"6700.0\\\",\\\"6800.0\\\",\\\"6900.0\\\",\\\"7000.0\\\",\\\"7100.0\\\",\\\"7200.0\\\",\\\"7300.0\\\",\\\"7400.0\\\",\\\"7500.0\\\",\\\"7600.0\\\",\\\"7700.0\\\",\\\"7800.0\\\",\\\"7900.0\\\",\\\"8000.0\\\",\\\"8100.0\\\",\\\"8200.0\\\",\\\"8300.0\\\",\\\"8400.0\\\",\\\"8500.0\\\",\\\"8600.0\\\",\\\"8700.0\\\",\\\"8800.0\\\",\\\"8900.0\\\",\\\"9000.0\\\",\\\"9100.0\\\",\\\"9200.0\\\",\\\"9300.0\\\",\\\"9400.0\\\",\\\"9500.0\\\",\\\"9600.0\\\",\\\"9700.0\\\",\\\"9800.0\\\",\\\"9900.0\\\",\\\"10000.0\\\",\\\"10100.0\\\",\\\"10200.0\\\",\\\"10300.0\\\",\\\"10400.0\\\",\\\"10500.0\\\",\\\"10600.0\\\",\\\"10700.0\\\",\\\"10800.0\\\",\\\"10900.0\\\",\\\"11000.0\\\",\\\"11100.0\\\",\\\"11200.0\\\",\\\"11300.0\\\",\\\"11400.0\\\",\\\"11500.0\\\",\\\"11600.0\\\",\\\"11700.0\\\",\\\"11800.0\\\",\\\"11900.0\\\",\\\"12000.0\\\",\\\"12100.0\\\",\\\"12200.0\\\",\\\"12300.0\\\",\\\"12400.0\\\",\\\"12500.0\\\",\\\"12600.0\\\",\\\"12700.0\\\",\\\"12800.0\\\",\\\"12900.0\\\",\\\"13000.0\\\",\\\"13100.0\\\",\\\"13200.0\\\",\\\"13300.0\\\",\\\"13400.0\\\",\\\"13500.0\\\",\\\"13600.0\\\",\\\"13700.0\\\",\\\"13800.0\\\",\\\"13900.0\\\",\\\"14000.0\\\",\\\"14100.0\\\",\\\"14200.0\\\",\\\"14300.0\\\",\\\"14400.0\\\",\\\"14500.0\\\",\\\"14600.0\\\",\\\"14700.0\\\",\\\"14800.0\\\",\\\"14900.0\\\",\\\"15000.0\\\",\\\"15100.0\\\",\\\"15200.0\\\",\\\"15300.0\\\",\\\"15400.0\\\",\\\"15500.0\\\",\\\"15600.0\\\",\\\"15700.0\\\",\\\"15800.0\\\",\\\"15900.0\\\",\\\"16000.0\\\",\\\"16100.0\\\",\\\"16200.0\\\",\\\"16300.0\\\",\\\"16400.0\\\",\\\"16500.0\\\",\\\"16600.0\\\",\\\"16700.0\\\",\\\"16800.0\\\",\\\"16900.0\\\",\\\"17000.0\\\",\\\"17100.0\\\",\\\"17200.0\\\",\\\"17300.0\\\",\\\"17400.0\\\",\\\"17500.0\\\",\\\"17600.0\\\",\\\"17700.0\\\",\\\"17800.0\\\",\\\"17900.0\\\",\\\"18000.0\\\",\\\"18100.0\\\",\\\"18200.0\\\",\\\"18300.0\\\",\\\"18400.0\\\",\\\"18500.0\\\",\\\"18600.0\\\",\\\"18700.0\\\",\\\"18800.0\\\",\\\"18900.0\\\",\\\"19000.0\\\",\\\"19100.0\\\",\\\"19200.0\\\",\\\"19300.0\\\",\\\"19400.0\\\",\\\"19500.0\\\",\\\"19600.0\\\",\\\"19700.0\\\",\\\"19800.0\\\",\\\"19900.0\\\",\\\"20000.0\\\",\\\"20100.0\\\",\\\"20200.0\\\",\\\"20300.0\\\",\\\"20400.0\\\",\\\"20500.0\\\",\\\"20600.0\\\",\\\"20700.0\\\",\\\"20800.0\\\",\\\"20900.0\\\",\\\"21000.0\\\",\\\"21100.0\\\",\\\"21200.0\\\",\\\"21300.0\\\",\\\"21400.0\\\",\\\"21500.0\\\",\\\"21600.0\\\",\\\"21700.0\\\",\\\"21800.0\\\",\\\"21900.0\\\",\\\"22000.0\\\",\\\"22100.0\\\",\\\"22200.0\\\",\\\"22300.0\\\",\\\"22400.0\\\",\\\"22500.0\\\",\\\"22600.0\\\",\\\"22700.0\\\",\\\"22800.0\\\",\\\"22900.0\\\",\\\"23000.0\\\",\\\"23100.0\\\",\\\"23200.0\\\",\\\"23300.0\\\",\\\"23400.0\\\",\\\"23500.0\\\",\\\"23600.0\\\",\\\"23700.0\\\",\\\"23800.0\\\",\\\"23900.0\\\",\\\"24000.0\\\",\\\"24100.0\\\",\\\"24200.0\\\",\\\"24300.0\\\",\\\"24400.0\\\",\\\"24500.0\\\",\\\"24600.0\\\",\\\"24700.0\\\",\\\"24800.0\\\",\\\"24900.0\\\",\\\"25000.0\\\",\\\"25100.0\\\",\\\"25200.0\\\",\\\"25300.0\\\",\\\"25400.0\\\",\\\"25500.0\\\",\\\"25600.0\\\",\\\"25700.0\\\",\\\"25800.0\\\",\\\"25900.0\\\",\\\"26000.0\\\",\\\"26100.0\\\",\\\"26200.0\\\",\\\"26300.0\\\",\\\"26400.0\\\",\\\"26500.0\\\",\\\"26600.0\\\",\\\"26700.0\\\",\\\"26800.0\\\",\\\"26900.0\\\",\\\"27000.0\\\",\\\"27100.0\\\",\\\"27200.0\\\",\\\"27300.0\\\",\\\"27400.0\\\",\\\"27500.0\\\",\\\"27600.0\\\",\\\"27700.0\\\",\\\"27800.0\\\",\\\"27900.0\\\",\\\"28000.0\\\",\\\"28100.0\\\",\\\"28200.0\\\",\\\"28300.0\\\",\\\"28400.0\\\",\\\"28500.0\\\",\\\"28600.0\\\",\\\"28700.0\\\",\\\"28800.0\\\",\\\"28900.0\\\",\\\"29000.0\\\",\\\"29100.0\\\",\\\"29200.0\\\",\\\"29300.0\\\",\\\"29400.0\\\",\\\"29500.0\\\",\\\"29600.0\\\",\\\"29700.0\\\",\\\"29800.0\\\",\\\"29900.0\\\",\\\"30000.0\\\",\\\"30100.0\\\",\\\"30200.0\\\",\\\"30300.0\\\",\\\"30400.0\\\",\\\"30500.0\\\",\\\"30600.0\\\",\\\"30700.0\\\",\\\"30800.0\\\",\\\"30900.0\\\",\\\"31000.0\\\",\\\"31100.0\\\",\\\"31200.0\\\",\\\"31300.0\\\",\\\"31400.0\\\",\\\"31500.0\\\",\\\"31600.0\\\",\\\"31700.0\\\",\\\"31800.0\\\",\\\"31900.0\\\",\\\"32000.0\\\",\\\"32100.0\\\",\\\"32200.0\\\",\\\"32300.0\\\",\\\"32400.0\\\",\\\"32500.0\\\",\\\"32600.0\\\",\\\"32700.0\\\",\\\"32800.0\\\",\\\"32900.0\\\",\\\"33000.0\\\",\\\"33100.0\\\",\\\"33200.0\\\",\\\"33300.0\\\",\\\"33400.0\\\",\\\"33500.0\\\",\\\"33600.0\\\",\\\"33700.0\\\",\\\"33800.0\\\",\\\"33900.0\\\",\\\"34000.0\\\",\\\"34100.0\\\",\\\"34200.0\\\",\\\"34300.0\\\",\\\"34400.0\\\",\\\"34500.0\\\",\\\"34600.0\\\",\\\"34700.0\\\",\\\"34800.0\\\",\\\"34900.0\\\",\\\"35000.0\\\",\\\"35100.0\\\",\\\"35200.0\\\",\\\"35300.0\\\",\\\"35400.0\\\",\\\"35500.0\\\",\\\"35600.0\\\",\\\"35700.0\\\",\\\"35800.0\\\",\\\"35900.0\\\",\\\"36000.0\\\",\\\"36100.0\\\",\\\"36200.0\\\",\\\"36300.0\\\",\\\"36400.0\\\",\\\"36500.0\\\",\\\"36600.0\\\",\\\"36700.0\\\",\\\"36800.0\\\",\\\"36900.0\\\",\\\"37000.0\\\",\\\"37100.0\\\",\\\"37200.0\\\",\\\"37300.0\\\",\\\"37400.0\\\",\\\"37500.0\\\",\\\"37600.0\\\",\\\"37700.0\\\",\\\"37800.0\\\",\\\"37900.0\\\",\\\"38000.0\\\",\\\"38100.0\\\",\\\"38200.0\\\",\\\"38300.0\\\",\\\"38400.0\\\",\\\"38500.0\\\",\\\"38600.0\\\",\\\"38700.0\\\",\\\"38800.0\\\",\\\"38900.0\\\",\\\"39000.0\\\",\\\"39100.0\\\",\\\"39200.0\\\",\\\"39300.0\\\",\\\"39400.0\\\",\\\"39500.0\\\",\\\"39600.0\\\",\\\"39700.0\\\",\\\"39800.0\\\",\\\"39900.0\\\",\\\"40000.0\\\",\\\"40100.0\\\",\\\"40200.0\\\",\\\"40300.0\\\",\\\"40400.0\\\",\\\"40500.0\\\",\\\"40600.0\\\",\\\"40700.0\\\",\\\"40800.0\\\",\\\"40900.0\\\",\\\"41000.0\\\",\\\"41100.0\\\",\\\"41200.0\\\",\\\"41300.0\\\",\\\"41400.0\\\",\\\"41500.0\\\",\\\"41600.0\\\",\\\"41700.0\\\",\\\"41800.0\\\",\\\"41900.0\\\",\\\"42000.0\\\",\\\"42100.0\\\",\\\"42200.0\\\",\\\"42300.0\\\",\\\"42400.0\\\",\\\"42500.0\\\",\\\"42600.0\\\",\\\"42700.0\\\",\\\"42800.0\\\",\\\"42900.0\\\",\\\"43000.0\\\",\\\"43100.0\\\",\\\"43200.0\\\",\\\"43300.0\\\",\\\"43400.0\\\",\\\"43500.0\\\",\\\"43600.0\\\",\\\"43700.0\\\",\\\"43800.0\\\",\\\"43900.0\\\",\\\"44000.0\\\",\\\"44100.0\\\",\\\"44200.0\\\",\\\"44300.0\\\",\\\"44400.0\\\",\\\"44500.0\\\",\\\"44600.0\\\",\\\"44700.0\\\",\\\"44800.0\\\",\\\"44900.0\\\",\\\"45000.0\\\",\\\"45100.0\\\",\\\"45200.0\\\",\\\"45300.0\\\",\\\"45400.0\\\",\\\"45500.0\\\",\\\"45600.0\\\",\\\"45700.0\\\",\\\"45800.0\\\",\\\"45900.0\\\",\\\"46000.0\\\",\\\"46100.0\\\",\\\"46200.0\\\",\\\"46300.0\\\",\\\"46400.0\\\",\\\"46500.0\\\",\\\"46600.0\\\",\\\"46700.0\\\",\\\"46800.0\\\",\\\"46900.0\\\",\\\"47000.0\\\",\\\"47100.0\\\",\\\"47200.0\\\",\\\"47300.0\\\",\\\"47400.0\\\",\\\"47500.0\\\",\\\"47600.0\\\",\\\"47700.0\\\",\\\"47800.0\\\",\\\"47900.0\\\",\\\"48000.0\\\",\\\"48100.0\\\",\\\"48200.0\\\",\\\"48300.0\\\",\\\"48400.0\\\",\\\"48500.0\\\",\\\"48600.0\\\",\\\"48700.0\\\",\\\"48800.0\\\",\\\"48900.0\\\",\\\"49000.0\\\",\\\"49100.0\\\",\\\"49200.0\\\",\\\"49300.0\\\",\\\"49400.0\\\",\\\"49500.0\\\",\\\"49600.0\\\",\\\"49700.0\\\",\\\"49800.0\\\",\\\"49900.0\\\",\\\"50000.0\\\"],\\\"changes\\\":WebIO.getval({\\\"name\\\":\\\"changes\\\",\\\"scope\\\":\\\"11060369278863744538\\\",\\\"id\\\":\\\"6341356691940169987\\\",\\\"type\\\":\\\"observable\\\"}),\\\"index\\\":WebIO.getval({\\\"name\\\":\\\"index\\\",\\\"scope\\\":\\\"11060369278863744538\\\",\\\"id\\\":\\\"10928300254059225478\\\",\\\"type\\\":\\\"observable\\\"})};\\n    var self = this;\\n    function AppViewModel() {\\n        for (var key in json_data) {\\n            var el = json_data[key];\\n            this[key] = Array.isArray(el) ? ko.observableArray(el) : ko.observable(el);\\n        }\\n        \\n        [this[\\\"formatted_val\\\"]=ko.computed(    function(){\\n        return this.formatted_vals()[parseInt(this.index())-(1)];\\n    }\\n,this)]\\n        [this[\\\"changes\\\"].subscribe((function (val){!(this.valueFromJulia[\\\"changes\\\"]) ? (WebIO.setval({\\\"name\\\":\\\"changes\\\",\\\"scope\\\":\\\"11060369278863744538\\\",\\\"id\\\":\\\"6341356691940169987\\\",\\\"type\\\":\\\"observable\\\"},val)) : undefined; return this.valueFromJulia[\\\"changes\\\"]=false}),self),this[\\\"index\\\"].subscribe((function (val){!(this.valueFromJulia[\\\"index\\\"]) ? (WebIO.setval({\\\"name\\\":\\\"index\\\",\\\"scope\\\":\\\"11060369278863744538\\\",\\\"id\\\":\\\"10928300254059225478\\\",\\\"type\\\":\\\"observable\\\"},val)) : undefined; return this.valueFromJulia[\\\"index\\\"]=false}),self)]\\n        \\n    }\\n    self.model = new AppViewModel();\\n    self.valueFromJulia = {};\\n    for (var key in json_data) {\\n        self.valueFromJulia[key] = false;\\n    }\\n    ko.applyBindings(self.model, self.dom);\\n}\\n);\\n    (WebIO.importBlock({\\\"data\\\":[{\\\"name\\\":\\\"knockout\\\",\\\"type\\\":\\\"js\\\",\\\"url\\\":\\\"\\/assetserver\\/10d708ba80251634938ce239226941fe03559024-knockout.js\\\"},{\\\"name\\\":\\\"knockout_punches\\\",\\\"type\\\":\\\"js\\\",\\\"url\\\":\\\"\\/assetserver\\/dfe40853171940bd9da9c6b86f9757768070aa9d-knockout_punches.js\\\"}],\\\"type\\\":\\\"async_block\\\"})).then((imports) => handler.apply(this, imports));\\n}\\n\"],\"observables\":{\"changes\":{\"sync\":false,\"id\":\"6341356691940169987\",\"value\":0},\"index\":{\"sync\":true,\"id\":\"10928300254059225478\",\"value\":251}}},\"children\":[{\"props\":{\"className\":\"interact-flex-row interact-widget\"},\"nodeType\":\"DOM\",\"type\":\"node\",\"instanceArgs\":{\"namespace\":\"html\",\"tag\":\"div\"},\"children\":[{\"props\":{\"className\":\"interact-flex-row-left\"},\"nodeType\":\"DOM\",\"type\":\"node\",\"instanceArgs\":{\"namespace\":\"html\",\"tag\":\"div\"},\"children\":[{\"props\":{\"className\":\"interact \",\"style\":{\"padding\":\"5px 10px 0px 10px\"}},\"nodeType\":\"DOM\",\"type\":\"node\",\"instanceArgs\":{\"namespace\":\"html\",\"tag\":\"label\"},\"children\":[\"linux_minutes\"]}]},{\"props\":{\"className\":\"interact-flex-row-center\"},\"nodeType\":\"DOM\",\"type\":\"node\",\"instanceArgs\":{\"namespace\":\"html\",\"tag\":\"div\"},\"children\":[{\"props\":{\"max\":501,\"min\":1,\"attributes\":{\"type\":\"range\",\"data-bind\":\"numericValue: index, valueUpdate: 'input', event: {change: function (){this.changes(this.changes()+1)}}\",\"orient\":\"horizontal\"},\"step\":1,\"className\":\"slider slider is-fullwidth\",\"style\":{}},\"nodeType\":\"DOM\",\"type\":\"node\",\"instanceArgs\":{\"namespace\":\"html\",\"tag\":\"input\"},\"children\":[]}]},{\"props\":{\"className\":\"interact-flex-row-right\"},\"nodeType\":\"DOM\",\"type\":\"node\",\"instanceArgs\":{\"namespace\":\"html\",\"tag\":\"div\"},\"children\":[{\"props\":{\"attributes\":{\"data-bind\":\"text: formatted_val\"}},\"nodeType\":\"DOM\",\"type\":\"node\",\"instanceArgs\":{\"namespace\":\"html\",\"tag\":\"p\"},\"children\":[]}]}]}]}]},{\"props\":{\"className\":\"field interact-widget\"},\"nodeType\":\"DOM\",\"type\":\"node\",\"instanceArgs\":{\"namespace\":\"html\",\"tag\":\"div\"},\"children\":[{\"props\":{},\"nodeType\":\"Scope\",\"type\":\"node\",\"instanceArgs\":{\"imports\":{\"data\":[{\"name\":\"knockout\",\"type\":\"js\",\"url\":\"\\/assetserver\\/10d708ba80251634938ce239226941fe03559024-knockout.js\"},{\"name\":\"knockout_punches\",\"type\":\"js\",\"url\":\"\\/assetserver\\/dfe40853171940bd9da9c6b86f9757768070aa9d-knockout_punches.js\"},{\"name\":null,\"type\":\"js\",\"url\":\"\\/assetserver\\/fb3865ccce2e96c5166aa727e18d0923f668c890-all.js\"},{\"name\":null,\"type\":\"css\",\"url\":\"\\/assetserver\\/313b950d52846c718c545b2c92fe9725552b86f1-style.css\"},{\"name\":null,\"type\":\"css\",\"url\":\"\\/assetserver\\/70b42bc181e94ec1d79c1b4b343ce35203684157-bulma_confined.min.css\"}],\"type\":\"async_block\"},\"id\":\"390152884006693710\",\"handlers\":{\"changes\":[\"(function (val){return (val!=this.model[\\\"changes\\\"]()) ? (this.valueFromJulia[\\\"changes\\\"]=true, this.model[\\\"changes\\\"](val)) : undefined})\"],\"index\":[\"(function (val){return (val!=this.model[\\\"index\\\"]()) ? (this.valueFromJulia[\\\"index\\\"]=true, this.model[\\\"index\\\"](val)) : undefined})\"]},\"systemjs_options\":null,\"mount_callbacks\":[\"function () {\\n    var handler = (function (ko, koPunches) {\\n    ko.punches.enableAll();\\n    ko.bindingHandlers.numericValue = {\\n        init: function(element, valueAccessor, allBindings, data, context) {\\n            var stringified = ko.observable(ko.unwrap(valueAccessor()));\\n            stringified.subscribe(function(value) {\\n                var val = parseFloat(value);\\n                if (!isNaN(val)) {\\n                    valueAccessor()(val);\\n                }\\n            });\\n            valueAccessor().subscribe(function(value) {\\n                var str = JSON.stringify(value);\\n                if ((str == \\\"0\\\") && ([\\\"-0\\\", \\\"-0.\\\"].indexOf(stringified()) >= 0))\\n                     return;\\n                 if ([\\\"null\\\", \\\"\\\"].indexOf(str) >= 0)\\n                     return;\\n                stringified(str);\\n            });\\n            ko.applyBindingsToNode(\\n                element,\\n                {\\n                    value: stringified,\\n                    valueUpdate: allBindings.get('valueUpdate'),\\n                },\\n                context,\\n            );\\n        }\\n    };\\n    var json_data = {\\\"formatted_vals\\\":[\\\"0.0\\\",\\\"100.0\\\",\\\"200.0\\\",\\\"300.0\\\",\\\"400.0\\\",\\\"500.0\\\",\\\"600.0\\\",\\\"700.0\\\",\\\"800.0\\\",\\\"900.0\\\",\\\"1000.0\\\",\\\"1100.0\\\",\\\"1200.0\\\",\\\"1300.0\\\",\\\"1400.0\\\",\\\"1500.0\\\",\\\"1600.0\\\",\\\"1700.0\\\",\\\"1800.0\\\",\\\"1900.0\\\",\\\"2000.0\\\",\\\"2100.0\\\",\\\"2200.0\\\",\\\"2300.0\\\",\\\"2400.0\\\",\\\"2500.0\\\",\\\"2600.0\\\",\\\"2700.0\\\",\\\"2800.0\\\",\\\"2900.0\\\",\\\"3000.0\\\",\\\"3100.0\\\",\\\"3200.0\\\",\\\"3300.0\\\",\\\"3400.0\\\",\\\"3500.0\\\",\\\"3600.0\\\",\\\"3700.0\\\",\\\"3800.0\\\",\\\"3900.0\\\",\\\"4000.0\\\",\\\"4100.0\\\",\\\"4200.0\\\",\\\"4300.0\\\",\\\"4400.0\\\",\\\"4500.0\\\",\\\"4600.0\\\",\\\"4700.0\\\",\\\"4800.0\\\",\\\"4900.0\\\",\\\"5000.0\\\",\\\"5100.0\\\",\\\"5200.0\\\",\\\"5300.0\\\",\\\"5400.0\\\",\\\"5500.0\\\",\\\"5600.0\\\",\\\"5700.0\\\",\\\"5800.0\\\",\\\"5900.0\\\",\\\"6000.0\\\",\\\"6100.0\\\",\\\"6200.0\\\",\\\"6300.0\\\",\\\"6400.0\\\",\\\"6500.0\\\",\\\"6600.0\\\",\\\"6700.0\\\",\\\"6800.0\\\",\\\"6900.0\\\",\\\"7000.0\\\",\\\"7100.0\\\",\\\"7200.0\\\",\\\"7300.0\\\",\\\"7400.0\\\",\\\"7500.0\\\",\\\"7600.0\\\",\\\"7700.0\\\",\\\"7800.0\\\",\\\"7900.0\\\",\\\"8000.0\\\",\\\"8100.0\\\",\\\"8200.0\\\",\\\"8300.0\\\",\\\"8400.0\\\",\\\"8500.0\\\",\\\"8600.0\\\",\\\"8700.0\\\",\\\"8800.0\\\",\\\"8900.0\\\",\\\"9000.0\\\",\\\"9100.0\\\",\\\"9200.0\\\",\\\"9300.0\\\",\\\"9400.0\\\",\\\"9500.0\\\",\\\"9600.0\\\",\\\"9700.0\\\",\\\"9800.0\\\",\\\"9900.0\\\",\\\"10000.0\\\",\\\"10100.0\\\",\\\"10200.0\\\",\\\"10300.0\\\",\\\"10400.0\\\",\\\"10500.0\\\",\\\"10600.0\\\",\\\"10700.0\\\",\\\"10800.0\\\",\\\"10900.0\\\",\\\"11000.0\\\",\\\"11100.0\\\",\\\"11200.0\\\",\\\"11300.0\\\",\\\"11400.0\\\",\\\"11500.0\\\",\\\"11600.0\\\",\\\"11700.0\\\",\\\"11800.0\\\",\\\"11900.0\\\",\\\"12000.0\\\",\\\"12100.0\\\",\\\"12200.0\\\",\\\"12300.0\\\",\\\"12400.0\\\",\\\"12500.0\\\",\\\"12600.0\\\",\\\"12700.0\\\",\\\"12800.0\\\",\\\"12900.0\\\",\\\"13000.0\\\",\\\"13100.0\\\",\\\"13200.0\\\",\\\"13300.0\\\",\\\"13400.0\\\",\\\"13500.0\\\",\\\"13600.0\\\",\\\"13700.0\\\",\\\"13800.0\\\",\\\"13900.0\\\",\\\"14000.0\\\",\\\"14100.0\\\",\\\"14200.0\\\",\\\"14300.0\\\",\\\"14400.0\\\",\\\"14500.0\\\",\\\"14600.0\\\",\\\"14700.0\\\",\\\"14800.0\\\",\\\"14900.0\\\",\\\"15000.0\\\",\\\"15100.0\\\",\\\"15200.0\\\",\\\"15300.0\\\",\\\"15400.0\\\",\\\"15500.0\\\",\\\"15600.0\\\",\\\"15700.0\\\",\\\"15800.0\\\",\\\"15900.0\\\",\\\"16000.0\\\",\\\"16100.0\\\",\\\"16200.0\\\",\\\"16300.0\\\",\\\"16400.0\\\",\\\"16500.0\\\",\\\"16600.0\\\",\\\"16700.0\\\",\\\"16800.0\\\",\\\"16900.0\\\",\\\"17000.0\\\",\\\"17100.0\\\",\\\"17200.0\\\",\\\"17300.0\\\",\\\"17400.0\\\",\\\"17500.0\\\",\\\"17600.0\\\",\\\"17700.0\\\",\\\"17800.0\\\",\\\"17900.0\\\",\\\"18000.0\\\",\\\"18100.0\\\",\\\"18200.0\\\",\\\"18300.0\\\",\\\"18400.0\\\",\\\"18500.0\\\",\\\"18600.0\\\",\\\"18700.0\\\",\\\"18800.0\\\",\\\"18900.0\\\",\\\"19000.0\\\",\\\"19100.0\\\",\\\"19200.0\\\",\\\"19300.0\\\",\\\"19400.0\\\",\\\"19500.0\\\",\\\"19600.0\\\",\\\"19700.0\\\",\\\"19800.0\\\",\\\"19900.0\\\",\\\"20000.0\\\",\\\"20100.0\\\",\\\"20200.0\\\",\\\"20300.0\\\",\\\"20400.0\\\",\\\"20500.0\\\",\\\"20600.0\\\",\\\"20700.0\\\",\\\"20800.0\\\",\\\"20900.0\\\",\\\"21000.0\\\",\\\"21100.0\\\",\\\"21200.0\\\",\\\"21300.0\\\",\\\"21400.0\\\",\\\"21500.0\\\",\\\"21600.0\\\",\\\"21700.0\\\",\\\"21800.0\\\",\\\"21900.0\\\",\\\"22000.0\\\",\\\"22100.0\\\",\\\"22200.0\\\",\\\"22300.0\\\",\\\"22400.0\\\",\\\"22500.0\\\",\\\"22600.0\\\",\\\"22700.0\\\",\\\"22800.0\\\",\\\"22900.0\\\",\\\"23000.0\\\",\\\"23100.0\\\",\\\"23200.0\\\",\\\"23300.0\\\",\\\"23400.0\\\",\\\"23500.0\\\",\\\"23600.0\\\",\\\"23700.0\\\",\\\"23800.0\\\",\\\"23900.0\\\",\\\"24000.0\\\",\\\"24100.0\\\",\\\"24200.0\\\",\\\"24300.0\\\",\\\"24400.0\\\",\\\"24500.0\\\",\\\"24600.0\\\",\\\"24700.0\\\",\\\"24800.0\\\",\\\"24900.0\\\",\\\"25000.0\\\",\\\"25100.0\\\",\\\"25200.0\\\",\\\"25300.0\\\",\\\"25400.0\\\",\\\"25500.0\\\",\\\"25600.0\\\",\\\"25700.0\\\",\\\"25800.0\\\",\\\"25900.0\\\",\\\"26000.0\\\",\\\"26100.0\\\",\\\"26200.0\\\",\\\"26300.0\\\",\\\"26400.0\\\",\\\"26500.0\\\",\\\"26600.0\\\",\\\"26700.0\\\",\\\"26800.0\\\",\\\"26900.0\\\",\\\"27000.0\\\",\\\"27100.0\\\",\\\"27200.0\\\",\\\"27300.0\\\",\\\"27400.0\\\",\\\"27500.0\\\",\\\"27600.0\\\",\\\"27700.0\\\",\\\"27800.0\\\",\\\"27900.0\\\",\\\"28000.0\\\",\\\"28100.0\\\",\\\"28200.0\\\",\\\"28300.0\\\",\\\"28400.0\\\",\\\"28500.0\\\",\\\"28600.0\\\",\\\"28700.0\\\",\\\"28800.0\\\",\\\"28900.0\\\",\\\"29000.0\\\",\\\"29100.0\\\",\\\"29200.0\\\",\\\"29300.0\\\",\\\"29400.0\\\",\\\"29500.0\\\",\\\"29600.0\\\",\\\"29700.0\\\",\\\"29800.0\\\",\\\"29900.0\\\",\\\"30000.0\\\",\\\"30100.0\\\",\\\"30200.0\\\",\\\"30300.0\\\",\\\"30400.0\\\",\\\"30500.0\\\",\\\"30600.0\\\",\\\"30700.0\\\",\\\"30800.0\\\",\\\"30900.0\\\",\\\"31000.0\\\",\\\"31100.0\\\",\\\"31200.0\\\",\\\"31300.0\\\",\\\"31400.0\\\",\\\"31500.0\\\",\\\"31600.0\\\",\\\"31700.0\\\",\\\"31800.0\\\",\\\"31900.0\\\",\\\"32000.0\\\",\\\"32100.0\\\",\\\"32200.0\\\",\\\"32300.0\\\",\\\"32400.0\\\",\\\"32500.0\\\",\\\"32600.0\\\",\\\"32700.0\\\",\\\"32800.0\\\",\\\"32900.0\\\",\\\"33000.0\\\",\\\"33100.0\\\",\\\"33200.0\\\",\\\"33300.0\\\",\\\"33400.0\\\",\\\"33500.0\\\",\\\"33600.0\\\",\\\"33700.0\\\",\\\"33800.0\\\",\\\"33900.0\\\",\\\"34000.0\\\",\\\"34100.0\\\",\\\"34200.0\\\",\\\"34300.0\\\",\\\"34400.0\\\",\\\"34500.0\\\",\\\"34600.0\\\",\\\"34700.0\\\",\\\"34800.0\\\",\\\"34900.0\\\",\\\"35000.0\\\",\\\"35100.0\\\",\\\"35200.0\\\",\\\"35300.0\\\",\\\"35400.0\\\",\\\"35500.0\\\",\\\"35600.0\\\",\\\"35700.0\\\",\\\"35800.0\\\",\\\"35900.0\\\",\\\"36000.0\\\",\\\"36100.0\\\",\\\"36200.0\\\",\\\"36300.0\\\",\\\"36400.0\\\",\\\"36500.0\\\",\\\"36600.0\\\",\\\"36700.0\\\",\\\"36800.0\\\",\\\"36900.0\\\",\\\"37000.0\\\",\\\"37100.0\\\",\\\"37200.0\\\",\\\"37300.0\\\",\\\"37400.0\\\",\\\"37500.0\\\",\\\"37600.0\\\",\\\"37700.0\\\",\\\"37800.0\\\",\\\"37900.0\\\",\\\"38000.0\\\",\\\"38100.0\\\",\\\"38200.0\\\",\\\"38300.0\\\",\\\"38400.0\\\",\\\"38500.0\\\",\\\"38600.0\\\",\\\"38700.0\\\",\\\"38800.0\\\",\\\"38900.0\\\",\\\"39000.0\\\",\\\"39100.0\\\",\\\"39200.0\\\",\\\"39300.0\\\",\\\"39400.0\\\",\\\"39500.0\\\",\\\"39600.0\\\",\\\"39700.0\\\",\\\"39800.0\\\",\\\"39900.0\\\",\\\"40000.0\\\",\\\"40100.0\\\",\\\"40200.0\\\",\\\"40300.0\\\",\\\"40400.0\\\",\\\"40500.0\\\",\\\"40600.0\\\",\\\"40700.0\\\",\\\"40800.0\\\",\\\"40900.0\\\",\\\"41000.0\\\",\\\"41100.0\\\",\\\"41200.0\\\",\\\"41300.0\\\",\\\"41400.0\\\",\\\"41500.0\\\",\\\"41600.0\\\",\\\"41700.0\\\",\\\"41800.0\\\",\\\"41900.0\\\",\\\"42000.0\\\",\\\"42100.0\\\",\\\"42200.0\\\",\\\"42300.0\\\",\\\"42400.0\\\",\\\"42500.0\\\",\\\"42600.0\\\",\\\"42700.0\\\",\\\"42800.0\\\",\\\"42900.0\\\",\\\"43000.0\\\",\\\"43100.0\\\",\\\"43200.0\\\",\\\"43300.0\\\",\\\"43400.0\\\",\\\"43500.0\\\",\\\"43600.0\\\",\\\"43700.0\\\",\\\"43800.0\\\",\\\"43900.0\\\",\\\"44000.0\\\",\\\"44100.0\\\",\\\"44200.0\\\",\\\"44300.0\\\",\\\"44400.0\\\",\\\"44500.0\\\",\\\"44600.0\\\",\\\"44700.0\\\",\\\"44800.0\\\",\\\"44900.0\\\",\\\"45000.0\\\",\\\"45100.0\\\",\\\"45200.0\\\",\\\"45300.0\\\",\\\"45400.0\\\",\\\"45500.0\\\",\\\"45600.0\\\",\\\"45700.0\\\",\\\"45800.0\\\",\\\"45900.0\\\",\\\"46000.0\\\",\\\"46100.0\\\",\\\"46200.0\\\",\\\"46300.0\\\",\\\"46400.0\\\",\\\"46500.0\\\",\\\"46600.0\\\",\\\"46700.0\\\",\\\"46800.0\\\",\\\"46900.0\\\",\\\"47000.0\\\",\\\"47100.0\\\",\\\"47200.0\\\",\\\"47300.0\\\",\\\"47400.0\\\",\\\"47500.0\\\",\\\"47600.0\\\",\\\"47700.0\\\",\\\"47800.0\\\",\\\"47900.0\\\",\\\"48000.0\\\",\\\"48100.0\\\",\\\"48200.0\\\",\\\"48300.0\\\",\\\"48400.0\\\",\\\"48500.0\\\",\\\"48600.0\\\",\\\"48700.0\\\",\\\"48800.0\\\",\\\"48900.0\\\",\\\"49000.0\\\",\\\"49100.0\\\",\\\"49200.0\\\",\\\"49300.0\\\",\\\"49400.0\\\",\\\"49500.0\\\",\\\"49600.0\\\",\\\"49700.0\\\",\\\"49800.0\\\",\\\"49900.0\\\",\\\"50000.0\\\"],\\\"changes\\\":WebIO.getval({\\\"name\\\":\\\"changes\\\",\\\"scope\\\":\\\"390152884006693710\\\",\\\"id\\\":\\\"10537923239805161659\\\",\\\"type\\\":\\\"observable\\\"}),\\\"index\\\":WebIO.getval({\\\"name\\\":\\\"index\\\",\\\"scope\\\":\\\"390152884006693710\\\",\\\"id\\\":\\\"369996787126156768\\\",\\\"type\\\":\\\"observable\\\"})};\\n    var self = this;\\n    function AppViewModel() {\\n        for (var key in json_data) {\\n            var el = json_data[key];\\n            this[key] = Array.isArray(el) ? ko.observableArray(el) : ko.observable(el);\\n        }\\n        \\n        [this[\\\"formatted_val\\\"]=ko.computed(    function(){\\n        return this.formatted_vals()[parseInt(this.index())-(1)];\\n    }\\n,this)]\\n        [this[\\\"changes\\\"].subscribe((function (val){!(this.valueFromJulia[\\\"changes\\\"]) ? (WebIO.setval({\\\"name\\\":\\\"changes\\\",\\\"scope\\\":\\\"390152884006693710\\\",\\\"id\\\":\\\"10537923239805161659\\\",\\\"type\\\":\\\"observable\\\"},val)) : undefined; return this.valueFromJulia[\\\"changes\\\"]=false}),self),this[\\\"index\\\"].subscribe((function (val){!(this.valueFromJulia[\\\"index\\\"]) ? (WebIO.setval({\\\"name\\\":\\\"index\\\",\\\"scope\\\":\\\"390152884006693710\\\",\\\"id\\\":\\\"369996787126156768\\\",\\\"type\\\":\\\"observable\\\"},val)) : undefined; return this.valueFromJulia[\\\"index\\\"]=false}),self)]\\n        \\n    }\\n    self.model = new AppViewModel();\\n    self.valueFromJulia = {};\\n    for (var key in json_data) {\\n        self.valueFromJulia[key] = false;\\n    }\\n    ko.applyBindings(self.model, self.dom);\\n}\\n);\\n    (WebIO.importBlock({\\\"data\\\":[{\\\"name\\\":\\\"knockout\\\",\\\"type\\\":\\\"js\\\",\\\"url\\\":\\\"\\/assetserver\\/10d708ba80251634938ce239226941fe03559024-knockout.js\\\"},{\\\"name\\\":\\\"knockout_punches\\\",\\\"type\\\":\\\"js\\\",\\\"url\\\":\\\"\\/assetserver\\/dfe40853171940bd9da9c6b86f9757768070aa9d-knockout_punches.js\\\"}],\\\"type\\\":\\\"async_block\\\"})).then((imports) => handler.apply(this, imports));\\n}\\n\"],\"observables\":{\"changes\":{\"sync\":false,\"id\":\"10537923239805161659\",\"value\":0},\"index\":{\"sync\":true,\"id\":\"369996787126156768\",\"value\":251}}},\"children\":[{\"props\":{\"className\":\"interact-flex-row interact-widget\"},\"nodeType\":\"DOM\",\"type\":\"node\",\"instanceArgs\":{\"namespace\":\"html\",\"tag\":\"div\"},\"children\":[{\"props\":{\"className\":\"interact-flex-row-left\"},\"nodeType\":\"DOM\",\"type\":\"node\",\"instanceArgs\":{\"namespace\":\"html\",\"tag\":\"div\"},\"children\":[{\"props\":{\"className\":\"interact \",\"style\":{\"padding\":\"5px 10px 0px 10px\"}},\"nodeType\":\"DOM\",\"type\":\"node\",\"instanceArgs\":{\"namespace\":\"html\",\"tag\":\"label\"},\"children\":[\"macos_minutes\"]}]},{\"props\":{\"className\":\"interact-flex-row-center\"},\"nodeType\":\"DOM\",\"type\":\"node\",\"instanceArgs\":{\"namespace\":\"html\",\"tag\":\"div\"},\"children\":[{\"props\":{\"max\":501,\"min\":1,\"attributes\":{\"type\":\"range\",\"data-bind\":\"numericValue: index, valueUpdate: 'input', event: {change: function (){this.changes(this.changes()+1)}}\",\"orient\":\"horizontal\"},\"step\":1,\"className\":\"slider slider is-fullwidth\",\"style\":{}},\"nodeType\":\"DOM\",\"type\":\"node\",\"instanceArgs\":{\"namespace\":\"html\",\"tag\":\"input\"},\"children\":[]}]},{\"props\":{\"className\":\"interact-flex-row-right\"},\"nodeType\":\"DOM\",\"type\":\"node\",\"instanceArgs\":{\"namespace\":\"html\",\"tag\":\"div\"},\"children\":[{\"props\":{\"attributes\":{\"data-bind\":\"text: formatted_val\"}},\"nodeType\":\"DOM\",\"type\":\"node\",\"instanceArgs\":{\"namespace\":\"html\",\"tag\":\"p\"},\"children\":[]}]}]}]}]},{\"props\":{\"className\":\"field interact-widget\"},\"nodeType\":\"DOM\",\"type\":\"node\",\"instanceArgs\":{\"namespace\":\"html\",\"tag\":\"div\"},\"children\":[{\"props\":{},\"nodeType\":\"Scope\",\"type\":\"node\",\"instanceArgs\":{\"imports\":{\"data\":[{\"name\":\"knockout\",\"type\":\"js\",\"url\":\"\\/assetserver\\/10d708ba80251634938ce239226941fe03559024-knockout.js\"},{\"name\":\"knockout_punches\",\"type\":\"js\",\"url\":\"\\/assetserver\\/dfe40853171940bd9da9c6b86f9757768070aa9d-knockout_punches.js\"},{\"name\":null,\"type\":\"js\",\"url\":\"\\/assetserver\\/fb3865ccce2e96c5166aa727e18d0923f668c890-all.js\"},{\"name\":null,\"type\":\"css\",\"url\":\"\\/assetserver\\/313b950d52846c718c545b2c92fe9725552b86f1-style.css\"},{\"name\":null,\"type\":\"css\",\"url\":\"\\/assetserver\\/70b42bc181e94ec1d79c1b4b343ce35203684157-bulma_confined.min.css\"}],\"type\":\"async_block\"},\"id\":\"7868247203926303252\",\"handlers\":{\"changes\":[\"(function (val){return (val!=this.model[\\\"changes\\\"]()) ? (this.valueFromJulia[\\\"changes\\\"]=true, this.model[\\\"changes\\\"](val)) : undefined})\"],\"index\":[\"(function (val){return (val!=this.model[\\\"index\\\"]()) ? (this.valueFromJulia[\\\"index\\\"]=true, this.model[\\\"index\\\"](val)) : undefined})\"]},\"systemjs_options\":null,\"mount_callbacks\":[\"function () {\\n    var handler = (function (ko, koPunches) {\\n    ko.punches.enableAll();\\n    ko.bindingHandlers.numericValue = {\\n        init: function(element, valueAccessor, allBindings, data, context) {\\n            var stringified = ko.observable(ko.unwrap(valueAccessor()));\\n            stringified.subscribe(function(value) {\\n                var val = parseFloat(value);\\n                if (!isNaN(val)) {\\n                    valueAccessor()(val);\\n                }\\n            });\\n            valueAccessor().subscribe(function(value) {\\n                var str = JSON.stringify(value);\\n                if ((str == \\\"0\\\") && ([\\\"-0\\\", \\\"-0.\\\"].indexOf(stringified()) >= 0))\\n                     return;\\n                 if ([\\\"null\\\", \\\"\\\"].indexOf(str) >= 0)\\n                     return;\\n                stringified(str);\\n            });\\n            ko.applyBindingsToNode(\\n                element,\\n                {\\n                    value: stringified,\\n                    valueUpdate: allBindings.get('valueUpdate'),\\n                },\\n                context,\\n            );\\n        }\\n    };\\n    var json_data = {\\\"formatted_vals\\\":[\\\"0.0\\\",\\\"100.0\\\",\\\"200.0\\\",\\\"300.0\\\",\\\"400.0\\\",\\\"500.0\\\",\\\"600.0\\\",\\\"700.0\\\",\\\"800.0\\\",\\\"900.0\\\",\\\"1000.0\\\",\\\"1100.0\\\",\\\"1200.0\\\",\\\"1300.0\\\",\\\"1400.0\\\",\\\"1500.0\\\",\\\"1600.0\\\",\\\"1700.0\\\",\\\"1800.0\\\",\\\"1900.0\\\",\\\"2000.0\\\",\\\"2100.0\\\",\\\"2200.0\\\",\\\"2300.0\\\",\\\"2400.0\\\",\\\"2500.0\\\",\\\"2600.0\\\",\\\"2700.0\\\",\\\"2800.0\\\",\\\"2900.0\\\",\\\"3000.0\\\",\\\"3100.0\\\",\\\"3200.0\\\",\\\"3300.0\\\",\\\"3400.0\\\",\\\"3500.0\\\",\\\"3600.0\\\",\\\"3700.0\\\",\\\"3800.0\\\",\\\"3900.0\\\",\\\"4000.0\\\",\\\"4100.0\\\",\\\"4200.0\\\",\\\"4300.0\\\",\\\"4400.0\\\",\\\"4500.0\\\",\\\"4600.0\\\",\\\"4700.0\\\",\\\"4800.0\\\",\\\"4900.0\\\",\\\"5000.0\\\",\\\"5100.0\\\",\\\"5200.0\\\",\\\"5300.0\\\",\\\"5400.0\\\",\\\"5500.0\\\",\\\"5600.0\\\",\\\"5700.0\\\",\\\"5800.0\\\",\\\"5900.0\\\",\\\"6000.0\\\",\\\"6100.0\\\",\\\"6200.0\\\",\\\"6300.0\\\",\\\"6400.0\\\",\\\"6500.0\\\",\\\"6600.0\\\",\\\"6700.0\\\",\\\"6800.0\\\",\\\"6900.0\\\",\\\"7000.0\\\",\\\"7100.0\\\",\\\"7200.0\\\",\\\"7300.0\\\",\\\"7400.0\\\",\\\"7500.0\\\",\\\"7600.0\\\",\\\"7700.0\\\",\\\"7800.0\\\",\\\"7900.0\\\",\\\"8000.0\\\",\\\"8100.0\\\",\\\"8200.0\\\",\\\"8300.0\\\",\\\"8400.0\\\",\\\"8500.0\\\",\\\"8600.0\\\",\\\"8700.0\\\",\\\"8800.0\\\",\\\"8900.0\\\",\\\"9000.0\\\",\\\"9100.0\\\",\\\"9200.0\\\",\\\"9300.0\\\",\\\"9400.0\\\",\\\"9500.0\\\",\\\"9600.0\\\",\\\"9700.0\\\",\\\"9800.0\\\",\\\"9900.0\\\",\\\"10000.0\\\",\\\"10100.0\\\",\\\"10200.0\\\",\\\"10300.0\\\",\\\"10400.0\\\",\\\"10500.0\\\",\\\"10600.0\\\",\\\"10700.0\\\",\\\"10800.0\\\",\\\"10900.0\\\",\\\"11000.0\\\",\\\"11100.0\\\",\\\"11200.0\\\",\\\"11300.0\\\",\\\"11400.0\\\",\\\"11500.0\\\",\\\"11600.0\\\",\\\"11700.0\\\",\\\"11800.0\\\",\\\"11900.0\\\",\\\"12000.0\\\",\\\"12100.0\\\",\\\"12200.0\\\",\\\"12300.0\\\",\\\"12400.0\\\",\\\"12500.0\\\",\\\"12600.0\\\",\\\"12700.0\\\",\\\"12800.0\\\",\\\"12900.0\\\",\\\"13000.0\\\",\\\"13100.0\\\",\\\"13200.0\\\",\\\"13300.0\\\",\\\"13400.0\\\",\\\"13500.0\\\",\\\"13600.0\\\",\\\"13700.0\\\",\\\"13800.0\\\",\\\"13900.0\\\",\\\"14000.0\\\",\\\"14100.0\\\",\\\"14200.0\\\",\\\"14300.0\\\",\\\"14400.0\\\",\\\"14500.0\\\",\\\"14600.0\\\",\\\"14700.0\\\",\\\"14800.0\\\",\\\"14900.0\\\",\\\"15000.0\\\",\\\"15100.0\\\",\\\"15200.0\\\",\\\"15300.0\\\",\\\"15400.0\\\",\\\"15500.0\\\",\\\"15600.0\\\",\\\"15700.0\\\",\\\"15800.0\\\",\\\"15900.0\\\",\\\"16000.0\\\",\\\"16100.0\\\",\\\"16200.0\\\",\\\"16300.0\\\",\\\"16400.0\\\",\\\"16500.0\\\",\\\"16600.0\\\",\\\"16700.0\\\",\\\"16800.0\\\",\\\"16900.0\\\",\\\"17000.0\\\",\\\"17100.0\\\",\\\"17200.0\\\",\\\"17300.0\\\",\\\"17400.0\\\",\\\"17500.0\\\",\\\"17600.0\\\",\\\"17700.0\\\",\\\"17800.0\\\",\\\"17900.0\\\",\\\"18000.0\\\",\\\"18100.0\\\",\\\"18200.0\\\",\\\"18300.0\\\",\\\"18400.0\\\",\\\"18500.0\\\",\\\"18600.0\\\",\\\"18700.0\\\",\\\"18800.0\\\",\\\"18900.0\\\",\\\"19000.0\\\",\\\"19100.0\\\",\\\"19200.0\\\",\\\"19300.0\\\",\\\"19400.0\\\",\\\"19500.0\\\",\\\"19600.0\\\",\\\"19700.0\\\",\\\"19800.0\\\",\\\"19900.0\\\",\\\"20000.0\\\",\\\"20100.0\\\",\\\"20200.0\\\",\\\"20300.0\\\",\\\"20400.0\\\",\\\"20500.0\\\",\\\"20600.0\\\",\\\"20700.0\\\",\\\"20800.0\\\",\\\"20900.0\\\",\\\"21000.0\\\",\\\"21100.0\\\",\\\"21200.0\\\",\\\"21300.0\\\",\\\"21400.0\\\",\\\"21500.0\\\",\\\"21600.0\\\",\\\"21700.0\\\",\\\"21800.0\\\",\\\"21900.0\\\",\\\"22000.0\\\",\\\"22100.0\\\",\\\"22200.0\\\",\\\"22300.0\\\",\\\"22400.0\\\",\\\"22500.0\\\",\\\"22600.0\\\",\\\"22700.0\\\",\\\"22800.0\\\",\\\"22900.0\\\",\\\"23000.0\\\",\\\"23100.0\\\",\\\"23200.0\\\",\\\"23300.0\\\",\\\"23400.0\\\",\\\"23500.0\\\",\\\"23600.0\\\",\\\"23700.0\\\",\\\"23800.0\\\",\\\"23900.0\\\",\\\"24000.0\\\",\\\"24100.0\\\",\\\"24200.0\\\",\\\"24300.0\\\",\\\"24400.0\\\",\\\"24500.0\\\",\\\"24600.0\\\",\\\"24700.0\\\",\\\"24800.0\\\",\\\"24900.0\\\",\\\"25000.0\\\",\\\"25100.0\\\",\\\"25200.0\\\",\\\"25300.0\\\",\\\"25400.0\\\",\\\"25500.0\\\",\\\"25600.0\\\",\\\"25700.0\\\",\\\"25800.0\\\",\\\"25900.0\\\",\\\"26000.0\\\",\\\"26100.0\\\",\\\"26200.0\\\",\\\"26300.0\\\",\\\"26400.0\\\",\\\"26500.0\\\",\\\"26600.0\\\",\\\"26700.0\\\",\\\"26800.0\\\",\\\"26900.0\\\",\\\"27000.0\\\",\\\"27100.0\\\",\\\"27200.0\\\",\\\"27300.0\\\",\\\"27400.0\\\",\\\"27500.0\\\",\\\"27600.0\\\",\\\"27700.0\\\",\\\"27800.0\\\",\\\"27900.0\\\",\\\"28000.0\\\",\\\"28100.0\\\",\\\"28200.0\\\",\\\"28300.0\\\",\\\"28400.0\\\",\\\"28500.0\\\",\\\"28600.0\\\",\\\"28700.0\\\",\\\"28800.0\\\",\\\"28900.0\\\",\\\"29000.0\\\",\\\"29100.0\\\",\\\"29200.0\\\",\\\"29300.0\\\",\\\"29400.0\\\",\\\"29500.0\\\",\\\"29600.0\\\",\\\"29700.0\\\",\\\"29800.0\\\",\\\"29900.0\\\",\\\"30000.0\\\",\\\"30100.0\\\",\\\"30200.0\\\",\\\"30300.0\\\",\\\"30400.0\\\",\\\"30500.0\\\",\\\"30600.0\\\",\\\"30700.0\\\",\\\"30800.0\\\",\\\"30900.0\\\",\\\"31000.0\\\",\\\"31100.0\\\",\\\"31200.0\\\",\\\"31300.0\\\",\\\"31400.0\\\",\\\"31500.0\\\",\\\"31600.0\\\",\\\"31700.0\\\",\\\"31800.0\\\",\\\"31900.0\\\",\\\"32000.0\\\",\\\"32100.0\\\",\\\"32200.0\\\",\\\"32300.0\\\",\\\"32400.0\\\",\\\"32500.0\\\",\\\"32600.0\\\",\\\"32700.0\\\",\\\"32800.0\\\",\\\"32900.0\\\",\\\"33000.0\\\",\\\"33100.0\\\",\\\"33200.0\\\",\\\"33300.0\\\",\\\"33400.0\\\",\\\"33500.0\\\",\\\"33600.0\\\",\\\"33700.0\\\",\\\"33800.0\\\",\\\"33900.0\\\",\\\"34000.0\\\",\\\"34100.0\\\",\\\"34200.0\\\",\\\"34300.0\\\",\\\"34400.0\\\",\\\"34500.0\\\",\\\"34600.0\\\",\\\"34700.0\\\",\\\"34800.0\\\",\\\"34900.0\\\",\\\"35000.0\\\",\\\"35100.0\\\",\\\"35200.0\\\",\\\"35300.0\\\",\\\"35400.0\\\",\\\"35500.0\\\",\\\"35600.0\\\",\\\"35700.0\\\",\\\"35800.0\\\",\\\"35900.0\\\",\\\"36000.0\\\",\\\"36100.0\\\",\\\"36200.0\\\",\\\"36300.0\\\",\\\"36400.0\\\",\\\"36500.0\\\",\\\"36600.0\\\",\\\"36700.0\\\",\\\"36800.0\\\",\\\"36900.0\\\",\\\"37000.0\\\",\\\"37100.0\\\",\\\"37200.0\\\",\\\"37300.0\\\",\\\"37400.0\\\",\\\"37500.0\\\",\\\"37600.0\\\",\\\"37700.0\\\",\\\"37800.0\\\",\\\"37900.0\\\",\\\"38000.0\\\",\\\"38100.0\\\",\\\"38200.0\\\",\\\"38300.0\\\",\\\"38400.0\\\",\\\"38500.0\\\",\\\"38600.0\\\",\\\"38700.0\\\",\\\"38800.0\\\",\\\"38900.0\\\",\\\"39000.0\\\",\\\"39100.0\\\",\\\"39200.0\\\",\\\"39300.0\\\",\\\"39400.0\\\",\\\"39500.0\\\",\\\"39600.0\\\",\\\"39700.0\\\",\\\"39800.0\\\",\\\"39900.0\\\",\\\"40000.0\\\",\\\"40100.0\\\",\\\"40200.0\\\",\\\"40300.0\\\",\\\"40400.0\\\",\\\"40500.0\\\",\\\"40600.0\\\",\\\"40700.0\\\",\\\"40800.0\\\",\\\"40900.0\\\",\\\"41000.0\\\",\\\"41100.0\\\",\\\"41200.0\\\",\\\"41300.0\\\",\\\"41400.0\\\",\\\"41500.0\\\",\\\"41600.0\\\",\\\"41700.0\\\",\\\"41800.0\\\",\\\"41900.0\\\",\\\"42000.0\\\",\\\"42100.0\\\",\\\"42200.0\\\",\\\"42300.0\\\",\\\"42400.0\\\",\\\"42500.0\\\",\\\"42600.0\\\",\\\"42700.0\\\",\\\"42800.0\\\",\\\"42900.0\\\",\\\"43000.0\\\",\\\"43100.0\\\",\\\"43200.0\\\",\\\"43300.0\\\",\\\"43400.0\\\",\\\"43500.0\\\",\\\"43600.0\\\",\\\"43700.0\\\",\\\"43800.0\\\",\\\"43900.0\\\",\\\"44000.0\\\",\\\"44100.0\\\",\\\"44200.0\\\",\\\"44300.0\\\",\\\"44400.0\\\",\\\"44500.0\\\",\\\"44600.0\\\",\\\"44700.0\\\",\\\"44800.0\\\",\\\"44900.0\\\",\\\"45000.0\\\",\\\"45100.0\\\",\\\"45200.0\\\",\\\"45300.0\\\",\\\"45400.0\\\",\\\"45500.0\\\",\\\"45600.0\\\",\\\"45700.0\\\",\\\"45800.0\\\",\\\"45900.0\\\",\\\"46000.0\\\",\\\"46100.0\\\",\\\"46200.0\\\",\\\"46300.0\\\",\\\"46400.0\\\",\\\"46500.0\\\",\\\"46600.0\\\",\\\"46700.0\\\",\\\"46800.0\\\",\\\"46900.0\\\",\\\"47000.0\\\",\\\"47100.0\\\",\\\"47200.0\\\",\\\"47300.0\\\",\\\"47400.0\\\",\\\"47500.0\\\",\\\"47600.0\\\",\\\"47700.0\\\",\\\"47800.0\\\",\\\"47900.0\\\",\\\"48000.0\\\",\\\"48100.0\\\",\\\"48200.0\\\",\\\"48300.0\\\",\\\"48400.0\\\",\\\"48500.0\\\",\\\"48600.0\\\",\\\"48700.0\\\",\\\"48800.0\\\",\\\"48900.0\\\",\\\"49000.0\\\",\\\"49100.0\\\",\\\"49200.0\\\",\\\"49300.0\\\",\\\"49400.0\\\",\\\"49500.0\\\",\\\"49600.0\\\",\\\"49700.0\\\",\\\"49800.0\\\",\\\"49900.0\\\",\\\"50000.0\\\"],\\\"changes\\\":WebIO.getval({\\\"name\\\":\\\"changes\\\",\\\"scope\\\":\\\"7868247203926303252\\\",\\\"id\\\":\\\"16451476737452117324\\\",\\\"type\\\":\\\"observable\\\"}),\\\"index\\\":WebIO.getval({\\\"name\\\":\\\"index\\\",\\\"scope\\\":\\\"7868247203926303252\\\",\\\"id\\\":\\\"11377647478939667161\\\",\\\"type\\\":\\\"observable\\\"})};\\n    var self = this;\\n    function AppViewModel() {\\n        for (var key in json_data) {\\n            var el = json_data[key];\\n            this[key] = Array.isArray(el) ? ko.observableArray(el) : ko.observable(el);\\n        }\\n        \\n        [this[\\\"formatted_val\\\"]=ko.computed(    function(){\\n        return this.formatted_vals()[parseInt(this.index())-(1)];\\n    }\\n,this)]\\n        [this[\\\"changes\\\"].subscribe((function (val){!(this.valueFromJulia[\\\"changes\\\"]) ? (WebIO.setval({\\\"name\\\":\\\"changes\\\",\\\"scope\\\":\\\"7868247203926303252\\\",\\\"id\\\":\\\"16451476737452117324\\\",\\\"type\\\":\\\"observable\\\"},val)) : undefined; return this.valueFromJulia[\\\"changes\\\"]=false}),self),this[\\\"index\\\"].subscribe((function (val){!(this.valueFromJulia[\\\"index\\\"]) ? (WebIO.setval({\\\"name\\\":\\\"index\\\",\\\"scope\\\":\\\"7868247203926303252\\\",\\\"id\\\":\\\"11377647478939667161\\\",\\\"type\\\":\\\"observable\\\"},val)) : undefined; return this.valueFromJulia[\\\"index\\\"]=false}),self)]\\n        \\n    }\\n    self.model = new AppViewModel();\\n    self.valueFromJulia = {};\\n    for (var key in json_data) {\\n        self.valueFromJulia[key] = false;\\n    }\\n    ko.applyBindings(self.model, self.dom);\\n}\\n);\\n    (WebIO.importBlock({\\\"data\\\":[{\\\"name\\\":\\\"knockout\\\",\\\"type\\\":\\\"js\\\",\\\"url\\\":\\\"\\/assetserver\\/10d708ba80251634938ce239226941fe03559024-knockout.js\\\"},{\\\"name\\\":\\\"knockout_punches\\\",\\\"type\\\":\\\"js\\\",\\\"url\\\":\\\"\\/assetserver\\/dfe40853171940bd9da9c6b86f9757768070aa9d-knockout_punches.js\\\"}],\\\"type\\\":\\\"async_block\\\"})).then((imports) => handler.apply(this, imports));\\n}\\n\"],\"observables\":{\"changes\":{\"sync\":false,\"id\":\"16451476737452117324\",\"value\":0},\"index\":{\"sync\":true,\"id\":\"11377647478939667161\",\"value\":251}}},\"children\":[{\"props\":{\"className\":\"interact-flex-row interact-widget\"},\"nodeType\":\"DOM\",\"type\":\"node\",\"instanceArgs\":{\"namespace\":\"html\",\"tag\":\"div\"},\"children\":[{\"props\":{\"className\":\"interact-flex-row-left\"},\"nodeType\":\"DOM\",\"type\":\"node\",\"instanceArgs\":{\"namespace\":\"html\",\"tag\":\"div\"},\"children\":[{\"props\":{\"className\":\"interact \",\"style\":{\"padding\":\"5px 10px 0px 10px\"}},\"nodeType\":\"DOM\",\"type\":\"node\",\"instanceArgs\":{\"namespace\":\"html\",\"tag\":\"label\"},\"children\":[\"windows_minutes\"]}]},{\"props\":{\"className\":\"interact-flex-row-center\"},\"nodeType\":\"DOM\",\"type\":\"node\",\"instanceArgs\":{\"namespace\":\"html\",\"tag\":\"div\"},\"children\":[{\"props\":{\"max\":501,\"min\":1,\"attributes\":{\"type\":\"range\",\"data-bind\":\"numericValue: index, valueUpdate: 'input', event: {change: function (){this.changes(this.changes()+1)}}\",\"orient\":\"horizontal\"},\"step\":1,\"className\":\"slider slider is-fullwidth\",\"style\":{}},\"nodeType\":\"DOM\",\"type\":\"node\",\"instanceArgs\":{\"namespace\":\"html\",\"tag\":\"input\"},\"children\":[]}]},{\"props\":{\"className\":\"interact-flex-row-right\"},\"nodeType\":\"DOM\",\"type\":\"node\",\"instanceArgs\":{\"namespace\":\"html\",\"tag\":\"div\"},\"children\":[{\"props\":{\"attributes\":{\"data-bind\":\"text: formatted_val\"}},\"nodeType\":\"DOM\",\"type\":\"node\",\"instanceArgs\":{\"namespace\":\"html\",\"tag\":\"p\"},\"children\":[]}]}]}]}]},{\"props\":{\"className\":\"field interact-widget\"},\"nodeType\":\"DOM\",\"type\":\"node\",\"instanceArgs\":{\"namespace\":\"html\",\"tag\":\"div\"},\"children\":[{\"props\":{},\"nodeType\":\"Scope\",\"type\":\"node\",\"instanceArgs\":{\"imports\":{\"data\":[{\"name\":\"knockout\",\"type\":\"js\",\"url\":\"\\/assetserver\\/10d708ba80251634938ce239226941fe03559024-knockout.js\"},{\"name\":\"knockout_punches\",\"type\":\"js\",\"url\":\"\\/assetserver\\/dfe40853171940bd9da9c6b86f9757768070aa9d-knockout_punches.js\"},{\"name\":null,\"type\":\"js\",\"url\":\"\\/assetserver\\/fb3865ccce2e96c5166aa727e18d0923f668c890-all.js\"},{\"name\":null,\"type\":\"css\",\"url\":\"\\/assetserver\\/313b950d52846c718c545b2c92fe9725552b86f1-style.css\"},{\"name\":null,\"type\":\"css\",\"url\":\"\\/assetserver\\/70b42bc181e94ec1d79c1b4b343ce35203684157-bulma_confined.min.css\"}],\"type\":\"async_block\"},\"id\":\"16344523878052437837\",\"handlers\":{\"options_js\":[\"(function (val){return (val!=this.model[\\\"options_js\\\"]()) ? (this.valueFromJulia[\\\"options_js\\\"]=true, this.model[\\\"options_js\\\"](val)) : undefined})\"],\"index\":[\"(function (val){return (val!=this.model[\\\"index\\\"]()) ? (this.valueFromJulia[\\\"index\\\"]=true, this.model[\\\"index\\\"](val)) : undefined})\"]},\"systemjs_options\":null,\"mount_callbacks\":[\"function () {\\n    var handler = (function (ko, koPunches) {\\n    ko.punches.enableAll();\\n    ko.bindingHandlers.numericValue = {\\n        init: function(element, valueAccessor, allBindings, data, context) {\\n            var stringified = ko.observable(ko.unwrap(valueAccessor()));\\n            stringified.subscribe(function(value) {\\n                var val = parseFloat(value);\\n                if (!isNaN(val)) {\\n                    valueAccessor()(val);\\n                }\\n            });\\n            valueAccessor().subscribe(function(value) {\\n                var str = JSON.stringify(value);\\n                if ((str == \\\"0\\\") && ([\\\"-0\\\", \\\"-0.\\\"].indexOf(stringified()) >= 0))\\n                     return;\\n                 if ([\\\"null\\\", \\\"\\\"].indexOf(str) >= 0)\\n                     return;\\n                stringified(str);\\n            });\\n            ko.applyBindingsToNode(\\n                element,\\n                {\\n                    value: stringified,\\n                    valueUpdate: allBindings.get('valueUpdate'),\\n                },\\n                context,\\n            );\\n        }\\n    };\\n    var json_data = {\\\"options_js\\\":WebIO.getval({\\\"name\\\":\\\"options_js\\\",\\\"scope\\\":\\\"16344523878052437837\\\",\\\"id\\\":\\\"11078067683368956221\\\",\\\"type\\\":\\\"observable\\\"}),\\\"index\\\":WebIO.getval({\\\"name\\\":\\\"index\\\",\\\"scope\\\":\\\"16344523878052437837\\\",\\\"id\\\":\\\"2770775303165687227\\\",\\\"type\\\":\\\"observable\\\"})};\\n    var self = this;\\n    function AppViewModel() {\\n        for (var key in json_data) {\\n            var el = json_data[key];\\n            this[key] = Array.isArray(el) ? ko.observableArray(el) : ko.observable(el);\\n        }\\n        \\n        \\n        [this[\\\"options_js\\\"].subscribe((function (val){!(this.valueFromJulia[\\\"options_js\\\"]) ? (WebIO.setval({\\\"name\\\":\\\"options_js\\\",\\\"scope\\\":\\\"16344523878052437837\\\",\\\"id\\\":\\\"11078067683368956221\\\",\\\"type\\\":\\\"observable\\\"},val)) : undefined; return this.valueFromJulia[\\\"options_js\\\"]=false}),self),this[\\\"index\\\"].subscribe((function (val){!(this.valueFromJulia[\\\"index\\\"]) ? (WebIO.setval({\\\"name\\\":\\\"index\\\",\\\"scope\\\":\\\"16344523878052437837\\\",\\\"id\\\":\\\"2770775303165687227\\\",\\\"type\\\":\\\"observable\\\"},val)) : undefined; return this.valueFromJulia[\\\"index\\\"]=false}),self)]\\n        \\n    }\\n    self.model = new AppViewModel();\\n    self.valueFromJulia = {};\\n    for (var key in json_data) {\\n        self.valueFromJulia[key] = false;\\n    }\\n    ko.applyBindings(self.model, self.dom);\\n}\\n);\\n    (WebIO.importBlock({\\\"data\\\":[{\\\"name\\\":\\\"knockout\\\",\\\"type\\\":\\\"js\\\",\\\"url\\\":\\\"\\/assetserver\\/10d708ba80251634938ce239226941fe03559024-knockout.js\\\"},{\\\"name\\\":\\\"knockout_punches\\\",\\\"type\\\":\\\"js\\\",\\\"url\\\":\\\"\\/assetserver\\/dfe40853171940bd9da9c6b86f9757768070aa9d-knockout_punches.js\\\"}],\\\"type\\\":\\\"async_block\\\"})).then((imports) => handler.apply(this, imports));\\n}\\n\"],\"observables\":{\"options_js\":{\"sync\":false,\"id\":\"11078067683368956221\",\"value\":[{\"key\":\"1 Travis job\",\"val\":1,\"id\":\"idxVPz61lb\"},{\"key\":\"2 Travis jobs\",\"val\":2,\"id\":\"idTN9hmOfe\"},{\"key\":\"5 Travis jobs\",\"val\":3,\"id\":\"idtyNtNYxi\"}]},\"index\":{\"sync\":true,\"id\":\"2770775303165687227\",\"value\":3}}},\"children\":[{\"props\":{\"attributes\":{\"data-bind\":\"foreach : options_js\"},\"className\":\"field\"},\"nodeType\":\"DOM\",\"type\":\"node\",\"instanceArgs\":{\"namespace\":\"html\",\"tag\":\"div\"},\"children\":[{\"props\":{\"className\":\"field\"},\"nodeType\":\"DOM\",\"type\":\"node\",\"instanceArgs\":{\"namespace\":\"html\",\"tag\":\"div\"},\"children\":[{\"props\":{\"attributes\":{\"name\":\"##253\",\"type\":\"radio\",\"data-bind\":\"checked : $root.index, checkedValue: val, attr : {id : id}\"},\"className\":\"is-checkradio \"},\"nodeType\":\"DOM\",\"type\":\"node\",\"instanceArgs\":{\"namespace\":\"html\",\"tag\":\"input\"},\"children\":[]},{\"props\":{\"attributes\":{\"data-bind\":\"text : key, attr : {for : id}\"}},\"nodeType\":\"DOM\",\"type\":\"node\",\"instanceArgs\":{\"namespace\":\"html\",\"tag\":\"label\"},\"children\":[]}]}]}]}]},{\"props\":{\"className\":\"field interact-widget\"},\"nodeType\":\"DOM\",\"type\":\"node\",\"instanceArgs\":{\"namespace\":\"html\",\"tag\":\"div\"},\"children\":[{\"props\":{},\"nodeType\":\"Scope\",\"type\":\"node\",\"instanceArgs\":{\"imports\":{\"data\":[{\"name\":\"knockout\",\"type\":\"js\",\"url\":\"\\/assetserver\\/10d708ba80251634938ce239226941fe03559024-knockout.js\"},{\"name\":\"knockout_punches\",\"type\":\"js\",\"url\":\"\\/assetserver\\/dfe40853171940bd9da9c6b86f9757768070aa9d-knockout_punches.js\"},{\"name\":null,\"type\":\"js\",\"url\":\"\\/assetserver\\/fb3865ccce2e96c5166aa727e18d0923f668c890-all.js\"},{\"name\":null,\"type\":\"css\",\"url\":\"\\/assetserver\\/313b950d52846c718c545b2c92fe9725552b86f1-style.css\"},{\"name\":null,\"type\":\"css\",\"url\":\"\\/assetserver\\/70b42bc181e94ec1d79c1b4b343ce35203684157-bulma_confined.min.css\"}],\"type\":\"async_block\"},\"id\":\"13345270099135890168\",\"handlers\":{\"options_js\":[\"(function (val){return (val!=this.model[\\\"options_js\\\"]()) ? (this.valueFromJulia[\\\"options_js\\\"]=true, this.model[\\\"options_js\\\"](val)) : undefined})\"],\"index\":[\"(function (val){return (val!=this.model[\\\"index\\\"]()) ? (this.valueFromJulia[\\\"index\\\"]=true, this.model[\\\"index\\\"](val)) : undefined})\"]},\"systemjs_options\":null,\"mount_callbacks\":[\"function () {\\n    var handler = (function (ko, koPunches) {\\n    ko.punches.enableAll();\\n    ko.bindingHandlers.numericValue = {\\n        init: function(element, valueAccessor, allBindings, data, context) {\\n            var stringified = ko.observable(ko.unwrap(valueAccessor()));\\n            stringified.subscribe(function(value) {\\n                var val = parseFloat(value);\\n                if (!isNaN(val)) {\\n                    valueAccessor()(val);\\n                }\\n            });\\n            valueAccessor().subscribe(function(value) {\\n                var str = JSON.stringify(value);\\n                if ((str == \\\"0\\\") && ([\\\"-0\\\", \\\"-0.\\\"].indexOf(stringified()) >= 0))\\n                     return;\\n                 if ([\\\"null\\\", \\\"\\\"].indexOf(str) >= 0)\\n                     return;\\n                stringified(str);\\n            });\\n            ko.applyBindingsToNode(\\n                element,\\n                {\\n                    value: stringified,\\n                    valueUpdate: allBindings.get('valueUpdate'),\\n                },\\n                context,\\n            );\\n        }\\n    };\\n    var json_data = {\\\"options_js\\\":WebIO.getval({\\\"name\\\":\\\"options_js\\\",\\\"scope\\\":\\\"13345270099135890168\\\",\\\"id\\\":\\\"9334762623407892471\\\",\\\"type\\\":\\\"observable\\\"}),\\\"index\\\":WebIO.getval({\\\"name\\\":\\\"index\\\",\\\"scope\\\":\\\"13345270099135890168\\\",\\\"id\\\":\\\"10395346905800107457\\\",\\\"type\\\":\\\"observable\\\"})};\\n    var self = this;\\n    function AppViewModel() {\\n        for (var key in json_data) {\\n            var el = json_data[key];\\n            this[key] = Array.isArray(el) ? ko.observableArray(el) : ko.observable(el);\\n        }\\n        \\n        \\n        [this[\\\"options_js\\\"].subscribe((function (val){!(this.valueFromJulia[\\\"options_js\\\"]) ? (WebIO.setval({\\\"name\\\":\\\"options_js\\\",\\\"scope\\\":\\\"13345270099135890168\\\",\\\"id\\\":\\\"9334762623407892471\\\",\\\"type\\\":\\\"observable\\\"},val)) : undefined; return this.valueFromJulia[\\\"options_js\\\"]=false}),self),this[\\\"index\\\"].subscribe((function (val){!(this.valueFromJulia[\\\"index\\\"]) ? (WebIO.setval({\\\"name\\\":\\\"index\\\",\\\"scope\\\":\\\"13345270099135890168\\\",\\\"id\\\":\\\"10395346905800107457\\\",\\\"type\\\":\\\"observable\\\"},val)) : undefined; return this.valueFromJulia[\\\"index\\\"]=false}),self)]\\n        \\n    }\\n    self.model = new AppViewModel();\\n    self.valueFromJulia = {};\\n    for (var key in json_data) {\\n        self.valueFromJulia[key] = false;\\n    }\\n    ko.applyBindings(self.model, self.dom);\\n}\\n);\\n    (WebIO.importBlock({\\\"data\\\":[{\\\"name\\\":\\\"knockout\\\",\\\"type\\\":\\\"js\\\",\\\"url\\\":\\\"\\/assetserver\\/10d708ba80251634938ce239226941fe03559024-knockout.js\\\"},{\\\"name\\\":\\\"knockout_punches\\\",\\\"type\\\":\\\"js\\\",\\\"url\\\":\\\"\\/assetserver\\/dfe40853171940bd9da9c6b86f9757768070aa9d-knockout_punches.js\\\"}],\\\"type\\\":\\\"async_block\\\"})).then((imports) => handler.apply(this, imports));\\n}\\n\"],\"observables\":{\"options_js\":{\"sync\":false,\"id\":\"9334762623407892471\",\"value\":[{\"key\":\"GitHub Actions Team\",\"val\":1,\"id\":\"idwgLlpBBi\"},{\"key\":\"GitHub Actions Enterprise\",\"val\":2,\"id\":\"idYdJKyv9s\"},{\"key\":\"GitHub Actions Free\",\"val\":3,\"id\":\"idHYHX66rG\"},{\"key\":\"GitHub Actions Pro\",\"val\":4,\"id\":\"id5F0CT9Lj\"}]},\"index\":{\"sync\":true,\"id\":\"10395346905800107457\",\"value\":1}}},\"children\":[{\"props\":{\"attributes\":{\"data-bind\":\"foreach : options_js\"},\"className\":\"field\"},\"nodeType\":\"DOM\",\"type\":\"node\",\"instanceArgs\":{\"namespace\":\"html\",\"tag\":\"div\"},\"children\":[{\"props\":{\"className\":\"field\"},\"nodeType\":\"DOM\",\"type\":\"node\",\"instanceArgs\":{\"namespace\":\"html\",\"tag\":\"div\"},\"children\":[{\"props\":{\"attributes\":{\"name\":\"##254\",\"type\":\"radio\",\"data-bind\":\"checked : $root.index, checkedValue: val, attr : {id : id}\"},\"className\":\"is-checkradio \"},\"nodeType\":\"DOM\",\"type\":\"node\",\"instanceArgs\":{\"namespace\":\"html\",\"tag\":\"input\"},\"children\":[]},{\"props\":{\"attributes\":{\"data-bind\":\"text : key, attr : {for : id}\"}},\"nodeType\":\"DOM\",\"type\":\"node\",\"instanceArgs\":{\"namespace\":\"html\",\"tag\":\"label\"},\"children\":[]}]}]}]}]},{\"props\":{},\"nodeType\":\"Scope\",\"type\":\"node\",\"instanceArgs\":{\"imports\":{\"data\":[],\"type\":\"async_block\"},\"id\":\"7293978160027585866\",\"handlers\":{},\"systemjs_options\":null,\"mount_callbacks\":[],\"observables\":{\"obs-node\":{\"sync\":false,\"id\":\"7683865625507772521\",\"value\":{\"props\":{\"className\":\"interact-flex-row interact-widget\"},\"nodeType\":\"DOM\",\"type\":\"node\",\"instanceArgs\":{\"namespace\":\"html\",\"tag\":\"div\"},\"children\":[{\"props\":{\"setInnerHtml\":\"<pre>Travis: 999.0$\\/month\\nGitHub: 2496.0$\\/month\\n<\\/pre>\"},\"nodeType\":\"DOM\",\"type\":\"node\",\"instanceArgs\":{\"namespace\":\"html\",\"tag\":\"div\"},\"children\":[]}]}}}},\"children\":[{\"props\":{},\"nodeType\":\"ObservableNode\",\"type\":\"node\",\"instanceArgs\":{\"id\":\"7683865625507772521\",\"name\":\"obs-node\"},\"children\":[]}]}]},\n",
       "            window,\n",
       "        );\n",
       "    } else {\n",
       "        document\n",
       "            .querySelector('[data-webio-mountpoint=\"6343152790589851380\"]')\n",
       "            .innerHTML = (\n",
       "                '<div style=\"padding: 1em; background-color: #f8d6da; border: 1px solid #f5c6cb\">' +\n",
       "                '<p><strong>WebIO not detected.</strong></p>' +\n",
       "                '<p>Please read ' +\n",
       "                '<a href=\"https://juliagizmos.github.io/WebIO.jl/latest/troubleshooting/not-detected/\" target=\"_blank\">the troubleshooting guide</a> ' +\n",
       "                'for more information on how to resolve this issue.</p>' +\n",
       "                '<p><a href=\"https://juliagizmos.github.io/WebIO.jl/latest/troubleshooting/not-detected/\" target=\"_blank\">https://juliagizmos.github.io/WebIO.jl/latest/troubleshooting/not-detected/</a></p>' +\n",
       "                '</div>'\n",
       "            );\n",
       "    }\n",
       "    </script>\n",
       "</div>\n"
      ],
      "text/plain": [
       "Node{WebIO.DOM}(WebIO.DOM(:html, :div), Any[Node{WebIO.DOM}(WebIO.DOM(:html, :div), Any[Scope(Node{WebIO.DOM}(WebIO.DOM(:html, :div), Any[Node{WebIO.DOM}(WebIO.DOM(:html, :div), Any[Node{WebIO.DOM}(WebIO.DOM(:html, :label), Any[\"linux_minutes\"], Dict{Symbol,Any}(:className => \"interact \",:style => Dict{Any,Any}(:padding => \"5px 10px 0px 10px\")))], Dict{Symbol,Any}(:className => \"interact-flex-row-left\")), Node{WebIO.DOM}(WebIO.DOM(:html, :div), Any[Node{WebIO.DOM}(WebIO.DOM(:html, :input), Any[], Dict{Symbol,Any}(:max => 501,:min => 1,:attributes => Dict{Any,Any}(:type => \"range\",Symbol(\"data-bind\") => \"numericValue: index, valueUpdate: 'input', event: {change: function (){this.changes(this.changes()+1)}}\",\"orient\" => \"horizontal\"),:step => 1,:className => \"slider slider is-fullwidth\",:style => Dict{Any,Any}()))], Dict{Symbol,Any}(:className => \"interact-flex-row-center\")), Node{WebIO.DOM}(WebIO.DOM(:html, :div), Any[Node{WebIO.DOM}(WebIO.DOM(:html, :p), Any[], Dict{Symbol,Any}(:attributes => Dict(\"data-bind\" => \"text: formatted_val\")))], Dict{Symbol,Any}(:className => \"interact-flex-row-right\"))], Dict{Symbol,Any}(:className => \"interact-flex-row interact-widget\")), Dict{String,Tuple{Observables.AbstractObservable,Union{Nothing, Bool}}}(\"changes\" => (Observable{Int64} with 1 listeners. Value:\n",
       "0, nothing),\"index\" => (Observable{Any} with 2 listeners. Value:\n",
       "251, nothing)), Set{String}(), nothing, Asset[Asset(\"js\", \"knockout\", \"/home/mose/.julia/packages/Knockout/IP1uR/src/../assets/knockout.js\"), Asset(\"js\", \"knockout_punches\", \"/home/mose/.julia/packages/Knockout/IP1uR/src/../assets/knockout_punches.js\"), Asset(\"js\", nothing, \"/home/mose/.julia/packages/InteractBase/sOe2Z/src/../assets/all.js\"), Asset(\"css\", nothing, \"/home/mose/.julia/packages/InteractBase/sOe2Z/src/../assets/style.css\"), Asset(\"css\", nothing, \"/home/mose/.julia/packages/Interact/SbgIk/src/../assets/bulma_confined.min.css\")], Dict{Any,Any}(\"changes\" => Any[WebIO.JSString(\"(function (val){return (val!=this.model[\\\"changes\\\"]()) ? (this.valueFromJulia[\\\"changes\\\"]=true, this.model[\\\"changes\\\"](val)) : undefined})\")],\"index\" => Any[WebIO.JSString(\"(function (val){return (val!=this.model[\\\"index\\\"]()) ? (this.valueFromJulia[\\\"index\\\"]=true, this.model[\\\"index\\\"](val)) : undefined})\")]), WebIO.ConnectionPool(Channel{Any}(sz_max:32,sz_curr:0), Set{AbstractConnection}(), Base.GenericCondition{Base.AlwaysLockedST}(Base.InvasiveLinkedList{Task}(Task (runnable) @0x00007f60a93b7d00, Task (runnable) @0x00007f60a93b7d00), Base.AlwaysLockedST(1))), WebIO.JSString[WebIO.JSString(\"function () {\\n    var handler = (function (ko, koPunches) {\\n    ko.punches.enableAll();\\n    ko.bindingHandlers.numericValue = {\\n        init: function(element, valueAccessor, allBindings, data, context) {\\n            var stringified = ko.observable(ko.unwrap(valueAccessor()));\\n            stringified.subscribe(function(value) {\\n                var val = parseFloat(value);\\n                if (!isNaN(val)) {\\n                    valueAccessor()(val);\\n                }\\n            });\\n            valueAccessor().subscribe(function(value) {\\n                var str = JSON.stringify(value);\\n                if ((str == \\\"0\\\") && ([\\\"-0\\\", \\\"-0.\\\"].indexOf(stringified()) >= 0))\\n                     return;\\n                 if ([\\\"null\\\", \\\"\\\"].indexOf(str) >= 0)\\n                     return;\\n                stringified(str);\\n            });\\n            ko.applyBindingsToNode(\\n                element,\\n                {\\n                    value: stringified,\\n                    valueUpdate: allBindings.get('valueUpdate'),\\n                },\\n                context,\\n            );\\n        }\\n    };\\n    var json_data = {\\\"formatted_vals\\\":[\\\"0.0\\\",\\\"100.0\\\",\\\"200.0\\\",\\\"300.0\\\",\\\"400.0\\\",\\\"500.0\\\",\\\"600.0\\\",\\\"700.0\\\",\\\"800.0\\\",\\\"900.0\\\",\\\"1000.0\\\",\\\"1100.0\\\",\\\"1200.0\\\",\\\"1300.0\\\",\\\"1400.0\\\",\\\"1500.0\\\",\\\"1600.0\\\",\\\"1700.0\\\",\\\"1800.0\\\",\\\"1900.0\\\",\\\"2000.0\\\",\\\"2100.0\\\",\\\"2200.0\\\",\\\"2300.0\\\",\\\"2400.0\\\",\\\"2500.0\\\",\\\"2600.0\\\",\\\"2700.0\\\",\\\"2800.0\\\",\\\"2900.0\\\",\\\"3000.0\\\",\\\"3100.0\\\",\\\"3200.0\\\",\\\"3300.0\\\",\\\"3400.0\\\",\\\"3500.0\\\",\\\"3600.0\\\",\\\"3700.0\\\",\\\"3800.0\\\",\\\"3900.0\\\",\\\"4000.0\\\",\\\"4100.0\\\",\\\"4200.0\\\",\\\"4300.0\\\",\\\"4400.0\\\",\\\"4500.0\\\",\\\"4600.0\\\",\\\"4700.0\\\",\\\"4800.0\\\",\\\"4900.0\\\",\\\"5000.0\\\",\\\"5100.0\\\",\\\"5200.0\\\",\\\"5300.0\\\",\\\"5400.0\\\",\\\"5500.0\\\",\\\"5600.0\\\",\\\"5700.0\\\",\\\"5800.0\\\",\\\"5900.0\\\",\\\"6000.0\\\",\\\"6100.0\\\",\\\"6200.0\\\",\\\"6300.0\\\",\\\"6400.0\\\",\\\"6500.0\\\",\\\"6600.0\\\",\\\"6700.0\\\",\\\"6800.0\\\",\\\"6900.0\\\",\\\"7000.0\\\",\\\"7100.0\\\",\\\"7200.0\\\",\\\"7300.0\\\",\\\"7400.0\\\",\\\"7500.0\\\",\\\"7600.0\\\",\\\"7700.0\\\",\\\"7800.0\\\",\\\"7900.0\\\",\\\"8000.0\\\",\\\"8100.0\\\",\\\"8200.0\\\",\\\"8300.0\\\",\\\"8400.0\\\",\\\"8500.0\\\",\\\"8600.0\\\",\\\"8700.0\\\",\\\"8800.0\\\",\\\"8900.0\\\",\\\"9000.0\\\",\\\"9100.0\\\",\\\"9200.0\\\",\\\"9300.0\\\",\\\"9400.0\\\",\\\"9500.0\\\",\\\"9600.0\\\",\\\"9700.0\\\",\\\"9800.0\\\",\\\"9900.0\\\",\\\"10000.0\\\",\\\"10100.0\\\",\\\"10200.0\\\",\\\"10300.0\\\",\\\"10400.0\\\",\\\"10500.0\\\",\\\"10600.0\\\",\\\"10700.0\\\",\\\"10800.0\\\",\\\"10900.0\\\",\\\"11000.0\\\",\\\"11100.0\\\",\\\"11200.0\\\",\\\"11300.0\\\",\\\"11400.0\\\",\\\"11500.0\\\",\\\"11600.0\\\",\\\"11700.0\\\",\\\"11800.0\\\",\\\"11900.0\\\",\\\"12000.0\\\",\\\"12100.0\\\",\\\"12200.0\\\",\\\"12300.0\\\",\\\"12400.0\\\",\\\"12500.0\\\",\\\"12600.0\\\",\\\"12700.0\\\",\\\"12800.0\\\",\\\"12900.0\\\",\\\"13000.0\\\",\\\"13100.0\\\",\\\"13200.0\\\",\\\"13300.0\\\",\\\"13400.0\\\",\\\"13500.0\\\",\\\"13600.0\\\",\\\"13700.0\\\",\\\"13800.0\\\",\\\"13900.0\\\",\\\"14000.0\\\",\\\"14100.0\\\",\\\"14200.0\\\",\\\"14300.0\\\",\\\"14400.0\\\",\\\"14500.0\\\",\\\"14600.0\\\",\\\"14700.0\\\",\\\"14800.0\\\",\\\"14900.0\\\",\\\"15000.0\\\",\\\"15100.0\\\",\\\"15200.0\\\",\\\"15300.0\\\",\\\"15400.0\\\",\\\"15500.0\\\",\\\"15600.0\\\",\\\"15700.0\\\",\\\"15800.0\\\",\\\"15900.0\\\",\\\"16000.0\\\",\\\"16100.0\\\",\\\"16200.0\\\",\\\"16300.0\\\",\\\"16400.0\\\",\\\"16500.0\\\",\\\"16600.0\\\",\\\"16700.0\\\",\\\"16800.0\\\",\\\"16900.0\\\",\\\"17000.0\\\",\\\"17100.0\\\",\\\"17200.0\\\",\\\"17300.0\\\",\\\"17400.0\\\",\\\"17500.0\\\",\\\"17600.0\\\",\\\"17700.0\\\",\\\"17800.0\\\",\\\"17900.0\\\",\\\"18000.0\\\",\\\"18100.0\\\",\\\"18200.0\\\",\\\"18300.0\\\",\\\"18400.0\\\",\\\"18500.0\\\",\\\"18600.0\\\",\\\"18700.0\\\",\\\"18800.0\\\",\\\"18900.0\\\",\\\"19000.0\\\",\\\"19100.0\\\",\\\"19200.0\\\",\\\"19300.0\\\",\\\"19400.0\\\",\\\"19500.0\\\",\\\"19600.0\\\",\\\"19700.0\\\",\\\"19800.0\\\",\\\"19900.0\\\",\\\"20000.0\\\",\\\"20100.0\\\",\\\"20200.0\\\",\\\"20300.0\\\",\\\"20400.0\\\",\\\"20500.0\\\",\\\"20600.0\\\",\\\"20700.0\\\",\\\"20800.0\\\",\\\"20900.0\\\",\\\"21000.0\\\",\\\"21100.0\\\",\\\"21200.0\\\",\\\"21300.0\\\",\\\"21400.0\\\",\\\"21500.0\\\",\\\"21600.0\\\",\\\"21700.0\\\",\\\"21800.0\\\",\\\"21900.0\\\",\\\"22000.0\\\",\\\"22100.0\\\",\\\"22200.0\\\",\\\"22300.0\\\",\\\"22400.0\\\",\\\"22500.0\\\",\\\"22600.0\\\",\\\"22700.0\\\",\\\"22800.0\\\",\\\"22900.0\\\",\\\"23000.0\\\",\\\"23100.0\\\",\\\"23200.0\\\",\\\"23300.0\\\",\\\"23400.0\\\",\\\"23500.0\\\",\\\"23600.0\\\",\\\"23700.0\\\",\\\"23800.0\\\",\\\"23900.0\\\",\\\"24000.0\\\",\\\"24100.0\\\",\\\"24200.0\\\",\\\"24300.0\\\",\\\"24400.0\\\",\\\"24500.0\\\",\\\"24600.0\\\",\\\"24700.0\\\",\\\"24800.0\\\",\\\"24900.0\\\",\\\"25000.0\\\",\\\"25100.0\\\",\\\"25200.0\\\",\\\"25300.0\\\",\\\"25400.0\\\",\\\"25500.0\\\",\\\"25600.0\\\",\\\"25700.0\\\",\\\"25800.0\\\",\\\"25900.0\\\",\\\"26000.0\\\",\\\"26100.0\\\",\\\"26200.0\\\",\\\"26300.0\\\",\\\"26400.0\\\",\\\"26500.0\\\",\\\"26600.0\\\",\\\"26700.0\\\",\\\"26800.0\\\",\\\"26900.0\\\",\\\"27000.0\\\",\\\"27100.0\\\",\\\"27200.0\\\",\\\"27300.0\\\",\\\"27400.0\\\",\\\"27500.0\\\",\\\"27600.0\\\",\\\"27700.0\\\",\\\"27800.0\\\",\\\"27900.0\\\",\\\"28000.0\\\",\\\"28100.0\\\",\\\"28200.0\\\",\\\"28300.0\\\",\\\"28400.0\\\",\\\"28500.0\\\",\\\"28600.0\\\",\\\"28700.0\\\",\\\"28800.0\\\",\\\"28900.0\\\",\\\"29000.0\\\",\\\"29100.0\\\",\\\"29200.0\\\",\\\"29300.0\\\",\\\"29400.0\\\",\\\"29500.0\\\",\\\"29600.0\\\",\\\"29700.0\\\",\\\"29800.0\\\",\\\"29900.0\\\",\\\"30000.0\\\",\\\"30100.0\\\",\\\"30200.0\\\",\\\"30300.0\\\",\\\"30400.0\\\",\\\"30500.0\\\",\\\"30600.0\\\",\\\"30700.0\\\",\\\"30800.0\\\",\\\"30900.0\\\",\\\"31000.0\\\",\\\"31100.0\\\",\\\"31200.0\\\",\\\"31300.0\\\",\\\"31400.0\\\",\\\"31500.0\\\",\\\"31600.0\\\",\\\"31700.0\\\",\\\"31800.0\\\",\\\"31900.0\\\",\\\"32000.0\\\",\\\"32100.0\\\",\\\"32200.0\\\",\\\"32300.0\\\",\\\"32400.0\\\",\\\"32500.0\\\",\\\"32600.0\\\",\\\"32700.0\\\",\\\"32800.0\\\",\\\"32900.0\\\",\\\"33000.0\\\",\\\"33100.0\\\",\\\"33200.0\\\",\\\"33300.0\\\",\\\"33400.0\\\",\\\"33500.0\\\",\\\"33600.0\\\",\\\"33700.0\\\",\\\"33800.0\\\",\\\"33900.0\\\",\\\"34000.0\\\",\\\"34100.0\\\",\\\"34200.0\\\",\\\"34300.0\\\",\\\"34400.0\\\",\\\"34500.0\\\",\\\"34600.0\\\",\\\"34700.0\\\",\\\"34800.0\\\",\\\"34900.0\\\",\\\"35000.0\\\",\\\"35100.0\\\",\\\"35200.0\\\",\\\"35300.0\\\",\\\"35400.0\\\",\\\"35500.0\\\",\\\"35600.0\\\",\\\"35700.0\\\",\\\"35800.0\\\",\\\"35900.0\\\",\\\"36000.0\\\",\\\"36100.0\\\",\\\"36200.0\\\",\\\"36300.0\\\",\\\"36400.0\\\",\\\"36500.0\\\",\\\"36600.0\\\",\\\"36700.0\\\",\\\"36800.0\\\",\\\"36900.0\\\",\\\"37000.0\\\",\\\"37100.0\\\",\\\"37200.0\\\",\\\"37300.0\\\",\\\"37400.0\\\",\\\"37500.0\\\",\\\"37600.0\\\",\\\"37700.0\\\",\\\"37800.0\\\",\\\"37900.0\\\",\\\"38000.0\\\",\\\"38100.0\\\",\\\"38200.0\\\",\\\"38300.0\\\",\\\"38400.0\\\",\\\"38500.0\\\",\\\"38600.0\\\",\\\"38700.0\\\",\\\"38800.0\\\",\\\"38900.0\\\",\\\"39000.0\\\",\\\"39100.0\\\",\\\"39200.0\\\",\\\"39300.0\\\",\\\"39400.0\\\",\\\"39500.0\\\",\\\"39600.0\\\",\\\"39700.0\\\",\\\"39800.0\\\",\\\"39900.0\\\",\\\"40000.0\\\",\\\"40100.0\\\",\\\"40200.0\\\",\\\"40300.0\\\",\\\"40400.0\\\",\\\"40500.0\\\",\\\"40600.0\\\",\\\"40700.0\\\",\\\"40800.0\\\",\\\"40900.0\\\",\\\"41000.0\\\",\\\"41100.0\\\",\\\"41200.0\\\",\\\"41300.0\\\",\\\"41400.0\\\",\\\"41500.0\\\",\\\"41600.0\\\",\\\"41700.0\\\",\\\"41800.0\\\",\\\"41900.0\\\",\\\"42000.0\\\",\\\"42100.0\\\",\\\"42200.0\\\",\\\"42300.0\\\",\\\"42400.0\\\",\\\"42500.0\\\",\\\"42600.0\\\",\\\"42700.0\\\",\\\"42800.0\\\",\\\"42900.0\\\",\\\"43000.0\\\",\\\"43100.0\\\",\\\"43200.0\\\",\\\"43300.0\\\",\\\"43400.0\\\",\\\"43500.0\\\",\\\"43600.0\\\",\\\"43700.0\\\",\\\"43800.0\\\",\\\"43900.0\\\",\\\"44000.0\\\",\\\"44100.0\\\",\\\"44200.0\\\",\\\"44300.0\\\",\\\"44400.0\\\",\\\"44500.0\\\",\\\"44600.0\\\",\\\"44700.0\\\",\\\"44800.0\\\",\\\"44900.0\\\",\\\"45000.0\\\",\\\"45100.0\\\",\\\"45200.0\\\",\\\"45300.0\\\",\\\"45400.0\\\",\\\"45500.0\\\",\\\"45600.0\\\",\\\"45700.0\\\",\\\"45800.0\\\",\\\"45900.0\\\",\\\"46000.0\\\",\\\"46100.0\\\",\\\"46200.0\\\",\\\"46300.0\\\",\\\"46400.0\\\",\\\"46500.0\\\",\\\"46600.0\\\",\\\"46700.0\\\",\\\"46800.0\\\",\\\"46900.0\\\",\\\"47000.0\\\",\\\"47100.0\\\",\\\"47200.0\\\",\\\"47300.0\\\",\\\"47400.0\\\",\\\"47500.0\\\",\\\"47600.0\\\",\\\"47700.0\\\",\\\"47800.0\\\",\\\"47900.0\\\",\\\"48000.0\\\",\\\"48100.0\\\",\\\"48200.0\\\",\\\"48300.0\\\",\\\"48400.0\\\",\\\"48500.0\\\",\\\"48600.0\\\",\\\"48700.0\\\",\\\"48800.0\\\",\\\"48900.0\\\",\\\"49000.0\\\",\\\"49100.0\\\",\\\"49200.0\\\",\\\"49300.0\\\",\\\"49400.0\\\",\\\"49500.0\\\",\\\"49600.0\\\",\\\"49700.0\\\",\\\"49800.0\\\",\\\"49900.0\\\",\\\"50000.0\\\"],\\\"changes\\\":WebIO.getval({\\\"name\\\":\\\"changes\\\",\\\"scope\\\":\\\"11060369278863744538\\\",\\\"id\\\":\\\"6341356691940169987\\\",\\\"type\\\":\\\"observable\\\"}),\\\"index\\\":WebIO.getval({\\\"name\\\":\\\"index\\\",\\\"scope\\\":\\\"11060369278863744538\\\",\\\"id\\\":\\\"10928300254059225478\\\",\\\"type\\\":\\\"observable\\\"})};\\n    var self = this;\\n    function AppViewModel() {\\n        for (var key in json_data) {\\n            var el = json_data[key];\\n            this[key] = Array.isArray(el) ? ko.observableArray(el) : ko.observable(el);\\n        }\\n        \\n        [this[\\\"formatted_val\\\"]=ko.computed(    function(){\\n        return this.formatted_vals()[parseInt(this.index())-(1)];\\n    }\\n,this)]\\n        [this[\\\"changes\\\"].subscribe((function (val){!(this.valueFromJulia[\\\"changes\\\"]) ? (WebIO.setval({\\\"name\\\":\\\"changes\\\",\\\"scope\\\":\\\"11060369278863744538\\\",\\\"id\\\":\\\"6341356691940169987\\\",\\\"type\\\":\\\"observable\\\"},val)) : undefined; return this.valueFromJulia[\\\"changes\\\"]=false}),self),this[\\\"index\\\"].subscribe((function (val){!(this.valueFromJulia[\\\"index\\\"]) ? (WebIO.setval({\\\"name\\\":\\\"index\\\",\\\"scope\\\":\\\"11060369278863744538\\\",\\\"id\\\":\\\"10928300254059225478\\\",\\\"type\\\":\\\"observable\\\"},val)) : undefined; return this.valueFromJulia[\\\"index\\\"]=false}),self)]\\n        \\n    }\\n    self.model = new AppViewModel();\\n    self.valueFromJulia = {};\\n    for (var key in json_data) {\\n        self.valueFromJulia[key] = false;\\n    }\\n    ko.applyBindings(self.model, self.dom);\\n}\\n);\\n    (WebIO.importBlock({\\\"data\\\":[{\\\"name\\\":\\\"knockout\\\",\\\"type\\\":\\\"js\\\",\\\"url\\\":\\\"/assetserver/10d708ba80251634938ce239226941fe03559024-knockout.js\\\"},{\\\"name\\\":\\\"knockout_punches\\\",\\\"type\\\":\\\"js\\\",\\\"url\\\":\\\"/assetserver/dfe40853171940bd9da9c6b86f9757768070aa9d-knockout_punches.js\\\"}],\\\"type\\\":\\\"async_block\\\"})).then((imports) => handler.apply(this, imports));\\n}\\n\")])], Dict{Symbol,Any}(:className => \"field interact-widget\")), Node{WebIO.DOM}(WebIO.DOM(:html, :div), Any[Scope(Node{WebIO.DOM}(WebIO.DOM(:html, :div), Any[Node{WebIO.DOM}(WebIO.DOM(:html, :div), Any[Node{WebIO.DOM}(WebIO.DOM(:html, :label), Any[\"macos_minutes\"], Dict{Symbol,Any}(:className => \"interact \",:style => Dict{Any,Any}(:padding => \"5px 10px 0px 10px\")))], Dict{Symbol,Any}(:className => \"interact-flex-row-left\")), Node{WebIO.DOM}(WebIO.DOM(:html, :div), Any[Node{WebIO.DOM}(WebIO.DOM(:html, :input), Any[], Dict{Symbol,Any}(:max => 501,:min => 1,:attributes => Dict{Any,Any}(:type => \"range\",Symbol(\"data-bind\") => \"numericValue: index, valueUpdate: 'input', event: {change: function (){this.changes(this.changes()+1)}}\",\"orient\" => \"horizontal\"),:step => 1,:className => \"slider slider is-fullwidth\",:style => Dict{Any,Any}()))], Dict{Symbol,Any}(:className => \"interact-flex-row-center\")), Node{WebIO.DOM}(WebIO.DOM(:html, :div), Any[Node{WebIO.DOM}(WebIO.DOM(:html, :p), Any[], Dict{Symbol,Any}(:attributes => Dict(\"data-bind\" => \"text: formatted_val\")))], Dict{Symbol,Any}(:className => \"interact-flex-row-right\"))], Dict{Symbol,Any}(:className => \"interact-flex-row interact-widget\")), Dict{String,Tuple{Observables.AbstractObservable,Union{Nothing, Bool}}}(\"changes\" => (Observable{Int64} with 1 listeners. Value:\n",
       "0, nothing),\"index\" => (Observable{Any} with 2 listeners. Value:\n",
       "251, nothing)), Set{String}(), nothing, Asset[Asset(\"js\", \"knockout\", \"/home/mose/.julia/packages/Knockout/IP1uR/src/../assets/knockout.js\"), Asset(\"js\", \"knockout_punches\", \"/home/mose/.julia/packages/Knockout/IP1uR/src/../assets/knockout_punches.js\"), Asset(\"js\", nothing, \"/home/mose/.julia/packages/InteractBase/sOe2Z/src/../assets/all.js\"), Asset(\"css\", nothing, \"/home/mose/.julia/packages/InteractBase/sOe2Z/src/../assets/style.css\"), Asset(\"css\", nothing, \"/home/mose/.julia/packages/Interact/SbgIk/src/../assets/bulma_confined.min.css\")], Dict{Any,Any}(\"changes\" => Any[WebIO.JSString(\"(function (val){return (val!=this.model[\\\"changes\\\"]()) ? (this.valueFromJulia[\\\"changes\\\"]=true, this.model[\\\"changes\\\"](val)) : undefined})\")],\"index\" => Any[WebIO.JSString(\"(function (val){return (val!=this.model[\\\"index\\\"]()) ? (this.valueFromJulia[\\\"index\\\"]=true, this.model[\\\"index\\\"](val)) : undefined})\")]), WebIO.ConnectionPool(Channel{Any}(sz_max:32,sz_curr:0), Set{AbstractConnection}(), Base.GenericCondition{Base.AlwaysLockedST}(Base.InvasiveLinkedList{Task}(Task (runnable) @0x00007f60940cd600, Task (runnable) @0x00007f60940cd600), Base.AlwaysLockedST(1))), WebIO.JSString[WebIO.JSString(\"function () {\\n    var handler = (function (ko, koPunches) {\\n    ko.punches.enableAll();\\n    ko.bindingHandlers.numericValue = {\\n        init: function(element, valueAccessor, allBindings, data, context) {\\n            var stringified = ko.observable(ko.unwrap(valueAccessor()));\\n            stringified.subscribe(function(value) {\\n                var val = parseFloat(value);\\n                if (!isNaN(val)) {\\n                    valueAccessor()(val);\\n                }\\n            });\\n            valueAccessor().subscribe(function(value) {\\n                var str = JSON.stringify(value);\\n                if ((str == \\\"0\\\") && ([\\\"-0\\\", \\\"-0.\\\"].indexOf(stringified()) >= 0))\\n                     return;\\n                 if ([\\\"null\\\", \\\"\\\"].indexOf(str) >= 0)\\n                     return;\\n                stringified(str);\\n            });\\n            ko.applyBindingsToNode(\\n                element,\\n                {\\n                    value: stringified,\\n                    valueUpdate: allBindings.get('valueUpdate'),\\n                },\\n                context,\\n            );\\n        }\\n    };\\n    var json_data = {\\\"formatted_vals\\\":[\\\"0.0\\\",\\\"100.0\\\",\\\"200.0\\\",\\\"300.0\\\",\\\"400.0\\\",\\\"500.0\\\",\\\"600.0\\\",\\\"700.0\\\",\\\"800.0\\\",\\\"900.0\\\",\\\"1000.0\\\",\\\"1100.0\\\",\\\"1200.0\\\",\\\"1300.0\\\",\\\"1400.0\\\",\\\"1500.0\\\",\\\"1600.0\\\",\\\"1700.0\\\",\\\"1800.0\\\",\\\"1900.0\\\",\\\"2000.0\\\",\\\"2100.0\\\",\\\"2200.0\\\",\\\"2300.0\\\",\\\"2400.0\\\",\\\"2500.0\\\",\\\"2600.0\\\",\\\"2700.0\\\",\\\"2800.0\\\",\\\"2900.0\\\",\\\"3000.0\\\",\\\"3100.0\\\",\\\"3200.0\\\",\\\"3300.0\\\",\\\"3400.0\\\",\\\"3500.0\\\",\\\"3600.0\\\",\\\"3700.0\\\",\\\"3800.0\\\",\\\"3900.0\\\",\\\"4000.0\\\",\\\"4100.0\\\",\\\"4200.0\\\",\\\"4300.0\\\",\\\"4400.0\\\",\\\"4500.0\\\",\\\"4600.0\\\",\\\"4700.0\\\",\\\"4800.0\\\",\\\"4900.0\\\",\\\"5000.0\\\",\\\"5100.0\\\",\\\"5200.0\\\",\\\"5300.0\\\",\\\"5400.0\\\",\\\"5500.0\\\",\\\"5600.0\\\",\\\"5700.0\\\",\\\"5800.0\\\",\\\"5900.0\\\",\\\"6000.0\\\",\\\"6100.0\\\",\\\"6200.0\\\",\\\"6300.0\\\",\\\"6400.0\\\",\\\"6500.0\\\",\\\"6600.0\\\",\\\"6700.0\\\",\\\"6800.0\\\",\\\"6900.0\\\",\\\"7000.0\\\",\\\"7100.0\\\",\\\"7200.0\\\",\\\"7300.0\\\",\\\"7400.0\\\",\\\"7500.0\\\",\\\"7600.0\\\",\\\"7700.0\\\",\\\"7800.0\\\",\\\"7900.0\\\",\\\"8000.0\\\",\\\"8100.0\\\",\\\"8200.0\\\",\\\"8300.0\\\",\\\"8400.0\\\",\\\"8500.0\\\",\\\"8600.0\\\",\\\"8700.0\\\",\\\"8800.0\\\",\\\"8900.0\\\",\\\"9000.0\\\",\\\"9100.0\\\",\\\"9200.0\\\",\\\"9300.0\\\",\\\"9400.0\\\",\\\"9500.0\\\",\\\"9600.0\\\",\\\"9700.0\\\",\\\"9800.0\\\",\\\"9900.0\\\",\\\"10000.0\\\",\\\"10100.0\\\",\\\"10200.0\\\",\\\"10300.0\\\",\\\"10400.0\\\",\\\"10500.0\\\",\\\"10600.0\\\",\\\"10700.0\\\",\\\"10800.0\\\",\\\"10900.0\\\",\\\"11000.0\\\",\\\"11100.0\\\",\\\"11200.0\\\",\\\"11300.0\\\",\\\"11400.0\\\",\\\"11500.0\\\",\\\"11600.0\\\",\\\"11700.0\\\",\\\"11800.0\\\",\\\"11900.0\\\",\\\"12000.0\\\",\\\"12100.0\\\",\\\"12200.0\\\",\\\"12300.0\\\",\\\"12400.0\\\",\\\"12500.0\\\",\\\"12600.0\\\",\\\"12700.0\\\",\\\"12800.0\\\",\\\"12900.0\\\",\\\"13000.0\\\",\\\"13100.0\\\",\\\"13200.0\\\",\\\"13300.0\\\",\\\"13400.0\\\",\\\"13500.0\\\",\\\"13600.0\\\",\\\"13700.0\\\",\\\"13800.0\\\",\\\"13900.0\\\",\\\"14000.0\\\",\\\"14100.0\\\",\\\"14200.0\\\",\\\"14300.0\\\",\\\"14400.0\\\",\\\"14500.0\\\",\\\"14600.0\\\",\\\"14700.0\\\",\\\"14800.0\\\",\\\"14900.0\\\",\\\"15000.0\\\",\\\"15100.0\\\",\\\"15200.0\\\",\\\"15300.0\\\",\\\"15400.0\\\",\\\"15500.0\\\",\\\"15600.0\\\",\\\"15700.0\\\",\\\"15800.0\\\",\\\"15900.0\\\",\\\"16000.0\\\",\\\"16100.0\\\",\\\"16200.0\\\",\\\"16300.0\\\",\\\"16400.0\\\",\\\"16500.0\\\",\\\"16600.0\\\",\\\"16700.0\\\",\\\"16800.0\\\",\\\"16900.0\\\",\\\"17000.0\\\",\\\"17100.0\\\",\\\"17200.0\\\",\\\"17300.0\\\",\\\"17400.0\\\",\\\"17500.0\\\",\\\"17600.0\\\",\\\"17700.0\\\",\\\"17800.0\\\",\\\"17900.0\\\",\\\"18000.0\\\",\\\"18100.0\\\",\\\"18200.0\\\",\\\"18300.0\\\",\\\"18400.0\\\",\\\"18500.0\\\",\\\"18600.0\\\",\\\"18700.0\\\",\\\"18800.0\\\",\\\"18900.0\\\",\\\"19000.0\\\",\\\"19100.0\\\",\\\"19200.0\\\",\\\"19300.0\\\",\\\"19400.0\\\",\\\"19500.0\\\",\\\"19600.0\\\",\\\"19700.0\\\",\\\"19800.0\\\",\\\"19900.0\\\",\\\"20000.0\\\",\\\"20100.0\\\",\\\"20200.0\\\",\\\"20300.0\\\",\\\"20400.0\\\",\\\"20500.0\\\",\\\"20600.0\\\",\\\"20700.0\\\",\\\"20800.0\\\",\\\"20900.0\\\",\\\"21000.0\\\",\\\"21100.0\\\",\\\"21200.0\\\",\\\"21300.0\\\",\\\"21400.0\\\",\\\"21500.0\\\",\\\"21600.0\\\",\\\"21700.0\\\",\\\"21800.0\\\",\\\"21900.0\\\",\\\"22000.0\\\",\\\"22100.0\\\",\\\"22200.0\\\",\\\"22300.0\\\",\\\"22400.0\\\",\\\"22500.0\\\",\\\"22600.0\\\",\\\"22700.0\\\",\\\"22800.0\\\",\\\"22900.0\\\",\\\"23000.0\\\",\\\"23100.0\\\",\\\"23200.0\\\",\\\"23300.0\\\",\\\"23400.0\\\",\\\"23500.0\\\",\\\"23600.0\\\",\\\"23700.0\\\",\\\"23800.0\\\",\\\"23900.0\\\",\\\"24000.0\\\",\\\"24100.0\\\",\\\"24200.0\\\",\\\"24300.0\\\",\\\"24400.0\\\",\\\"24500.0\\\",\\\"24600.0\\\",\\\"24700.0\\\",\\\"24800.0\\\",\\\"24900.0\\\",\\\"25000.0\\\",\\\"25100.0\\\",\\\"25200.0\\\",\\\"25300.0\\\",\\\"25400.0\\\",\\\"25500.0\\\",\\\"25600.0\\\",\\\"25700.0\\\",\\\"25800.0\\\",\\\"25900.0\\\",\\\"26000.0\\\",\\\"26100.0\\\",\\\"26200.0\\\",\\\"26300.0\\\",\\\"26400.0\\\",\\\"26500.0\\\",\\\"26600.0\\\",\\\"26700.0\\\",\\\"26800.0\\\",\\\"26900.0\\\",\\\"27000.0\\\",\\\"27100.0\\\",\\\"27200.0\\\",\\\"27300.0\\\",\\\"27400.0\\\",\\\"27500.0\\\",\\\"27600.0\\\",\\\"27700.0\\\",\\\"27800.0\\\",\\\"27900.0\\\",\\\"28000.0\\\",\\\"28100.0\\\",\\\"28200.0\\\",\\\"28300.0\\\",\\\"28400.0\\\",\\\"28500.0\\\",\\\"28600.0\\\",\\\"28700.0\\\",\\\"28800.0\\\",\\\"28900.0\\\",\\\"29000.0\\\",\\\"29100.0\\\",\\\"29200.0\\\",\\\"29300.0\\\",\\\"29400.0\\\",\\\"29500.0\\\",\\\"29600.0\\\",\\\"29700.0\\\",\\\"29800.0\\\",\\\"29900.0\\\",\\\"30000.0\\\",\\\"30100.0\\\",\\\"30200.0\\\",\\\"30300.0\\\",\\\"30400.0\\\",\\\"30500.0\\\",\\\"30600.0\\\",\\\"30700.0\\\",\\\"30800.0\\\",\\\"30900.0\\\",\\\"31000.0\\\",\\\"31100.0\\\",\\\"31200.0\\\",\\\"31300.0\\\",\\\"31400.0\\\",\\\"31500.0\\\",\\\"31600.0\\\",\\\"31700.0\\\",\\\"31800.0\\\",\\\"31900.0\\\",\\\"32000.0\\\",\\\"32100.0\\\",\\\"32200.0\\\",\\\"32300.0\\\",\\\"32400.0\\\",\\\"32500.0\\\",\\\"32600.0\\\",\\\"32700.0\\\",\\\"32800.0\\\",\\\"32900.0\\\",\\\"33000.0\\\",\\\"33100.0\\\",\\\"33200.0\\\",\\\"33300.0\\\",\\\"33400.0\\\",\\\"33500.0\\\",\\\"33600.0\\\",\\\"33700.0\\\",\\\"33800.0\\\",\\\"33900.0\\\",\\\"34000.0\\\",\\\"34100.0\\\",\\\"34200.0\\\",\\\"34300.0\\\",\\\"34400.0\\\",\\\"34500.0\\\",\\\"34600.0\\\",\\\"34700.0\\\",\\\"34800.0\\\",\\\"34900.0\\\",\\\"35000.0\\\",\\\"35100.0\\\",\\\"35200.0\\\",\\\"35300.0\\\",\\\"35400.0\\\",\\\"35500.0\\\",\\\"35600.0\\\",\\\"35700.0\\\",\\\"35800.0\\\",\\\"35900.0\\\",\\\"36000.0\\\",\\\"36100.0\\\",\\\"36200.0\\\",\\\"36300.0\\\",\\\"36400.0\\\",\\\"36500.0\\\",\\\"36600.0\\\",\\\"36700.0\\\",\\\"36800.0\\\",\\\"36900.0\\\",\\\"37000.0\\\",\\\"37100.0\\\",\\\"37200.0\\\",\\\"37300.0\\\",\\\"37400.0\\\",\\\"37500.0\\\",\\\"37600.0\\\",\\\"37700.0\\\",\\\"37800.0\\\",\\\"37900.0\\\",\\\"38000.0\\\",\\\"38100.0\\\",\\\"38200.0\\\",\\\"38300.0\\\",\\\"38400.0\\\",\\\"38500.0\\\",\\\"38600.0\\\",\\\"38700.0\\\",\\\"38800.0\\\",\\\"38900.0\\\",\\\"39000.0\\\",\\\"39100.0\\\",\\\"39200.0\\\",\\\"39300.0\\\",\\\"39400.0\\\",\\\"39500.0\\\",\\\"39600.0\\\",\\\"39700.0\\\",\\\"39800.0\\\",\\\"39900.0\\\",\\\"40000.0\\\",\\\"40100.0\\\",\\\"40200.0\\\",\\\"40300.0\\\",\\\"40400.0\\\",\\\"40500.0\\\",\\\"40600.0\\\",\\\"40700.0\\\",\\\"40800.0\\\",\\\"40900.0\\\",\\\"41000.0\\\",\\\"41100.0\\\",\\\"41200.0\\\",\\\"41300.0\\\",\\\"41400.0\\\",\\\"41500.0\\\",\\\"41600.0\\\",\\\"41700.0\\\",\\\"41800.0\\\",\\\"41900.0\\\",\\\"42000.0\\\",\\\"42100.0\\\",\\\"42200.0\\\",\\\"42300.0\\\",\\\"42400.0\\\",\\\"42500.0\\\",\\\"42600.0\\\",\\\"42700.0\\\",\\\"42800.0\\\",\\\"42900.0\\\",\\\"43000.0\\\",\\\"43100.0\\\",\\\"43200.0\\\",\\\"43300.0\\\",\\\"43400.0\\\",\\\"43500.0\\\",\\\"43600.0\\\",\\\"43700.0\\\",\\\"43800.0\\\",\\\"43900.0\\\",\\\"44000.0\\\",\\\"44100.0\\\",\\\"44200.0\\\",\\\"44300.0\\\",\\\"44400.0\\\",\\\"44500.0\\\",\\\"44600.0\\\",\\\"44700.0\\\",\\\"44800.0\\\",\\\"44900.0\\\",\\\"45000.0\\\",\\\"45100.0\\\",\\\"45200.0\\\",\\\"45300.0\\\",\\\"45400.0\\\",\\\"45500.0\\\",\\\"45600.0\\\",\\\"45700.0\\\",\\\"45800.0\\\",\\\"45900.0\\\",\\\"46000.0\\\",\\\"46100.0\\\",\\\"46200.0\\\",\\\"46300.0\\\",\\\"46400.0\\\",\\\"46500.0\\\",\\\"46600.0\\\",\\\"46700.0\\\",\\\"46800.0\\\",\\\"46900.0\\\",\\\"47000.0\\\",\\\"47100.0\\\",\\\"47200.0\\\",\\\"47300.0\\\",\\\"47400.0\\\",\\\"47500.0\\\",\\\"47600.0\\\",\\\"47700.0\\\",\\\"47800.0\\\",\\\"47900.0\\\",\\\"48000.0\\\",\\\"48100.0\\\",\\\"48200.0\\\",\\\"48300.0\\\",\\\"48400.0\\\",\\\"48500.0\\\",\\\"48600.0\\\",\\\"48700.0\\\",\\\"48800.0\\\",\\\"48900.0\\\",\\\"49000.0\\\",\\\"49100.0\\\",\\\"49200.0\\\",\\\"49300.0\\\",\\\"49400.0\\\",\\\"49500.0\\\",\\\"49600.0\\\",\\\"49700.0\\\",\\\"49800.0\\\",\\\"49900.0\\\",\\\"50000.0\\\"],\\\"changes\\\":WebIO.getval({\\\"name\\\":\\\"changes\\\",\\\"scope\\\":\\\"390152884006693710\\\",\\\"id\\\":\\\"10537923239805161659\\\",\\\"type\\\":\\\"observable\\\"}),\\\"index\\\":WebIO.getval({\\\"name\\\":\\\"index\\\",\\\"scope\\\":\\\"390152884006693710\\\",\\\"id\\\":\\\"369996787126156768\\\",\\\"type\\\":\\\"observable\\\"})};\\n    var self = this;\\n    function AppViewModel() {\\n        for (var key in json_data) {\\n            var el = json_data[key];\\n            this[key] = Array.isArray(el) ? ko.observableArray(el) : ko.observable(el);\\n        }\\n        \\n        [this[\\\"formatted_val\\\"]=ko.computed(    function(){\\n        return this.formatted_vals()[parseInt(this.index())-(1)];\\n    }\\n,this)]\\n        [this[\\\"changes\\\"].subscribe((function (val){!(this.valueFromJulia[\\\"changes\\\"]) ? (WebIO.setval({\\\"name\\\":\\\"changes\\\",\\\"scope\\\":\\\"390152884006693710\\\",\\\"id\\\":\\\"10537923239805161659\\\",\\\"type\\\":\\\"observable\\\"},val)) : undefined; return this.valueFromJulia[\\\"changes\\\"]=false}),self),this[\\\"index\\\"].subscribe((function (val){!(this.valueFromJulia[\\\"index\\\"]) ? (WebIO.setval({\\\"name\\\":\\\"index\\\",\\\"scope\\\":\\\"390152884006693710\\\",\\\"id\\\":\\\"369996787126156768\\\",\\\"type\\\":\\\"observable\\\"},val)) : undefined; return this.valueFromJulia[\\\"index\\\"]=false}),self)]\\n        \\n    }\\n    self.model = new AppViewModel();\\n    self.valueFromJulia = {};\\n    for (var key in json_data) {\\n        self.valueFromJulia[key] = false;\\n    }\\n    ko.applyBindings(self.model, self.dom);\\n}\\n);\\n    (WebIO.importBlock({\\\"data\\\":[{\\\"name\\\":\\\"knockout\\\",\\\"type\\\":\\\"js\\\",\\\"url\\\":\\\"/assetserver/10d708ba80251634938ce239226941fe03559024-knockout.js\\\"},{\\\"name\\\":\\\"knockout_punches\\\",\\\"type\\\":\\\"js\\\",\\\"url\\\":\\\"/assetserver/dfe40853171940bd9da9c6b86f9757768070aa9d-knockout_punches.js\\\"}],\\\"type\\\":\\\"async_block\\\"})).then((imports) => handler.apply(this, imports));\\n}\\n\")])], Dict{Symbol,Any}(:className => \"field interact-widget\")), Node{WebIO.DOM}(WebIO.DOM(:html, :div), Any[Scope(Node{WebIO.DOM}(WebIO.DOM(:html, :div), Any[Node{WebIO.DOM}(WebIO.DOM(:html, :div), Any[Node{WebIO.DOM}(WebIO.DOM(:html, :label), Any[\"windows_minutes\"], Dict{Symbol,Any}(:className => \"interact \",:style => Dict{Any,Any}(:padding => \"5px 10px 0px 10px\")))], Dict{Symbol,Any}(:className => \"interact-flex-row-left\")), Node{WebIO.DOM}(WebIO.DOM(:html, :div), Any[Node{WebIO.DOM}(WebIO.DOM(:html, :input), Any[], Dict{Symbol,Any}(:max => 501,:min => 1,:attributes => Dict{Any,Any}(:type => \"range\",Symbol(\"data-bind\") => \"numericValue: index, valueUpdate: 'input', event: {change: function (){this.changes(this.changes()+1)}}\",\"orient\" => \"horizontal\"),:step => 1,:className => \"slider slider is-fullwidth\",:style => Dict{Any,Any}()))], Dict{Symbol,Any}(:className => \"interact-flex-row-center\")), Node{WebIO.DOM}(WebIO.DOM(:html, :div), Any[Node{WebIO.DOM}(WebIO.DOM(:html, :p), Any[], Dict{Symbol,Any}(:attributes => Dict(\"data-bind\" => \"text: formatted_val\")))], Dict{Symbol,Any}(:className => \"interact-flex-row-right\"))], Dict{Symbol,Any}(:className => \"interact-flex-row interact-widget\")), Dict{String,Tuple{Observables.AbstractObservable,Union{Nothing, Bool}}}(\"changes\" => (Observable{Int64} with 1 listeners. Value:\n",
       "0, nothing),\"index\" => (Observable{Any} with 2 listeners. Value:\n",
       "251, nothing)), Set{String}(), nothing, Asset[Asset(\"js\", \"knockout\", \"/home/mose/.julia/packages/Knockout/IP1uR/src/../assets/knockout.js\"), Asset(\"js\", \"knockout_punches\", \"/home/mose/.julia/packages/Knockout/IP1uR/src/../assets/knockout_punches.js\"), Asset(\"js\", nothing, \"/home/mose/.julia/packages/InteractBase/sOe2Z/src/../assets/all.js\"), Asset(\"css\", nothing, \"/home/mose/.julia/packages/InteractBase/sOe2Z/src/../assets/style.css\"), Asset(\"css\", nothing, \"/home/mose/.julia/packages/Interact/SbgIk/src/../assets/bulma_confined.min.css\")], Dict{Any,Any}(\"changes\" => Any[WebIO.JSString(\"(function (val){return (val!=this.model[\\\"changes\\\"]()) ? (this.valueFromJulia[\\\"changes\\\"]=true, this.model[\\\"changes\\\"](val)) : undefined})\")],\"index\" => Any[WebIO.JSString(\"(function (val){return (val!=this.model[\\\"index\\\"]()) ? (this.valueFromJulia[\\\"index\\\"]=true, this.model[\\\"index\\\"](val)) : undefined})\")]), WebIO.ConnectionPool(Channel{Any}(sz_max:32,sz_curr:0), Set{AbstractConnection}(), Base.GenericCondition{Base.AlwaysLockedST}(Base.InvasiveLinkedList{Task}(Task (runnable) @0x00007f60940cd870, Task (runnable) @0x00007f60940cd870), Base.AlwaysLockedST(1))), WebIO.JSString[WebIO.JSString(\"function () {\\n    var handler = (function (ko, koPunches) {\\n    ko.punches.enableAll();\\n    ko.bindingHandlers.numericValue = {\\n        init: function(element, valueAccessor, allBindings, data, context) {\\n            var stringified = ko.observable(ko.unwrap(valueAccessor()));\\n            stringified.subscribe(function(value) {\\n                var val = parseFloat(value);\\n                if (!isNaN(val)) {\\n                    valueAccessor()(val);\\n                }\\n            });\\n            valueAccessor().subscribe(function(value) {\\n                var str = JSON.stringify(value);\\n                if ((str == \\\"0\\\") && ([\\\"-0\\\", \\\"-0.\\\"].indexOf(stringified()) >= 0))\\n                     return;\\n                 if ([\\\"null\\\", \\\"\\\"].indexOf(str) >= 0)\\n                     return;\\n                stringified(str);\\n            });\\n            ko.applyBindingsToNode(\\n                element,\\n                {\\n                    value: stringified,\\n                    valueUpdate: allBindings.get('valueUpdate'),\\n                },\\n                context,\\n            );\\n        }\\n    };\\n    var json_data = {\\\"formatted_vals\\\":[\\\"0.0\\\",\\\"100.0\\\",\\\"200.0\\\",\\\"300.0\\\",\\\"400.0\\\",\\\"500.0\\\",\\\"600.0\\\",\\\"700.0\\\",\\\"800.0\\\",\\\"900.0\\\",\\\"1000.0\\\",\\\"1100.0\\\",\\\"1200.0\\\",\\\"1300.0\\\",\\\"1400.0\\\",\\\"1500.0\\\",\\\"1600.0\\\",\\\"1700.0\\\",\\\"1800.0\\\",\\\"1900.0\\\",\\\"2000.0\\\",\\\"2100.0\\\",\\\"2200.0\\\",\\\"2300.0\\\",\\\"2400.0\\\",\\\"2500.0\\\",\\\"2600.0\\\",\\\"2700.0\\\",\\\"2800.0\\\",\\\"2900.0\\\",\\\"3000.0\\\",\\\"3100.0\\\",\\\"3200.0\\\",\\\"3300.0\\\",\\\"3400.0\\\",\\\"3500.0\\\",\\\"3600.0\\\",\\\"3700.0\\\",\\\"3800.0\\\",\\\"3900.0\\\",\\\"4000.0\\\",\\\"4100.0\\\",\\\"4200.0\\\",\\\"4300.0\\\",\\\"4400.0\\\",\\\"4500.0\\\",\\\"4600.0\\\",\\\"4700.0\\\",\\\"4800.0\\\",\\\"4900.0\\\",\\\"5000.0\\\",\\\"5100.0\\\",\\\"5200.0\\\",\\\"5300.0\\\",\\\"5400.0\\\",\\\"5500.0\\\",\\\"5600.0\\\",\\\"5700.0\\\",\\\"5800.0\\\",\\\"5900.0\\\",\\\"6000.0\\\",\\\"6100.0\\\",\\\"6200.0\\\",\\\"6300.0\\\",\\\"6400.0\\\",\\\"6500.0\\\",\\\"6600.0\\\",\\\"6700.0\\\",\\\"6800.0\\\",\\\"6900.0\\\",\\\"7000.0\\\",\\\"7100.0\\\",\\\"7200.0\\\",\\\"7300.0\\\",\\\"7400.0\\\",\\\"7500.0\\\",\\\"7600.0\\\",\\\"7700.0\\\",\\\"7800.0\\\",\\\"7900.0\\\",\\\"8000.0\\\",\\\"8100.0\\\",\\\"8200.0\\\",\\\"8300.0\\\",\\\"8400.0\\\",\\\"8500.0\\\",\\\"8600.0\\\",\\\"8700.0\\\",\\\"8800.0\\\",\\\"8900.0\\\",\\\"9000.0\\\",\\\"9100.0\\\",\\\"9200.0\\\",\\\"9300.0\\\",\\\"9400.0\\\",\\\"9500.0\\\",\\\"9600.0\\\",\\\"9700.0\\\",\\\"9800.0\\\",\\\"9900.0\\\",\\\"10000.0\\\",\\\"10100.0\\\",\\\"10200.0\\\",\\\"10300.0\\\",\\\"10400.0\\\",\\\"10500.0\\\",\\\"10600.0\\\",\\\"10700.0\\\",\\\"10800.0\\\",\\\"10900.0\\\",\\\"11000.0\\\",\\\"11100.0\\\",\\\"11200.0\\\",\\\"11300.0\\\",\\\"11400.0\\\",\\\"11500.0\\\",\\\"11600.0\\\",\\\"11700.0\\\",\\\"11800.0\\\",\\\"11900.0\\\",\\\"12000.0\\\",\\\"12100.0\\\",\\\"12200.0\\\",\\\"12300.0\\\",\\\"12400.0\\\",\\\"12500.0\\\",\\\"12600.0\\\",\\\"12700.0\\\",\\\"12800.0\\\",\\\"12900.0\\\",\\\"13000.0\\\",\\\"13100.0\\\",\\\"13200.0\\\",\\\"13300.0\\\",\\\"13400.0\\\",\\\"13500.0\\\",\\\"13600.0\\\",\\\"13700.0\\\",\\\"13800.0\\\",\\\"13900.0\\\",\\\"14000.0\\\",\\\"14100.0\\\",\\\"14200.0\\\",\\\"14300.0\\\",\\\"14400.0\\\",\\\"14500.0\\\",\\\"14600.0\\\",\\\"14700.0\\\",\\\"14800.0\\\",\\\"14900.0\\\",\\\"15000.0\\\",\\\"15100.0\\\",\\\"15200.0\\\",\\\"15300.0\\\",\\\"15400.0\\\",\\\"15500.0\\\",\\\"15600.0\\\",\\\"15700.0\\\",\\\"15800.0\\\",\\\"15900.0\\\",\\\"16000.0\\\",\\\"16100.0\\\",\\\"16200.0\\\",\\\"16300.0\\\",\\\"16400.0\\\",\\\"16500.0\\\",\\\"16600.0\\\",\\\"16700.0\\\",\\\"16800.0\\\",\\\"16900.0\\\",\\\"17000.0\\\",\\\"17100.0\\\",\\\"17200.0\\\",\\\"17300.0\\\",\\\"17400.0\\\",\\\"17500.0\\\",\\\"17600.0\\\",\\\"17700.0\\\",\\\"17800.0\\\",\\\"17900.0\\\",\\\"18000.0\\\",\\\"18100.0\\\",\\\"18200.0\\\",\\\"18300.0\\\",\\\"18400.0\\\",\\\"18500.0\\\",\\\"18600.0\\\",\\\"18700.0\\\",\\\"18800.0\\\",\\\"18900.0\\\",\\\"19000.0\\\",\\\"19100.0\\\",\\\"19200.0\\\",\\\"19300.0\\\",\\\"19400.0\\\",\\\"19500.0\\\",\\\"19600.0\\\",\\\"19700.0\\\",\\\"19800.0\\\",\\\"19900.0\\\",\\\"20000.0\\\",\\\"20100.0\\\",\\\"20200.0\\\",\\\"20300.0\\\",\\\"20400.0\\\",\\\"20500.0\\\",\\\"20600.0\\\",\\\"20700.0\\\",\\\"20800.0\\\",\\\"20900.0\\\",\\\"21000.0\\\",\\\"21100.0\\\",\\\"21200.0\\\",\\\"21300.0\\\",\\\"21400.0\\\",\\\"21500.0\\\",\\\"21600.0\\\",\\\"21700.0\\\",\\\"21800.0\\\",\\\"21900.0\\\",\\\"22000.0\\\",\\\"22100.0\\\",\\\"22200.0\\\",\\\"22300.0\\\",\\\"22400.0\\\",\\\"22500.0\\\",\\\"22600.0\\\",\\\"22700.0\\\",\\\"22800.0\\\",\\\"22900.0\\\",\\\"23000.0\\\",\\\"23100.0\\\",\\\"23200.0\\\",\\\"23300.0\\\",\\\"23400.0\\\",\\\"23500.0\\\",\\\"23600.0\\\",\\\"23700.0\\\",\\\"23800.0\\\",\\\"23900.0\\\",\\\"24000.0\\\",\\\"24100.0\\\",\\\"24200.0\\\",\\\"24300.0\\\",\\\"24400.0\\\",\\\"24500.0\\\",\\\"24600.0\\\",\\\"24700.0\\\",\\\"24800.0\\\",\\\"24900.0\\\",\\\"25000.0\\\",\\\"25100.0\\\",\\\"25200.0\\\",\\\"25300.0\\\",\\\"25400.0\\\",\\\"25500.0\\\",\\\"25600.0\\\",\\\"25700.0\\\",\\\"25800.0\\\",\\\"25900.0\\\",\\\"26000.0\\\",\\\"26100.0\\\",\\\"26200.0\\\",\\\"26300.0\\\",\\\"26400.0\\\",\\\"26500.0\\\",\\\"26600.0\\\",\\\"26700.0\\\",\\\"26800.0\\\",\\\"26900.0\\\",\\\"27000.0\\\",\\\"27100.0\\\",\\\"27200.0\\\",\\\"27300.0\\\",\\\"27400.0\\\",\\\"27500.0\\\",\\\"27600.0\\\",\\\"27700.0\\\",\\\"27800.0\\\",\\\"27900.0\\\",\\\"28000.0\\\",\\\"28100.0\\\",\\\"28200.0\\\",\\\"28300.0\\\",\\\"28400.0\\\",\\\"28500.0\\\",\\\"28600.0\\\",\\\"28700.0\\\",\\\"28800.0\\\",\\\"28900.0\\\",\\\"29000.0\\\",\\\"29100.0\\\",\\\"29200.0\\\",\\\"29300.0\\\",\\\"29400.0\\\",\\\"29500.0\\\",\\\"29600.0\\\",\\\"29700.0\\\",\\\"29800.0\\\",\\\"29900.0\\\",\\\"30000.0\\\",\\\"30100.0\\\",\\\"30200.0\\\",\\\"30300.0\\\",\\\"30400.0\\\",\\\"30500.0\\\",\\\"30600.0\\\",\\\"30700.0\\\",\\\"30800.0\\\",\\\"30900.0\\\",\\\"31000.0\\\",\\\"31100.0\\\",\\\"31200.0\\\",\\\"31300.0\\\",\\\"31400.0\\\",\\\"31500.0\\\",\\\"31600.0\\\",\\\"31700.0\\\",\\\"31800.0\\\",\\\"31900.0\\\",\\\"32000.0\\\",\\\"32100.0\\\",\\\"32200.0\\\",\\\"32300.0\\\",\\\"32400.0\\\",\\\"32500.0\\\",\\\"32600.0\\\",\\\"32700.0\\\",\\\"32800.0\\\",\\\"32900.0\\\",\\\"33000.0\\\",\\\"33100.0\\\",\\\"33200.0\\\",\\\"33300.0\\\",\\\"33400.0\\\",\\\"33500.0\\\",\\\"33600.0\\\",\\\"33700.0\\\",\\\"33800.0\\\",\\\"33900.0\\\",\\\"34000.0\\\",\\\"34100.0\\\",\\\"34200.0\\\",\\\"34300.0\\\",\\\"34400.0\\\",\\\"34500.0\\\",\\\"34600.0\\\",\\\"34700.0\\\",\\\"34800.0\\\",\\\"34900.0\\\",\\\"35000.0\\\",\\\"35100.0\\\",\\\"35200.0\\\",\\\"35300.0\\\",\\\"35400.0\\\",\\\"35500.0\\\",\\\"35600.0\\\",\\\"35700.0\\\",\\\"35800.0\\\",\\\"35900.0\\\",\\\"36000.0\\\",\\\"36100.0\\\",\\\"36200.0\\\",\\\"36300.0\\\",\\\"36400.0\\\",\\\"36500.0\\\",\\\"36600.0\\\",\\\"36700.0\\\",\\\"36800.0\\\",\\\"36900.0\\\",\\\"37000.0\\\",\\\"37100.0\\\",\\\"37200.0\\\",\\\"37300.0\\\",\\\"37400.0\\\",\\\"37500.0\\\",\\\"37600.0\\\",\\\"37700.0\\\",\\\"37800.0\\\",\\\"37900.0\\\",\\\"38000.0\\\",\\\"38100.0\\\",\\\"38200.0\\\",\\\"38300.0\\\",\\\"38400.0\\\",\\\"38500.0\\\",\\\"38600.0\\\",\\\"38700.0\\\",\\\"38800.0\\\",\\\"38900.0\\\",\\\"39000.0\\\",\\\"39100.0\\\",\\\"39200.0\\\",\\\"39300.0\\\",\\\"39400.0\\\",\\\"39500.0\\\",\\\"39600.0\\\",\\\"39700.0\\\",\\\"39800.0\\\",\\\"39900.0\\\",\\\"40000.0\\\",\\\"40100.0\\\",\\\"40200.0\\\",\\\"40300.0\\\",\\\"40400.0\\\",\\\"40500.0\\\",\\\"40600.0\\\",\\\"40700.0\\\",\\\"40800.0\\\",\\\"40900.0\\\",\\\"41000.0\\\",\\\"41100.0\\\",\\\"41200.0\\\",\\\"41300.0\\\",\\\"41400.0\\\",\\\"41500.0\\\",\\\"41600.0\\\",\\\"41700.0\\\",\\\"41800.0\\\",\\\"41900.0\\\",\\\"42000.0\\\",\\\"42100.0\\\",\\\"42200.0\\\",\\\"42300.0\\\",\\\"42400.0\\\",\\\"42500.0\\\",\\\"42600.0\\\",\\\"42700.0\\\",\\\"42800.0\\\",\\\"42900.0\\\",\\\"43000.0\\\",\\\"43100.0\\\",\\\"43200.0\\\",\\\"43300.0\\\",\\\"43400.0\\\",\\\"43500.0\\\",\\\"43600.0\\\",\\\"43700.0\\\",\\\"43800.0\\\",\\\"43900.0\\\",\\\"44000.0\\\",\\\"44100.0\\\",\\\"44200.0\\\",\\\"44300.0\\\",\\\"44400.0\\\",\\\"44500.0\\\",\\\"44600.0\\\",\\\"44700.0\\\",\\\"44800.0\\\",\\\"44900.0\\\",\\\"45000.0\\\",\\\"45100.0\\\",\\\"45200.0\\\",\\\"45300.0\\\",\\\"45400.0\\\",\\\"45500.0\\\",\\\"45600.0\\\",\\\"45700.0\\\",\\\"45800.0\\\",\\\"45900.0\\\",\\\"46000.0\\\",\\\"46100.0\\\",\\\"46200.0\\\",\\\"46300.0\\\",\\\"46400.0\\\",\\\"46500.0\\\",\\\"46600.0\\\",\\\"46700.0\\\",\\\"46800.0\\\",\\\"46900.0\\\",\\\"47000.0\\\",\\\"47100.0\\\",\\\"47200.0\\\",\\\"47300.0\\\",\\\"47400.0\\\",\\\"47500.0\\\",\\\"47600.0\\\",\\\"47700.0\\\",\\\"47800.0\\\",\\\"47900.0\\\",\\\"48000.0\\\",\\\"48100.0\\\",\\\"48200.0\\\",\\\"48300.0\\\",\\\"48400.0\\\",\\\"48500.0\\\",\\\"48600.0\\\",\\\"48700.0\\\",\\\"48800.0\\\",\\\"48900.0\\\",\\\"49000.0\\\",\\\"49100.0\\\",\\\"49200.0\\\",\\\"49300.0\\\",\\\"49400.0\\\",\\\"49500.0\\\",\\\"49600.0\\\",\\\"49700.0\\\",\\\"49800.0\\\",\\\"49900.0\\\",\\\"50000.0\\\"],\\\"changes\\\":WebIO.getval({\\\"name\\\":\\\"changes\\\",\\\"scope\\\":\\\"7868247203926303252\\\",\\\"id\\\":\\\"16451476737452117324\\\",\\\"type\\\":\\\"observable\\\"}),\\\"index\\\":WebIO.getval({\\\"name\\\":\\\"index\\\",\\\"scope\\\":\\\"7868247203926303252\\\",\\\"id\\\":\\\"11377647478939667161\\\",\\\"type\\\":\\\"observable\\\"})};\\n    var self = this;\\n    function AppViewModel() {\\n        for (var key in json_data) {\\n            var el = json_data[key];\\n            this[key] = Array.isArray(el) ? ko.observableArray(el) : ko.observable(el);\\n        }\\n        \\n        [this[\\\"formatted_val\\\"]=ko.computed(    function(){\\n        return this.formatted_vals()[parseInt(this.index())-(1)];\\n    }\\n,this)]\\n        [this[\\\"changes\\\"].subscribe((function (val){!(this.valueFromJulia[\\\"changes\\\"]) ? (WebIO.setval({\\\"name\\\":\\\"changes\\\",\\\"scope\\\":\\\"7868247203926303252\\\",\\\"id\\\":\\\"16451476737452117324\\\",\\\"type\\\":\\\"observable\\\"},val)) : undefined; return this.valueFromJulia[\\\"changes\\\"]=false}),self),this[\\\"index\\\"].subscribe((function (val){!(this.valueFromJulia[\\\"index\\\"]) ? (WebIO.setval({\\\"name\\\":\\\"index\\\",\\\"scope\\\":\\\"7868247203926303252\\\",\\\"id\\\":\\\"11377647478939667161\\\",\\\"type\\\":\\\"observable\\\"},val)) : undefined; return this.valueFromJulia[\\\"index\\\"]=false}),self)]\\n        \\n    }\\n    self.model = new AppViewModel();\\n    self.valueFromJulia = {};\\n    for (var key in json_data) {\\n        self.valueFromJulia[key] = false;\\n    }\\n    ko.applyBindings(self.model, self.dom);\\n}\\n);\\n    (WebIO.importBlock({\\\"data\\\":[{\\\"name\\\":\\\"knockout\\\",\\\"type\\\":\\\"js\\\",\\\"url\\\":\\\"/assetserver/10d708ba80251634938ce239226941fe03559024-knockout.js\\\"},{\\\"name\\\":\\\"knockout_punches\\\",\\\"type\\\":\\\"js\\\",\\\"url\\\":\\\"/assetserver/dfe40853171940bd9da9c6b86f9757768070aa9d-knockout_punches.js\\\"}],\\\"type\\\":\\\"async_block\\\"})).then((imports) => handler.apply(this, imports));\\n}\\n\")])], Dict{Symbol,Any}(:className => \"field interact-widget\")), Node{WebIO.DOM}(WebIO.DOM(:html, :div), Any[Scope(Node{WebIO.DOM}(WebIO.DOM(:html, :div), Any[Node{WebIO.DOM}(WebIO.DOM(:html, :div), Any[Node{WebIO.DOM}(WebIO.DOM(:html, :input), Any[], Dict{Symbol,Any}(:attributes => Dict{String,Any}(\"name\" => Symbol(\"##253\"),\"type\" => \"radio\",\"data-bind\" => \"checked : \\$root.index, checkedValue: val, attr : {id : id}\"),:className => \"is-checkradio \")), Node{WebIO.DOM}(WebIO.DOM(:html, :label), Any[], Dict{Symbol,Any}(:attributes => Dict(\"data-bind\" => \"text : key, attr : {for : id}\")))], Dict{Symbol,Any}(:className => \"field\"))], Dict{Symbol,Any}(:attributes => Dict(\"data-bind\" => \"foreach : options_js\"),:className => :field)), Dict{String,Tuple{Observables.AbstractObservable,Union{Nothing, Bool}}}(\"options_js\" => (Observable{Any} with 1 listeners. Value:\n",
       "OrderedDict[OrderedDict{String,Any}(\"key\" => \"1 Travis job\",\"val\" => 1,\"id\" => \"idxVPz61lb\"), OrderedDict{String,Any}(\"key\" => \"2 Travis jobs\",\"val\" => 2,\"id\" => \"idTN9hmOfe\"), OrderedDict{String,Any}(\"key\" => \"5 Travis jobs\",\"val\" => 3,\"id\" => \"idtyNtNYxi\")], nothing),\"index\" => (Observable{Any} with 2 listeners. Value:\n",
       "3, nothing)), Set{String}(), nothing, Asset[Asset(\"js\", \"knockout\", \"/home/mose/.julia/packages/Knockout/IP1uR/src/../assets/knockout.js\"), Asset(\"js\", \"knockout_punches\", \"/home/mose/.julia/packages/Knockout/IP1uR/src/../assets/knockout_punches.js\"), Asset(\"js\", nothing, \"/home/mose/.julia/packages/InteractBase/sOe2Z/src/../assets/all.js\"), Asset(\"css\", nothing, \"/home/mose/.julia/packages/InteractBase/sOe2Z/src/../assets/style.css\"), Asset(\"css\", nothing, \"/home/mose/.julia/packages/Interact/SbgIk/src/../assets/bulma_confined.min.css\")], Dict{Any,Any}(\"options_js\" => Any[WebIO.JSString(\"(function (val){return (val!=this.model[\\\"options_js\\\"]()) ? (this.valueFromJulia[\\\"options_js\\\"]=true, this.model[\\\"options_js\\\"](val)) : undefined})\")],\"index\" => Any[WebIO.JSString(\"(function (val){return (val!=this.model[\\\"index\\\"]()) ? (this.valueFromJulia[\\\"index\\\"]=true, this.model[\\\"index\\\"](val)) : undefined})\")]), WebIO.ConnectionPool(Channel{Any}(sz_max:32,sz_curr:0), Set{AbstractConnection}(), Base.GenericCondition{Base.AlwaysLockedST}(Base.InvasiveLinkedList{Task}(Task (runnable) @0x00007f609406a980, Task (runnable) @0x00007f609406a980), Base.AlwaysLockedST(1))), WebIO.JSString[WebIO.JSString(\"function () {\\n    var handler = (function (ko, koPunches) {\\n    ko.punches.enableAll();\\n    ko.bindingHandlers.numericValue = {\\n        init: function(element, valueAccessor, allBindings, data, context) {\\n            var stringified = ko.observable(ko.unwrap(valueAccessor()));\\n            stringified.subscribe(function(value) {\\n                var val = parseFloat(value);\\n                if (!isNaN(val)) {\\n                    valueAccessor()(val);\\n                }\\n            });\\n            valueAccessor().subscribe(function(value) {\\n                var str = JSON.stringify(value);\\n                if ((str == \\\"0\\\") && ([\\\"-0\\\", \\\"-0.\\\"].indexOf(stringified()) >= 0))\\n                     return;\\n                 if ([\\\"null\\\", \\\"\\\"].indexOf(str) >= 0)\\n                     return;\\n                stringified(str);\\n            });\\n            ko.applyBindingsToNode(\\n                element,\\n                {\\n                    value: stringified,\\n                    valueUpdate: allBindings.get('valueUpdate'),\\n                },\\n                context,\\n            );\\n        }\\n    };\\n    var json_data = {\\\"options_js\\\":WebIO.getval({\\\"name\\\":\\\"options_js\\\",\\\"scope\\\":\\\"16344523878052437837\\\",\\\"id\\\":\\\"11078067683368956221\\\",\\\"type\\\":\\\"observable\\\"}),\\\"index\\\":WebIO.getval({\\\"name\\\":\\\"index\\\",\\\"scope\\\":\\\"16344523878052437837\\\",\\\"id\\\":\\\"2770775303165687227\\\",\\\"type\\\":\\\"observable\\\"})};\\n    var self = this;\\n    function AppViewModel() {\\n        for (var key in json_data) {\\n            var el = json_data[key];\\n            this[key] = Array.isArray(el) ? ko.observableArray(el) : ko.observable(el);\\n        }\\n        \\n        \\n        [this[\\\"options_js\\\"].subscribe((function (val){!(this.valueFromJulia[\\\"options_js\\\"]) ? (WebIO.setval({\\\"name\\\":\\\"options_js\\\",\\\"scope\\\":\\\"16344523878052437837\\\",\\\"id\\\":\\\"11078067683368956221\\\",\\\"type\\\":\\\"observable\\\"},val)) : undefined; return this.valueFromJulia[\\\"options_js\\\"]=false}),self),this[\\\"index\\\"].subscribe((function (val){!(this.valueFromJulia[\\\"index\\\"]) ? (WebIO.setval({\\\"name\\\":\\\"index\\\",\\\"scope\\\":\\\"16344523878052437837\\\",\\\"id\\\":\\\"2770775303165687227\\\",\\\"type\\\":\\\"observable\\\"},val)) : undefined; return this.valueFromJulia[\\\"index\\\"]=false}),self)]\\n        \\n    }\\n    self.model = new AppViewModel();\\n    self.valueFromJulia = {};\\n    for (var key in json_data) {\\n        self.valueFromJulia[key] = false;\\n    }\\n    ko.applyBindings(self.model, self.dom);\\n}\\n);\\n    (WebIO.importBlock({\\\"data\\\":[{\\\"name\\\":\\\"knockout\\\",\\\"type\\\":\\\"js\\\",\\\"url\\\":\\\"/assetserver/10d708ba80251634938ce239226941fe03559024-knockout.js\\\"},{\\\"name\\\":\\\"knockout_punches\\\",\\\"type\\\":\\\"js\\\",\\\"url\\\":\\\"/assetserver/dfe40853171940bd9da9c6b86f9757768070aa9d-knockout_punches.js\\\"}],\\\"type\\\":\\\"async_block\\\"})).then((imports) => handler.apply(this, imports));\\n}\\n\")])], Dict{Symbol,Any}(:className => \"field interact-widget\")), Node{WebIO.DOM}(WebIO.DOM(:html, :div), Any[Scope(Node{WebIO.DOM}(WebIO.DOM(:html, :div), Any[Node{WebIO.DOM}(WebIO.DOM(:html, :div), Any[Node{WebIO.DOM}(WebIO.DOM(:html, :input), Any[], Dict{Symbol,Any}(:attributes => Dict{String,Any}(\"name\" => Symbol(\"##254\"),\"type\" => \"radio\",\"data-bind\" => \"checked : \\$root.index, checkedValue: val, attr : {id : id}\"),:className => \"is-checkradio \")), Node{WebIO.DOM}(WebIO.DOM(:html, :label), Any[], Dict{Symbol,Any}(:attributes => Dict(\"data-bind\" => \"text : key, attr : {for : id}\")))], Dict{Symbol,Any}(:className => \"field\"))], Dict{Symbol,Any}(:attributes => Dict(\"data-bind\" => \"foreach : options_js\"),:className => :field)), Dict{String,Tuple{Observables.AbstractObservable,Union{Nothing, Bool}}}(\"options_js\" => (Observable{Any} with 1 listeners. Value:\n",
       "OrderedDict[OrderedDict{String,Any}(\"key\" => \"GitHub Actions Team\",\"val\" => 1,\"id\" => \"idwgLlpBBi\"), OrderedDict{String,Any}(\"key\" => \"GitHub Actions Enterprise\",\"val\" => 2,\"id\" => \"idYdJKyv9s\"), OrderedDict{String,Any}(\"key\" => \"GitHub Actions Free\",\"val\" => 3,\"id\" => \"idHYHX66rG\"), OrderedDict{String,Any}(\"key\" => \"GitHub Actions Pro\",\"val\" => 4,\"id\" => \"id5F0CT9Lj\")], nothing),\"index\" => (Observable{Any} with 2 listeners. Value:\n",
       "1, nothing)), Set{String}(), nothing, Asset[Asset(\"js\", \"knockout\", \"/home/mose/.julia/packages/Knockout/IP1uR/src/../assets/knockout.js\"), Asset(\"js\", \"knockout_punches\", \"/home/mose/.julia/packages/Knockout/IP1uR/src/../assets/knockout_punches.js\"), Asset(\"js\", nothing, \"/home/mose/.julia/packages/InteractBase/sOe2Z/src/../assets/all.js\"), Asset(\"css\", nothing, \"/home/mose/.julia/packages/InteractBase/sOe2Z/src/../assets/style.css\"), Asset(\"css\", nothing, \"/home/mose/.julia/packages/Interact/SbgIk/src/../assets/bulma_confined.min.css\")], Dict{Any,Any}(\"options_js\" => Any[WebIO.JSString(\"(function (val){return (val!=this.model[\\\"options_js\\\"]()) ? (this.valueFromJulia[\\\"options_js\\\"]=true, this.model[\\\"options_js\\\"](val)) : undefined})\")],\"index\" => Any[WebIO.JSString(\"(function (val){return (val!=this.model[\\\"index\\\"]()) ? (this.valueFromJulia[\\\"index\\\"]=true, this.model[\\\"index\\\"](val)) : undefined})\")]), WebIO.ConnectionPool(Channel{Any}(sz_max:32,sz_curr:0), Set{AbstractConnection}(), Base.GenericCondition{Base.AlwaysLockedST}(Base.InvasiveLinkedList{Task}(Task (runnable) @0x00007f60c4b8ee60, Task (runnable) @0x00007f60c4b8ee60), Base.AlwaysLockedST(1))), WebIO.JSString[WebIO.JSString(\"function () {\\n    var handler = (function (ko, koPunches) {\\n    ko.punches.enableAll();\\n    ko.bindingHandlers.numericValue = {\\n        init: function(element, valueAccessor, allBindings, data, context) {\\n            var stringified = ko.observable(ko.unwrap(valueAccessor()));\\n            stringified.subscribe(function(value) {\\n                var val = parseFloat(value);\\n                if (!isNaN(val)) {\\n                    valueAccessor()(val);\\n                }\\n            });\\n            valueAccessor().subscribe(function(value) {\\n                var str = JSON.stringify(value);\\n                if ((str == \\\"0\\\") && ([\\\"-0\\\", \\\"-0.\\\"].indexOf(stringified()) >= 0))\\n                     return;\\n                 if ([\\\"null\\\", \\\"\\\"].indexOf(str) >= 0)\\n                     return;\\n                stringified(str);\\n            });\\n            ko.applyBindingsToNode(\\n                element,\\n                {\\n                    value: stringified,\\n                    valueUpdate: allBindings.get('valueUpdate'),\\n                },\\n                context,\\n            );\\n        }\\n    };\\n    var json_data = {\\\"options_js\\\":WebIO.getval({\\\"name\\\":\\\"options_js\\\",\\\"scope\\\":\\\"13345270099135890168\\\",\\\"id\\\":\\\"9334762623407892471\\\",\\\"type\\\":\\\"observable\\\"}),\\\"index\\\":WebIO.getval({\\\"name\\\":\\\"index\\\",\\\"scope\\\":\\\"13345270099135890168\\\",\\\"id\\\":\\\"10395346905800107457\\\",\\\"type\\\":\\\"observable\\\"})};\\n    var self = this;\\n    function AppViewModel() {\\n        for (var key in json_data) {\\n            var el = json_data[key];\\n            this[key] = Array.isArray(el) ? ko.observableArray(el) : ko.observable(el);\\n        }\\n        \\n        \\n        [this[\\\"options_js\\\"].subscribe((function (val){!(this.valueFromJulia[\\\"options_js\\\"]) ? (WebIO.setval({\\\"name\\\":\\\"options_js\\\",\\\"scope\\\":\\\"13345270099135890168\\\",\\\"id\\\":\\\"9334762623407892471\\\",\\\"type\\\":\\\"observable\\\"},val)) : undefined; return this.valueFromJulia[\\\"options_js\\\"]=false}),self),this[\\\"index\\\"].subscribe((function (val){!(this.valueFromJulia[\\\"index\\\"]) ? (WebIO.setval({\\\"name\\\":\\\"index\\\",\\\"scope\\\":\\\"13345270099135890168\\\",\\\"id\\\":\\\"10395346905800107457\\\",\\\"type\\\":\\\"observable\\\"},val)) : undefined; return this.valueFromJulia[\\\"index\\\"]=false}),self)]\\n        \\n    }\\n    self.model = new AppViewModel();\\n    self.valueFromJulia = {};\\n    for (var key in json_data) {\\n        self.valueFromJulia[key] = false;\\n    }\\n    ko.applyBindings(self.model, self.dom);\\n}\\n);\\n    (WebIO.importBlock({\\\"data\\\":[{\\\"name\\\":\\\"knockout\\\",\\\"type\\\":\\\"js\\\",\\\"url\\\":\\\"/assetserver/10d708ba80251634938ce239226941fe03559024-knockout.js\\\"},{\\\"name\\\":\\\"knockout_punches\\\",\\\"type\\\":\\\"js\\\",\\\"url\\\":\\\"/assetserver/dfe40853171940bd9da9c6b86f9757768070aa9d-knockout_punches.js\\\"}],\\\"type\\\":\\\"async_block\\\"})).then((imports) => handler.apply(this, imports));\\n}\\n\")])], Dict{Symbol,Any}(:className => \"field interact-widget\")), Observable{Any} with 0 listeners. Value:\n",
       "Node{WebIO.DOM}(WebIO.DOM(:html, :div), Any[Travis: 999.0$/month\n",
       "GitHub: 2496.0$/month\n",
       "], Dict{Symbol,Any}(:className => \"interact-flex-row interact-widget\"))], Dict{Symbol,Any}())"
      ]
     },
     "execution_count": 2,
     "metadata": {
      "application/vnd.webio.node+json": {
       "kernelId": "ffcea9dd-358a-4297-8d80-076aa6bdc161"
      }
     },
     "output_type": "execute_result"
    }
   ],
   "source": [
    "using Interact\n",
    "\n",
    "travis_wdg = radiobuttons(Observable(Dict(\"1 Travis job\" => 1, \"2 Travis jobs\" => 2, \"5 Travis jobs\" => 5)); \n",
    "    value=5)\n",
    "github_wdg = radiobuttons(Observable(Dict(\n",
    "            \"GitHub Actions Free\" => :free,\n",
    "            \"GitHub Actions Pro\" => :pro, \n",
    "            \"GitHub Actions Team\" => :team,\n",
    "            \"GitHub Actions Enterprise\" => :enterprise)); value=:team)\n",
    "\n",
    "minutes = 0.0:100.0:50000.0\n",
    "\n",
    "@manipulate for linux_minutes in minutes,\n",
    "    macos_minutes in minutes,\n",
    "    windows_minutes in minutes,\n",
    "    travis_jobs in travis_wdg,\n",
    "    github_plan in github_wdg\n",
    "\n",
    "    Summary(linux_minutes, macos_minutes, windows_minutes, travis_jobs, github_plan)\n",
    "end"
   ]
  }
 ],
 "metadata": {
  "@webio": {
   "lastCommId": "af1f9a4b0f4e4bd7b234f286d01f8567",
   "lastKernelId": "ffcea9dd-358a-4297-8d80-076aa6bdc161"
  },
  "kernelspec": {
   "display_name": "Julia 1.5.2",
   "language": "julia",
   "name": "julia-1.5"
  },
  "language_info": {
   "file_extension": ".jl",
   "mimetype": "application/julia",
   "name": "julia",
   "version": "1.5.2"
  }
 },
 "nbformat": 4,
 "nbformat_minor": 2
}
